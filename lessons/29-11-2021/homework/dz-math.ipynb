{
 "cells": [
  {
   "cell_type": "markdown",
   "metadata": {},
   "source": [
    "Эти задачки надо решать без помощи циклов, только средствами numpy"
   ]
  },
  {
   "cell_type": "code",
   "execution_count": 121,
   "metadata": {},
   "outputs": [],
   "source": [
    "import numpy as np"
   ]
  },
  {
   "cell_type": "markdown",
   "metadata": {},
   "source": [
    "1) Создать массив 10x10 со случайными значениями, найти минимум и максимум"
   ]
  },
  {
   "cell_type": "code",
   "execution_count": 53,
   "metadata": {},
   "outputs": [],
   "source": [
    "#N = 100\n",
    "points = np.random.uniform(0,10, size=(10, 10))"
   ]
  },
  {
   "cell_type": "code",
   "execution_count": 60,
   "metadata": {},
   "outputs": [
    {
     "data": {
      "text/plain": [
       "array([[1.35563729, 2.27962955, 9.12413764, 9.76500434, 9.03537834,\n",
       "        1.90917439, 2.50445757, 3.85427001, 1.76193111, 0.75291127],\n",
       "       [5.23075482, 3.89679746, 6.52551483, 9.35437254, 8.1122511 ,\n",
       "        1.59706211, 8.21114237, 4.59203202, 9.88112603, 4.43017211],\n",
       "       [6.41017509, 2.68431093, 3.72989588, 4.12055806, 6.16628963,\n",
       "        6.58782663, 8.78861247, 5.63390543, 7.18472804, 9.37551212],\n",
       "       [3.36432152, 9.09662872, 1.188783  , 6.25412925, 4.92983268,\n",
       "        6.67537375, 7.09019655, 3.47397535, 2.27856971, 1.31770577],\n",
       "       [1.11831546, 8.20281009, 4.22778638, 8.50563218, 7.51831025,\n",
       "        5.08502627, 0.42528283, 4.35307826, 8.6565148 , 3.73028393],\n",
       "       [6.08837717, 9.60343445, 0.05719975, 1.8412416 , 1.8809033 ,\n",
       "        3.29080946, 6.72361847, 2.95668372, 4.74797436, 8.79990253],\n",
       "       [3.16736772, 6.55404109, 9.78007859, 4.51006029, 7.7994427 ,\n",
       "        6.07253019, 8.04981616, 6.28175291, 0.56708965, 4.93052311],\n",
       "       [9.00791416, 4.40901725, 9.87685482, 8.65184609, 4.94785443,\n",
       "        9.21293806, 6.52983151, 9.38106132, 1.94736376, 4.09102028],\n",
       "       [4.3161051 , 5.93616789, 9.74945611, 9.45764824, 8.75401133,\n",
       "        8.05686983, 7.15023381, 6.93698135, 7.41994967, 4.09250432],\n",
       "       [0.06003377, 4.08012444, 1.96000778, 5.70556303, 7.62704147,\n",
       "        6.47344082, 3.52535573, 5.01655365, 1.07187127, 1.72176239]])"
      ]
     },
     "execution_count": 60,
     "metadata": {},
     "output_type": "execute_result"
    }
   ],
   "source": [
    "points"
   ]
  },
  {
   "cell_type": "code",
   "execution_count": 64,
   "metadata": {},
   "outputs": [
    {
     "data": {
      "text/plain": [
       "0.9801718274659189"
      ]
     },
     "execution_count": 64,
     "metadata": {},
     "output_type": "execute_result"
    }
   ],
   "source": [
    "mas.max()"
   ]
  },
  {
   "cell_type": "code",
   "execution_count": 65,
   "metadata": {},
   "outputs": [
    {
     "data": {
      "text/plain": [
       "0.03559145149763698"
      ]
     },
     "execution_count": 65,
     "metadata": {},
     "output_type": "execute_result"
    }
   ],
   "source": [
    "mas.min()"
   ]
  },
  {
   "cell_type": "code",
   "execution_count": null,
   "metadata": {},
   "outputs": [],
   "source": [
    "2) Заменить максимальный элемент на ноль в массиве"
   ]
  },
  {
   "cell_type": "code",
   "execution_count": 51,
   "metadata": {},
   "outputs": [],
   "source": [
    "mas = np.random.uniform(size=20)"
   ]
  },
  {
   "cell_type": "code",
   "execution_count": 55,
   "metadata": {},
   "outputs": [],
   "source": [
    "arr = list(range(1, 21))"
   ]
  },
  {
   "cell_type": "code",
   "execution_count": 56,
   "metadata": {},
   "outputs": [],
   "source": [
    "arr = [1, 2, 3, 4 ,5 ,6 ,7, 8, 9, 10, 11, 12, 13, 14, 15, 16, 17, 18, 19, 20]\n",
    "arr[19] = 0"
   ]
  },
  {
   "cell_type": "code",
   "execution_count": 57,
   "metadata": {},
   "outputs": [
    {
     "data": {
      "text/plain": [
       "[1, 2, 3, 4, 5, 6, 7, 8, 9, 10, 11, 12, 13, 14, 15, 16, 17, 18, 19, 0]"
      ]
     },
     "execution_count": 57,
     "metadata": {},
     "output_type": "execute_result"
    }
   ],
   "source": [
    "arr"
   ]
  },
  {
   "cell_type": "markdown",
   "metadata": {},
   "source": [
    "3) Найти след произведения двух матриц (сумму диагональных элементов)"
   ]
  },
  {
   "cell_type": "code",
   "execution_count": 3,
   "metadata": {},
   "outputs": [],
   "source": [
    "A = np.random.normal(size=(10, 5))\n",
    "B = np.random.normal(size=(5, 10))"
   ]
  },
  {
   "cell_type": "code",
   "execution_count": 71,
   "metadata": {},
   "outputs": [
    {
     "data": {
      "text/plain": [
       "100"
      ]
     },
     "execution_count": 71,
     "metadata": {},
     "output_type": "execute_result"
    }
   ],
   "source": [
    "A = [10,5]\n",
    "B = [5,10]\n",
    "np.dot(A,B)"
   ]
  },
  {
   "cell_type": "markdown",
   "metadata": {},
   "source": [
    "Далее можно использовать циклы, но по возможности лучше без них"
   ]
  },
  {
   "cell_type": "markdown",
   "metadata": {},
   "source": [
    "4) Построить графики \n",
    "\n",
    "    a) Нормального распределения ( с параметрами 0, 1)\n",
    "    б) Распределение Стьюдента ( n = 2, например )"
   ]
  },
  {
   "cell_type": "code",
   "execution_count": 130,
   "metadata": {},
   "outputs": [],
   "source": [
    "import matplotlib.pyplot as plt\n",
    "import seaborn as sns\n",
    "import scipy\n",
    "import pandas as pd\n",
    "from tqdm import tqdm\n",
    "\n",
    "%matplotlib inline\n",
    "sns.set()"
   ]
  },
  {
   "cell_type": "code",
   "execution_count": 139,
   "metadata": {},
   "outputs": [
    {
     "data": {
      "image/png": "[encoded data removed]",
      "text/plain": [
       "<Figure size 432x288 with 1 Axes>"
      ]
     },
     "metadata": {},
     "output_type": "display_data"
    }
   ],
   "source": [
    "from matplotlib import pyplot as plt   \n",
    "   \n",
    "import numpy as np   \n",
    "plt.style.use('fivethirtyeight')   \n",
    "   \n",
    "mu = 0   \n",
    "sigma = 7   \n",
    "x = np.random.normal(mu, sigma, size=200)   \n",
    "fig, ax = plt.subplots()   \n",
    "   \n",
    "ax.hist(x, 20)   \n",
    "  \n",
    "   \n",
    "fig.tight_layout()   \n",
    "plt.show()   \n"
   ]
  },
  {
   "cell_type": "code",
   "execution_count": 143,
   "metadata": {},
   "outputs": [
    {
     "data": {
      "image/png": "[encoded data removed]",
      "text/plain": [
       "<Figure size 432x288 with 1 Axes>"
      ]
     },
     "metadata": {},
     "output_type": "display_data"
    }
   ],
   "source": [
    "import matplotlib.pyplot as plt\n",
    "s = np.random.default_rng().standard_t(10, size=1000000)\n",
    "h = plt.hist(s, bins=100, density=True)"
   ]
  },
  {
   "cell_type": "markdown",
   "metadata": {},
   "source": [
    "5) Возьмите датасет из самой первой домашки (heart.csv), посчитайте попарные корреляции признаков (нужные функции есть в numpy, но удобнее использовать pandas для этих целей, там есть метод .corr у датафрейма)\n",
    "\n",
    "    Затем постройте heatmap полученной таблицы, heatmap есть в seaborn: https://seaborn.pydata.org/generated/seaborn.heatmap.html"
   ]
  },
  {
   "cell_type": "code",
   "execution_count": 156,
   "metadata": {},
   "outputs": [
    {
     "ename": "SyntaxError",
     "evalue": "(unicode error) 'unicodeescape' codec can't decode bytes in position 2-3: truncated \\UXXXXXXXX escape (Temp/ipykernel_17628/1738166935.py, line 2)",
     "output_type": "error",
     "traceback": [
      "\u001b[1;36m  File \u001b[1;32m\"C:\\Users\\fuzzy\\AppData\\Local\\Temp/ipykernel_17628/1738166935.py\"\u001b[1;36m, line \u001b[1;32m2\u001b[0m\n\u001b[1;33m    df = pd.read_csv('C:\\Users\\fuzzy\\Documents\\GitHub\\SPBGU-Analitics-2021\\homeworks\\itrushnikova\\22-11-2021\\hearts.cvs')\u001b[0m\n\u001b[1;37m                                                                                                                        ^\u001b[0m\n\u001b[1;31mSyntaxError\u001b[0m\u001b[1;31m:\u001b[0m (unicode error) 'unicodeescape' codec can't decode bytes in position 2-3: truncated \\UXXXXXXXX escape\n"
     ]
    }
   ],
   "source": [
    "import pandas as pd\n",
    "df = pd.read_csv('C:\\Users\\fuzzy\\Documents\\GitHub\\SPBGU-Analitics-2021\\homeworks\\itrushnikova\\22-11-2021\\hearts.cvs')\n",
    "DataFrame.corr(self, method=pearson, min_periods=1)"
   ]
  },
  {
   "cell_type": "markdown",
   "metadata": {},
   "source": [
    "6) Есть много критериев проверки стат гипотезы о равенстве распределения данному. Давайте возьмем два из них\n",
    "    1) хи-квадрат: https://ru.wikipedia.org/wiki/Критерий_согласия_Пирсона\n",
    "    2) Колмогоров-Смирнов: https://ru.wikipedia.org/wiki/Критерий_согласия_Колмогорова\n",
    "    \n",
    "   Интересно, как зависит p-value от размера выборки. Постройте две кривые: по оси x - размер выборки, по y - p-value, которое выдает соответствующий критерий. В качестве тестовых данных давайте генерить выборки из равномерного распределения на [0, 1]"
   ]
  },
  {
   "cell_type": "code",
   "execution_count": null,
   "metadata": {},
   "outputs": [],
   "source": []
  }
 ],
 "metadata": {
  "kernelspec": {
   "display_name": "Python 3 (ipykernel)",
   "language": "python",
   "name": "python3"
  },
  "language_info": {
   "codemirror_mode": {
    "name": "ipython",
    "version": 3
   },
   "file_extension": ".py",
   "mimetype": "text/x-python",
   "name": "python",
   "nbconvert_exporter": "python",
   "pygments_lexer": "ipython3",
   "version": "3.9.7"
  }
 },
 "nbformat": 4,
 "nbformat_minor": 4
}
