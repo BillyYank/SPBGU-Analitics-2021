{
 "cells": [
  {
   "cell_type": "markdown",
   "metadata": {},
   "source": [
    "1) Fit-predict https://www.kaggle.com/rahulsah06/titanic?select=train.csv\n",
    "\n",
    "2) Feature importance\n",
    "\n",
    "3) Loss function & optimization (философия)\n",
    "\n",
    "4) Кластеризация\n",
    "\n",
    "5) Работа с неструктурированными данными (tf-idf, word2vec), эмбеддинги"
   ]
  },
  {
   "cell_type": "code",
   "execution_count": null,
   "metadata": {},
   "outputs": [],
   "source": []
  }
 ],
 "metadata": {
  "kernelspec": {
   "display_name": "Python 3",
   "language": "python",
   "name": "python3"
  },
  "language_info": {
   "codemirror_mode": {
    "name": "ipython",
    "version": 3
   },
   "file_extension": ".py",
   "mimetype": "text/x-python",
   "name": "python",
   "nbconvert_exporter": "python",
   "pygments_lexer": "ipython3",
   "version": "3.7.6"
  }
 },
 "nbformat": 4,
 "nbformat_minor": 4
}
