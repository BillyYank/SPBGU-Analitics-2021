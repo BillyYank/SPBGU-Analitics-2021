{
 "cells": [
  {
   "cell_type": "markdown",
   "metadata": {},
   "source": [
    "https://www.kaggle.com/karthikbhandary2/boat-sales -- вот датасет с яхтами.\n",
    "\n",
    "1) Постройте модель зависимости цены яхты от ее параметров. \n",
    "\n",
    "2) Насколько модель точна? (в качестве метрики можно выбрать mean absolute error)\n",
    "\n",
    "3) Какие факторы в какой степени влияют на цену?\n",
    "\n",
    "P.S. Если вам покажется, что яхты это скучно, вы можете взять любой другой датасет с kaggle)"
   ]
  },
  {
   "cell_type": "code",
   "execution_count": null,
   "metadata": {},
   "outputs": [],
   "source": []
  }
 ],
 "metadata": {
  "kernelspec": {
   "display_name": "Python 3",
   "language": "python",
   "name": "python3"
  },
  "language_info": {
   "codemirror_mode": {
    "name": "ipython",
    "version": 3
   },
   "file_extension": ".py",
   "mimetype": "text/x-python",
   "name": "python",
   "nbconvert_exporter": "python",
   "pygments_lexer": "ipython3",
   "version": "3.7.6"
  }
 },
 "nbformat": 4,
 "nbformat_minor": 4
}
