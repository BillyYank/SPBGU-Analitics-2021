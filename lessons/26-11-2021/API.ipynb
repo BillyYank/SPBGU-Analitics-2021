{
 "cells": [
  {
   "cell_type": "markdown",
   "metadata": {},
   "source": [
    "## API\n",
    "\n",
    "1) Найдем статьи по какому-нибудь запросу со Скопуса\n",
    "\n",
    "2) Поиграем с API яндекса"
   ]
  },
  {
   "cell_type": "code",
   "execution_count": 5,
   "metadata": {},
   "outputs": [],
   "source": [
    "scopuskey = '973e98ea553d93ab0b89bf0c45236216'\n",
    "geokey = 'f6844ecc-b2dc-47d8-9e8e-a5fa04074117'\n",
    "placeskey = 'b3099af6-8560-4395-9740-7d78b8b8bc45'"
   ]
  },
  {
   "cell_type": "code",
   "execution_count": null,
   "metadata": {},
   "outputs": [],
   "source": []
  }
 ],
 "metadata": {
  "kernelspec": {
   "display_name": "Python 3",
   "language": "python",
   "name": "python3"
  },
  "language_info": {
   "codemirror_mode": {
    "name": "ipython",
    "version": 3
   },
   "file_extension": ".py",
   "mimetype": "text/x-python",
   "name": "python",
   "nbconvert_exporter": "python",
   "pygments_lexer": "ipython3",
   "version": "3.7.6"
  }
 },
 "nbformat": 4,
 "nbformat_minor": 4
}
