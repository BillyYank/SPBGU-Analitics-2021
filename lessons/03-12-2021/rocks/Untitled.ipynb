{
 "cells": [
  {
   "cell_type": "code",
   "execution_count": 20,
   "metadata": {},
   "outputs": [],
   "source": [
    "import pandas as pd\n",
    "import seaborn as sns\n",
    "data = pd.read_excel('Приложение №1 к кейсу IT (1).xlsm').drop('Номер', axis=1)\n",
    "\n",
    "%matplotlib inline"
   ]
  },
  {
   "cell_type": "code",
   "execution_count": 4,
   "metadata": {},
   "outputs": [
    {
     "data": {
      "text/html": [
       "<div>\n",
       "<style scoped>\n",
       "    .dataframe tbody tr th:only-of-type {\n",
       "        vertical-align: middle;\n",
       "    }\n",
       "\n",
       "    .dataframe tbody tr th {\n",
       "        vertical-align: top;\n",
       "    }\n",
       "\n",
       "    .dataframe thead th {\n",
       "        text-align: right;\n",
       "    }\n",
       "</style>\n",
       "<table border=\"1\" class=\"dataframe\">\n",
       "  <thead>\n",
       "    <tr style=\"text-align: right;\">\n",
       "      <th></th>\n",
       "      <th>Форма</th>\n",
       "      <th>Цвет</th>\n",
       "      <th>Размер</th>\n",
       "      <th>Флуоресценция</th>\n",
       "      <th>Вес</th>\n",
       "      <th>Стоимость</th>\n",
       "    </tr>\n",
       "  </thead>\n",
       "  <tbody>\n",
       "    <tr>\n",
       "      <th>0</th>\n",
       "      <td>Звезда</td>\n",
       "      <td>Cиний</td>\n",
       "      <td>Средний</td>\n",
       "      <td>Светится</td>\n",
       "      <td>427</td>\n",
       "      <td>3</td>\n",
       "    </tr>\n",
       "    <tr>\n",
       "      <th>1</th>\n",
       "      <td>Круг</td>\n",
       "      <td>Жёлтый</td>\n",
       "      <td>Большой</td>\n",
       "      <td>Не светится</td>\n",
       "      <td>507</td>\n",
       "      <td>7</td>\n",
       "    </tr>\n",
       "    <tr>\n",
       "      <th>2</th>\n",
       "      <td>Круг</td>\n",
       "      <td>Жёлтый</td>\n",
       "      <td>Средний</td>\n",
       "      <td>Светится</td>\n",
       "      <td>339</td>\n",
       "      <td>4</td>\n",
       "    </tr>\n",
       "    <tr>\n",
       "      <th>3</th>\n",
       "      <td>Звезда</td>\n",
       "      <td>Зелёный</td>\n",
       "      <td>Большой</td>\n",
       "      <td>Не светится</td>\n",
       "      <td>655</td>\n",
       "      <td>6</td>\n",
       "    </tr>\n",
       "    <tr>\n",
       "      <th>4</th>\n",
       "      <td>Звезда</td>\n",
       "      <td>Зелёный</td>\n",
       "      <td>Средний</td>\n",
       "      <td>Не светится</td>\n",
       "      <td>309</td>\n",
       "      <td>4</td>\n",
       "    </tr>\n",
       "    <tr>\n",
       "      <th>...</th>\n",
       "      <td>...</td>\n",
       "      <td>...</td>\n",
       "      <td>...</td>\n",
       "      <td>...</td>\n",
       "      <td>...</td>\n",
       "      <td>...</td>\n",
       "    </tr>\n",
       "    <tr>\n",
       "      <th>995</th>\n",
       "      <td>Звезда</td>\n",
       "      <td>Жёлтый</td>\n",
       "      <td>Средний</td>\n",
       "      <td>Не светится</td>\n",
       "      <td>365</td>\n",
       "      <td>3</td>\n",
       "    </tr>\n",
       "    <tr>\n",
       "      <th>996</th>\n",
       "      <td>Звезда</td>\n",
       "      <td>Жёлтый</td>\n",
       "      <td>Средний</td>\n",
       "      <td>Не светится</td>\n",
       "      <td>364</td>\n",
       "      <td>5</td>\n",
       "    </tr>\n",
       "    <tr>\n",
       "      <th>997</th>\n",
       "      <td>Звезда</td>\n",
       "      <td>Жёлтый</td>\n",
       "      <td>Средний</td>\n",
       "      <td>Не светится</td>\n",
       "      <td>252</td>\n",
       "      <td>3</td>\n",
       "    </tr>\n",
       "    <tr>\n",
       "      <th>998</th>\n",
       "      <td>Звезда</td>\n",
       "      <td>Жёлтый</td>\n",
       "      <td>Средний</td>\n",
       "      <td>Не светится</td>\n",
       "      <td>458</td>\n",
       "      <td>4</td>\n",
       "    </tr>\n",
       "    <tr>\n",
       "      <th>999</th>\n",
       "      <td>Звезда</td>\n",
       "      <td>Жёлтый</td>\n",
       "      <td>Средний</td>\n",
       "      <td>Не светится</td>\n",
       "      <td>368</td>\n",
       "      <td>5</td>\n",
       "    </tr>\n",
       "  </tbody>\n",
       "</table>\n",
       "<p>1000 rows × 6 columns</p>\n",
       "</div>"
      ],
      "text/plain": [
       "      Форма     Цвет   Размер Флуоресценция  Вес  Стоимость\n",
       "0    Звезда    Cиний  Средний      Светится  427          3\n",
       "1      Круг   Жёлтый  Большой   Не светится  507          7\n",
       "2      Круг   Жёлтый  Средний      Светится  339          4\n",
       "3    Звезда  Зелёный  Большой   Не светится  655          6\n",
       "4    Звезда  Зелёный  Средний   Не светится  309          4\n",
       "..      ...      ...      ...           ...  ...        ...\n",
       "995  Звезда   Жёлтый  Средний   Не светится  365          3\n",
       "996  Звезда   Жёлтый  Средний   Не светится  364          5\n",
       "997  Звезда   Жёлтый  Средний   Не светится  252          3\n",
       "998  Звезда   Жёлтый  Средний   Не светится  458          4\n",
       "999  Звезда   Жёлтый  Средний   Не светится  368          5\n",
       "\n",
       "[1000 rows x 6 columns]"
      ]
     },
     "execution_count": 4,
     "metadata": {},
     "output_type": "execute_result"
    }
   ],
   "source": [
    "data"
   ]
  },
  {
   "cell_type": "code",
   "execution_count": 8,
   "metadata": {},
   "outputs": [],
   "source": [
    "size2num = {\n",
    "    'Малый': 0,\n",
    "    'Средний': 1,\n",
    "    'Большой': 2\n",
    "}"
   ]
  },
  {
   "cell_type": "code",
   "execution_count": 9,
   "metadata": {},
   "outputs": [],
   "source": [
    "data['Размер'] = list(map(lambda x: size2num[x], data['Размер']))"
   ]
  },
  {
   "cell_type": "code",
   "execution_count": 54,
   "metadata": {},
   "outputs": [],
   "source": [
    "data_one_hot = pd.get_dummies(data)"
   ]
  },
  {
   "cell_type": "code",
   "execution_count": 55,
   "metadata": {},
   "outputs": [
    {
     "data": {
      "text/html": [
       "<div>\n",
       "<style scoped>\n",
       "    .dataframe tbody tr th:only-of-type {\n",
       "        vertical-align: middle;\n",
       "    }\n",
       "\n",
       "    .dataframe tbody tr th {\n",
       "        vertical-align: top;\n",
       "    }\n",
       "\n",
       "    .dataframe thead th {\n",
       "        text-align: right;\n",
       "    }\n",
       "</style>\n",
       "<table border=\"1\" class=\"dataframe\">\n",
       "  <thead>\n",
       "    <tr style=\"text-align: right;\">\n",
       "      <th></th>\n",
       "      <th>Вес</th>\n",
       "      <th>Стоимость</th>\n",
       "      <th>Форма_Звезда</th>\n",
       "      <th>Форма_Квадрат</th>\n",
       "      <th>Форма_Круг</th>\n",
       "      <th>Форма_Треугольник</th>\n",
       "      <th>Цвет_Cиний</th>\n",
       "      <th>Цвет_Жёлтый</th>\n",
       "      <th>Цвет_Зелёный</th>\n",
       "      <th>Цвет_Красный</th>\n",
       "      <th>Размер_Большой</th>\n",
       "      <th>Размер_Малый</th>\n",
       "      <th>Размер_Средний</th>\n",
       "      <th>Флуоресценция_Не светится</th>\n",
       "      <th>Флуоресценция_Светится</th>\n",
       "    </tr>\n",
       "  </thead>\n",
       "  <tbody>\n",
       "    <tr>\n",
       "      <th>0</th>\n",
       "      <td>427</td>\n",
       "      <td>3</td>\n",
       "      <td>1</td>\n",
       "      <td>0</td>\n",
       "      <td>0</td>\n",
       "      <td>0</td>\n",
       "      <td>1</td>\n",
       "      <td>0</td>\n",
       "      <td>0</td>\n",
       "      <td>0</td>\n",
       "      <td>0</td>\n",
       "      <td>0</td>\n",
       "      <td>1</td>\n",
       "      <td>0</td>\n",
       "      <td>1</td>\n",
       "    </tr>\n",
       "    <tr>\n",
       "      <th>1</th>\n",
       "      <td>507</td>\n",
       "      <td>7</td>\n",
       "      <td>0</td>\n",
       "      <td>0</td>\n",
       "      <td>1</td>\n",
       "      <td>0</td>\n",
       "      <td>0</td>\n",
       "      <td>1</td>\n",
       "      <td>0</td>\n",
       "      <td>0</td>\n",
       "      <td>1</td>\n",
       "      <td>0</td>\n",
       "      <td>0</td>\n",
       "      <td>1</td>\n",
       "      <td>0</td>\n",
       "    </tr>\n",
       "    <tr>\n",
       "      <th>2</th>\n",
       "      <td>339</td>\n",
       "      <td>4</td>\n",
       "      <td>0</td>\n",
       "      <td>0</td>\n",
       "      <td>1</td>\n",
       "      <td>0</td>\n",
       "      <td>0</td>\n",
       "      <td>1</td>\n",
       "      <td>0</td>\n",
       "      <td>0</td>\n",
       "      <td>0</td>\n",
       "      <td>0</td>\n",
       "      <td>1</td>\n",
       "      <td>0</td>\n",
       "      <td>1</td>\n",
       "    </tr>\n",
       "    <tr>\n",
       "      <th>3</th>\n",
       "      <td>655</td>\n",
       "      <td>6</td>\n",
       "      <td>1</td>\n",
       "      <td>0</td>\n",
       "      <td>0</td>\n",
       "      <td>0</td>\n",
       "      <td>0</td>\n",
       "      <td>0</td>\n",
       "      <td>1</td>\n",
       "      <td>0</td>\n",
       "      <td>1</td>\n",
       "      <td>0</td>\n",
       "      <td>0</td>\n",
       "      <td>1</td>\n",
       "      <td>0</td>\n",
       "    </tr>\n",
       "    <tr>\n",
       "      <th>4</th>\n",
       "      <td>309</td>\n",
       "      <td>4</td>\n",
       "      <td>1</td>\n",
       "      <td>0</td>\n",
       "      <td>0</td>\n",
       "      <td>0</td>\n",
       "      <td>0</td>\n",
       "      <td>0</td>\n",
       "      <td>1</td>\n",
       "      <td>0</td>\n",
       "      <td>0</td>\n",
       "      <td>0</td>\n",
       "      <td>1</td>\n",
       "      <td>1</td>\n",
       "      <td>0</td>\n",
       "    </tr>\n",
       "  </tbody>\n",
       "</table>\n",
       "</div>"
      ],
      "text/plain": [
       "   Вес  Стоимость  Форма_Звезда  Форма_Квадрат  Форма_Круг  Форма_Треугольник  \\\n",
       "0  427          3             1              0           0                  0   \n",
       "1  507          7             0              0           1                  0   \n",
       "2  339          4             0              0           1                  0   \n",
       "3  655          6             1              0           0                  0   \n",
       "4  309          4             1              0           0                  0   \n",
       "\n",
       "   Цвет_Cиний  Цвет_Жёлтый  Цвет_Зелёный  Цвет_Красный  Размер_Большой  \\\n",
       "0           1            0             0             0               0   \n",
       "1           0            1             0             0               1   \n",
       "2           0            1             0             0               0   \n",
       "3           0            0             1             0               1   \n",
       "4           0            0             1             0               0   \n",
       "\n",
       "   Размер_Малый  Размер_Средний  Флуоресценция_Не светится  \\\n",
       "0             0               1                          0   \n",
       "1             0               0                          1   \n",
       "2             0               1                          0   \n",
       "3             0               0                          1   \n",
       "4             0               1                          1   \n",
       "\n",
       "   Флуоресценция_Светится  \n",
       "0                       1  \n",
       "1                       0  \n",
       "2                       1  \n",
       "3                       0  \n",
       "4                       0  "
      ]
     },
     "execution_count": 55,
     "metadata": {},
     "output_type": "execute_result"
    }
   ],
   "source": [
    "data_one_hot.head()"
   ]
  },
  {
   "cell_type": "code",
   "execution_count": 56,
   "metadata": {},
   "outputs": [],
   "source": [
    "data_one_hot['Вес'] /= 100"
   ]
  },
  {
   "cell_type": "code",
   "execution_count": 57,
   "metadata": {},
   "outputs": [
    {
     "data": {
      "text/html": [
       "<div>\n",
       "<style scoped>\n",
       "    .dataframe tbody tr th:only-of-type {\n",
       "        vertical-align: middle;\n",
       "    }\n",
       "\n",
       "    .dataframe tbody tr th {\n",
       "        vertical-align: top;\n",
       "    }\n",
       "\n",
       "    .dataframe thead th {\n",
       "        text-align: right;\n",
       "    }\n",
       "</style>\n",
       "<table border=\"1\" class=\"dataframe\">\n",
       "  <thead>\n",
       "    <tr style=\"text-align: right;\">\n",
       "      <th></th>\n",
       "      <th>Вес</th>\n",
       "      <th>Стоимость</th>\n",
       "      <th>Форма_Звезда</th>\n",
       "      <th>Форма_Квадрат</th>\n",
       "      <th>Форма_Круг</th>\n",
       "      <th>Форма_Треугольник</th>\n",
       "      <th>Цвет_Cиний</th>\n",
       "      <th>Цвет_Жёлтый</th>\n",
       "      <th>Цвет_Зелёный</th>\n",
       "      <th>Цвет_Красный</th>\n",
       "      <th>Размер_Большой</th>\n",
       "      <th>Размер_Малый</th>\n",
       "      <th>Размер_Средний</th>\n",
       "      <th>Флуоресценция_Не светится</th>\n",
       "      <th>Флуоресценция_Светится</th>\n",
       "    </tr>\n",
       "  </thead>\n",
       "  <tbody>\n",
       "    <tr>\n",
       "      <th>0</th>\n",
       "      <td>4.27</td>\n",
       "      <td>3</td>\n",
       "      <td>1</td>\n",
       "      <td>0</td>\n",
       "      <td>0</td>\n",
       "      <td>0</td>\n",
       "      <td>1</td>\n",
       "      <td>0</td>\n",
       "      <td>0</td>\n",
       "      <td>0</td>\n",
       "      <td>0</td>\n",
       "      <td>0</td>\n",
       "      <td>1</td>\n",
       "      <td>0</td>\n",
       "      <td>1</td>\n",
       "    </tr>\n",
       "    <tr>\n",
       "      <th>1</th>\n",
       "      <td>5.07</td>\n",
       "      <td>7</td>\n",
       "      <td>0</td>\n",
       "      <td>0</td>\n",
       "      <td>1</td>\n",
       "      <td>0</td>\n",
       "      <td>0</td>\n",
       "      <td>1</td>\n",
       "      <td>0</td>\n",
       "      <td>0</td>\n",
       "      <td>1</td>\n",
       "      <td>0</td>\n",
       "      <td>0</td>\n",
       "      <td>1</td>\n",
       "      <td>0</td>\n",
       "    </tr>\n",
       "    <tr>\n",
       "      <th>2</th>\n",
       "      <td>3.39</td>\n",
       "      <td>4</td>\n",
       "      <td>0</td>\n",
       "      <td>0</td>\n",
       "      <td>1</td>\n",
       "      <td>0</td>\n",
       "      <td>0</td>\n",
       "      <td>1</td>\n",
       "      <td>0</td>\n",
       "      <td>0</td>\n",
       "      <td>0</td>\n",
       "      <td>0</td>\n",
       "      <td>1</td>\n",
       "      <td>0</td>\n",
       "      <td>1</td>\n",
       "    </tr>\n",
       "    <tr>\n",
       "      <th>3</th>\n",
       "      <td>6.55</td>\n",
       "      <td>6</td>\n",
       "      <td>1</td>\n",
       "      <td>0</td>\n",
       "      <td>0</td>\n",
       "      <td>0</td>\n",
       "      <td>0</td>\n",
       "      <td>0</td>\n",
       "      <td>1</td>\n",
       "      <td>0</td>\n",
       "      <td>1</td>\n",
       "      <td>0</td>\n",
       "      <td>0</td>\n",
       "      <td>1</td>\n",
       "      <td>0</td>\n",
       "    </tr>\n",
       "    <tr>\n",
       "      <th>4</th>\n",
       "      <td>3.09</td>\n",
       "      <td>4</td>\n",
       "      <td>1</td>\n",
       "      <td>0</td>\n",
       "      <td>0</td>\n",
       "      <td>0</td>\n",
       "      <td>0</td>\n",
       "      <td>0</td>\n",
       "      <td>1</td>\n",
       "      <td>0</td>\n",
       "      <td>0</td>\n",
       "      <td>0</td>\n",
       "      <td>1</td>\n",
       "      <td>1</td>\n",
       "      <td>0</td>\n",
       "    </tr>\n",
       "  </tbody>\n",
       "</table>\n",
       "</div>"
      ],
      "text/plain": [
       "    Вес  Стоимость  Форма_Звезда  Форма_Квадрат  Форма_Круг  \\\n",
       "0  4.27          3             1              0           0   \n",
       "1  5.07          7             0              0           1   \n",
       "2  3.39          4             0              0           1   \n",
       "3  6.55          6             1              0           0   \n",
       "4  3.09          4             1              0           0   \n",
       "\n",
       "   Форма_Треугольник  Цвет_Cиний  Цвет_Жёлтый  Цвет_Зелёный  Цвет_Красный  \\\n",
       "0                  0           1            0             0             0   \n",
       "1                  0           0            1             0             0   \n",
       "2                  0           0            1             0             0   \n",
       "3                  0           0            0             1             0   \n",
       "4                  0           0            0             1             0   \n",
       "\n",
       "   Размер_Большой  Размер_Малый  Размер_Средний  Флуоресценция_Не светится  \\\n",
       "0               0             0               1                          0   \n",
       "1               1             0               0                          1   \n",
       "2               0             0               1                          0   \n",
       "3               1             0               0                          1   \n",
       "4               0             0               1                          1   \n",
       "\n",
       "   Флуоресценция_Светится  \n",
       "0                       1  \n",
       "1                       0  \n",
       "2                       1  \n",
       "3                       0  \n",
       "4                       0  "
      ]
     },
     "execution_count": 57,
     "metadata": {},
     "output_type": "execute_result"
    }
   ],
   "source": [
    "data_one_hot.head()"
   ]
  },
  {
   "cell_type": "code",
   "execution_count": 58,
   "metadata": {},
   "outputs": [],
   "source": [
    "data_one_hot['Стоимость'] *= 2"
   ]
  },
  {
   "cell_type": "code",
   "execution_count": 59,
   "metadata": {},
   "outputs": [],
   "source": [
    "from sklearn.cluster import k_means"
   ]
  },
  {
   "cell_type": "code",
   "execution_count": 60,
   "metadata": {},
   "outputs": [],
   "source": [
    "marks = k_means(data_one_hot, 10)[1]"
   ]
  },
  {
   "cell_type": "code",
   "execution_count": 61,
   "metadata": {},
   "outputs": [],
   "source": [
    "import numpy as np\n",
    "from sklearn.manifold import TSNE\n",
    "X_embedded = TSNE(n_components=2, perplexity=50.0).fit_transform(np.array(data_one_hot))"
   ]
  },
  {
   "cell_type": "code",
   "execution_count": 62,
   "metadata": {},
   "outputs": [
    {
     "data": {
      "text/plain": [
       "<AxesSubplot:>"
      ]
     },
     "execution_count": 62,
     "metadata": {},
     "output_type": "execute_result"
    },
    {
     "data": {
      "image/png": "[encoded data removed]",
      "text/plain": [
       "<Figure size 432x288 with 1 Axes>"
      ]
     },
     "metadata": {
      "needs_background": "light"
     },
     "output_type": "display_data"
    }
   ],
   "source": [
    "sns.scatterplot(x=X_embedded[:,0], y=X_embedded[:,1], hue=marks, palette=sns.color_palette(\"tab10\")[0:10])"
   ]
  },
  {
   "cell_type": "code",
   "execution_count": 63,
   "metadata": {},
   "outputs": [
    {
     "data": {
      "text/plain": [
       "5    0.695652\n",
       "6    0.304348\n",
       "Name: Стоимость, dtype: float64"
      ]
     },
     "execution_count": 63,
     "metadata": {},
     "output_type": "execute_result"
    }
   ],
   "source": [
    "data[marks == 5]['Стоимость'].value_counts(normalize=True)"
   ]
  },
  {
   "cell_type": "code",
   "execution_count": 64,
   "metadata": {},
   "outputs": [
    {
     "data": {
      "text/plain": [
       "2    1.0\n",
       "Name: Стоимость, dtype: float64"
      ]
     },
     "execution_count": 64,
     "metadata": {},
     "output_type": "execute_result"
    }
   ],
   "source": [
    "data[marks == 1]['Стоимость'].value_counts(normalize=True)"
   ]
  },
  {
   "cell_type": "code",
   "execution_count": 65,
   "metadata": {},
   "outputs": [
    {
     "data": {
      "text/plain": [
       "3    1.0\n",
       "Name: Стоимость, dtype: float64"
      ]
     },
     "execution_count": 65,
     "metadata": {},
     "output_type": "execute_result"
    }
   ],
   "source": [
    "data[marks == 8]['Стоимость'].value_counts(normalize=True)"
   ]
  },
  {
   "cell_type": "code",
   "execution_count": null,
   "metadata": {},
   "outputs": [],
   "source": []
  }
 ],
 "metadata": {
  "kernelspec": {
   "display_name": "Python 3",
   "language": "python",
   "name": "python3"
  },
  "language_info": {
   "codemirror_mode": {
    "name": "ipython",
    "version": 3
   },
   "file_extension": ".py",
   "mimetype": "text/x-python",
   "name": "python",
   "nbconvert_exporter": "python",
   "pygments_lexer": "ipython3",
   "version": "3.7.6"
  }
 },
 "nbformat": 4,
 "nbformat_minor": 4
}
