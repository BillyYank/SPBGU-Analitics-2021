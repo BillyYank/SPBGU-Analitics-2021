{
 "cells": [
  {
   "cell_type": "code",
   "execution_count": 1,
   "metadata": {},
   "outputs": [],
   "source": [
    "import pandas as pd\n",
    "import os"
   ]
  },
  {
   "cell_type": "markdown",
   "metadata": {},
   "source": [
    "Данные загружены <a href=\"https://www.kaggle.com/olistbr/brazilian-ecommerce?select=olist_customers_dataset.csv\"> отсюда</a> (тут же можно посмотреть и описание). Это данные о продаже разных товаров в Бразилии"
   ]
  },
  {
   "cell_type": "code",
   "execution_count": 2,
   "metadata": {},
   "outputs": [
    {
     "data": {
      "text/plain": [
       "['olist_customers_dataset.csv',\n",
       " 'olist_geolocation_dataset.csv',\n",
       " 'olist_orders_dataset.csv',\n",
       " 'olist_order_items_dataset.csv',\n",
       " 'olist_order_payments_dataset.csv',\n",
       " 'olist_order_reviews_dataset.csv',\n",
       " 'olist_products_dataset.csv',\n",
       " 'olist_sellers_dataset.csv',\n",
       " 'product_category_name_translation.csv']"
      ]
     },
     "execution_count": 2,
     "metadata": {},
     "output_type": "execute_result"
    }
   ],
   "source": [
    "os.listdir(\"data\")"
   ]
  },
  {
   "cell_type": "markdown",
   "metadata": {},
   "source": [
    "Давайте ответим на пару вопросов.\n",
    "\n",
    "1) Найти топ-10 покупателей по потраченной сумме\n",
    "\n",
    "2) Самые популярные категории товаров (для каждой категории найти число покупок, средний чек)\n",
    "\n",
    "3) Найти распределение времени доставки\n",
    "\n",
    "4) Для каждого селлера найти его рейтинг, как среднее оценок покупателей по заказам селлера\n",
    "\n",
    "5) Найти \"локальных\" селлеров: тех, кто продает в основном только в своем штате (среди их продаж доля в своем штате наибольшая)"
   ]
  },
  {
   "cell_type": "code",
   "execution_count": null,
   "metadata": {},
   "outputs": [],
   "source": []
  }
 ],
 "metadata": {
  "kernelspec": {
   "display_name": "Python 3",
   "language": "python",
   "name": "python3"
  },
  "language_info": {
   "codemirror_mode": {
    "name": "ipython",
    "version": 3
   },
   "file_extension": ".py",
   "mimetype": "text/x-python",
   "name": "python",
   "nbconvert_exporter": "python",
   "pygments_lexer": "ipython3",
   "version": "3.7.6"
  }
 },
 "nbformat": 4,
 "nbformat_minor": 4
}
