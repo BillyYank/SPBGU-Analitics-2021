{
 "cells": [
  {
   "cell_type": "code",
   "execution_count": 134,
   "metadata": {},
   "outputs": [],
   "source": [
    "import pandas as pd\n",
    "import os\n",
    "from datetime import datetime\n",
    "from matplotlib import pyplot as plt\n",
    "import json\n",
    "\n",
    "%matplotlib inline"
   ]
  },
  {
   "cell_type": "markdown",
   "metadata": {},
   "source": [
    "Данные загружены <a href=\"https://www.kaggle.com/olistbr/brazilian-ecommerce?select=olist_customers_dataset.csv\"> отсюда</a> (тут же можно посмотреть и описание). Это данные о продаже разных товаров в Бразилии"
   ]
  },
  {
   "cell_type": "code",
   "execution_count": 2,
   "metadata": {},
   "outputs": [
    {
     "data": {
      "text/plain": [
       "['olist_customers_dataset.csv',\n",
       " 'olist_geolocation_dataset.csv',\n",
       " 'olist_orders_dataset.csv',\n",
       " 'olist_order_items_dataset.csv',\n",
       " 'olist_order_payments_dataset.csv',\n",
       " 'olist_order_reviews_dataset.csv',\n",
       " 'olist_products_dataset.csv',\n",
       " 'olist_sellers_dataset.csv',\n",
       " 'product_category_name_translation.csv']"
      ]
     },
     "execution_count": 2,
     "metadata": {},
     "output_type": "execute_result"
    }
   ],
   "source": [
    "os.listdir(\"data\")"
   ]
  },
  {
   "cell_type": "markdown",
   "metadata": {},
   "source": [
    "Давайте ответим на пару вопросов.\n",
    "\n",
    "1) Найти топ-10 покупателей по потраченной сумме\n",
    "\n",
    "2) Самые популярные категории товаров (для каждой категории найти число покупок, средний чек)\n",
    "\n",
    "3) Найти распределение времени доставки\n",
    "\n",
    "4) Для каждого селлера найти его рейтинг, как среднее оценок покупателей по заказам селлера\n",
    "\n",
    "5) Найти \"локальных\" селлеров: тех, кто продает в основном только в своем штате (среди их продаж доля в своем штате наибольшая)"
   ]
  },
  {
   "cell_type": "code",
   "execution_count": 92,
   "metadata": {},
   "outputs": [],
   "source": [
    "orders_data = pd.read_csv('data/olist_orders_dataset.csv')"
   ]
  },
  {
   "cell_type": "code",
   "execution_count": 93,
   "metadata": {},
   "outputs": [
    {
     "data": {
      "text/html": [
       "<div>\n",
       "<style scoped>\n",
       "    .dataframe tbody tr th:only-of-type {\n",
       "        vertical-align: middle;\n",
       "    }\n",
       "\n",
       "    .dataframe tbody tr th {\n",
       "        vertical-align: top;\n",
       "    }\n",
       "\n",
       "    .dataframe thead th {\n",
       "        text-align: right;\n",
       "    }\n",
       "</style>\n",
       "<table border=\"1\" class=\"dataframe\">\n",
       "  <thead>\n",
       "    <tr style=\"text-align: right;\">\n",
       "      <th></th>\n",
       "      <th>order_id</th>\n",
       "      <th>customer_id</th>\n",
       "      <th>order_status</th>\n",
       "      <th>order_purchase_timestamp</th>\n",
       "      <th>order_approved_at</th>\n",
       "      <th>order_delivered_carrier_date</th>\n",
       "      <th>order_delivered_customer_date</th>\n",
       "      <th>order_estimated_delivery_date</th>\n",
       "    </tr>\n",
       "  </thead>\n",
       "  <tbody>\n",
       "    <tr>\n",
       "      <th>0</th>\n",
       "      <td>e481f51cbdc54678b7cc49136f2d6af7</td>\n",
       "      <td>9ef432eb6251297304e76186b10a928d</td>\n",
       "      <td>delivered</td>\n",
       "      <td>2017-10-02 10:56:33</td>\n",
       "      <td>2017-10-02 11:07:15</td>\n",
       "      <td>2017-10-04 19:55:00</td>\n",
       "      <td>2017-10-10 21:25:13</td>\n",
       "      <td>2017-10-18 00:00:00</td>\n",
       "    </tr>\n",
       "    <tr>\n",
       "      <th>1</th>\n",
       "      <td>53cdb2fc8bc7dce0b6741e2150273451</td>\n",
       "      <td>b0830fb4747a6c6d20dea0b8c802d7ef</td>\n",
       "      <td>delivered</td>\n",
       "      <td>2018-07-24 20:41:37</td>\n",
       "      <td>2018-07-26 03:24:27</td>\n",
       "      <td>2018-07-26 14:31:00</td>\n",
       "      <td>2018-08-07 15:27:45</td>\n",
       "      <td>2018-08-13 00:00:00</td>\n",
       "    </tr>\n",
       "    <tr>\n",
       "      <th>2</th>\n",
       "      <td>47770eb9100c2d0c44946d9cf07ec65d</td>\n",
       "      <td>41ce2a54c0b03bf3443c3d931a367089</td>\n",
       "      <td>delivered</td>\n",
       "      <td>2018-08-08 08:38:49</td>\n",
       "      <td>2018-08-08 08:55:23</td>\n",
       "      <td>2018-08-08 13:50:00</td>\n",
       "      <td>2018-08-17 18:06:29</td>\n",
       "      <td>2018-09-04 00:00:00</td>\n",
       "    </tr>\n",
       "    <tr>\n",
       "      <th>3</th>\n",
       "      <td>949d5b44dbf5de918fe9c16f97b45f8a</td>\n",
       "      <td>f88197465ea7920adcdbec7375364d82</td>\n",
       "      <td>delivered</td>\n",
       "      <td>2017-11-18 19:28:06</td>\n",
       "      <td>2017-11-18 19:45:59</td>\n",
       "      <td>2017-11-22 13:39:59</td>\n",
       "      <td>2017-12-02 00:28:42</td>\n",
       "      <td>2017-12-15 00:00:00</td>\n",
       "    </tr>\n",
       "    <tr>\n",
       "      <th>4</th>\n",
       "      <td>ad21c59c0840e6cb83a9ceb5573f8159</td>\n",
       "      <td>8ab97904e6daea8866dbdbc4fb7aad2c</td>\n",
       "      <td>delivered</td>\n",
       "      <td>2018-02-13 21:18:39</td>\n",
       "      <td>2018-02-13 22:20:29</td>\n",
       "      <td>2018-02-14 19:46:34</td>\n",
       "      <td>2018-02-16 18:17:02</td>\n",
       "      <td>2018-02-26 00:00:00</td>\n",
       "    </tr>\n",
       "  </tbody>\n",
       "</table>\n",
       "</div>"
      ],
      "text/plain": [
       "                           order_id                       customer_id  \\\n",
       "0  e481f51cbdc54678b7cc49136f2d6af7  9ef432eb6251297304e76186b10a928d   \n",
       "1  53cdb2fc8bc7dce0b6741e2150273451  b0830fb4747a6c6d20dea0b8c802d7ef   \n",
       "2  47770eb9100c2d0c44946d9cf07ec65d  41ce2a54c0b03bf3443c3d931a367089   \n",
       "3  949d5b44dbf5de918fe9c16f97b45f8a  f88197465ea7920adcdbec7375364d82   \n",
       "4  ad21c59c0840e6cb83a9ceb5573f8159  8ab97904e6daea8866dbdbc4fb7aad2c   \n",
       "\n",
       "  order_status order_purchase_timestamp    order_approved_at  \\\n",
       "0    delivered      2017-10-02 10:56:33  2017-10-02 11:07:15   \n",
       "1    delivered      2018-07-24 20:41:37  2018-07-26 03:24:27   \n",
       "2    delivered      2018-08-08 08:38:49  2018-08-08 08:55:23   \n",
       "3    delivered      2017-11-18 19:28:06  2017-11-18 19:45:59   \n",
       "4    delivered      2018-02-13 21:18:39  2018-02-13 22:20:29   \n",
       "\n",
       "  order_delivered_carrier_date order_delivered_customer_date  \\\n",
       "0          2017-10-04 19:55:00           2017-10-10 21:25:13   \n",
       "1          2018-07-26 14:31:00           2018-08-07 15:27:45   \n",
       "2          2018-08-08 13:50:00           2018-08-17 18:06:29   \n",
       "3          2017-11-22 13:39:59           2017-12-02 00:28:42   \n",
       "4          2018-02-14 19:46:34           2018-02-16 18:17:02   \n",
       "\n",
       "  order_estimated_delivery_date  \n",
       "0           2017-10-18 00:00:00  \n",
       "1           2018-08-13 00:00:00  \n",
       "2           2018-09-04 00:00:00  \n",
       "3           2017-12-15 00:00:00  \n",
       "4           2018-02-26 00:00:00  "
      ]
     },
     "execution_count": 93,
     "metadata": {},
     "output_type": "execute_result"
    }
   ],
   "source": [
    "orders_data.head()"
   ]
  },
  {
   "cell_type": "code",
   "execution_count": 94,
   "metadata": {},
   "outputs": [
    {
     "name": "stdout",
     "output_type": "stream",
     "text": [
      "<class 'pandas.core.frame.DataFrame'>\n",
      "RangeIndex: 99441 entries, 0 to 99440\n",
      "Data columns (total 8 columns):\n",
      " #   Column                         Non-Null Count  Dtype \n",
      "---  ------                         --------------  ----- \n",
      " 0   order_id                       99441 non-null  object\n",
      " 1   customer_id                    99441 non-null  object\n",
      " 2   order_status                   99441 non-null  object\n",
      " 3   order_purchase_timestamp       99441 non-null  object\n",
      " 4   order_approved_at              99281 non-null  object\n",
      " 5   order_delivered_carrier_date   97658 non-null  object\n",
      " 6   order_delivered_customer_date  96476 non-null  object\n",
      " 7   order_estimated_delivery_date  99441 non-null  object\n",
      "dtypes: object(8)\n",
      "memory usage: 6.1+ MB\n"
     ]
    }
   ],
   "source": [
    "orders_data.info()"
   ]
  },
  {
   "cell_type": "code",
   "execution_count": 95,
   "metadata": {},
   "outputs": [],
   "source": [
    "payments_data = pd.read_csv('data/olist_order_payments_dataset.csv')"
   ]
  },
  {
   "cell_type": "code",
   "execution_count": 96,
   "metadata": {},
   "outputs": [
    {
     "data": {
      "text/html": [
       "<div>\n",
       "<style scoped>\n",
       "    .dataframe tbody tr th:only-of-type {\n",
       "        vertical-align: middle;\n",
       "    }\n",
       "\n",
       "    .dataframe tbody tr th {\n",
       "        vertical-align: top;\n",
       "    }\n",
       "\n",
       "    .dataframe thead th {\n",
       "        text-align: right;\n",
       "    }\n",
       "</style>\n",
       "<table border=\"1\" class=\"dataframe\">\n",
       "  <thead>\n",
       "    <tr style=\"text-align: right;\">\n",
       "      <th></th>\n",
       "      <th>order_id</th>\n",
       "      <th>payment_sequential</th>\n",
       "      <th>payment_type</th>\n",
       "      <th>payment_installments</th>\n",
       "      <th>payment_value</th>\n",
       "    </tr>\n",
       "  </thead>\n",
       "  <tbody>\n",
       "    <tr>\n",
       "      <th>0</th>\n",
       "      <td>b81ef226f3fe1789b1e8b2acac839d17</td>\n",
       "      <td>1</td>\n",
       "      <td>credit_card</td>\n",
       "      <td>8</td>\n",
       "      <td>99.33</td>\n",
       "    </tr>\n",
       "    <tr>\n",
       "      <th>1</th>\n",
       "      <td>a9810da82917af2d9aefd1278f1dcfa0</td>\n",
       "      <td>1</td>\n",
       "      <td>credit_card</td>\n",
       "      <td>1</td>\n",
       "      <td>24.39</td>\n",
       "    </tr>\n",
       "    <tr>\n",
       "      <th>2</th>\n",
       "      <td>25e8ea4e93396b6fa0d3dd708e76c1bd</td>\n",
       "      <td>1</td>\n",
       "      <td>credit_card</td>\n",
       "      <td>1</td>\n",
       "      <td>65.71</td>\n",
       "    </tr>\n",
       "    <tr>\n",
       "      <th>3</th>\n",
       "      <td>ba78997921bbcdc1373bb41e913ab953</td>\n",
       "      <td>1</td>\n",
       "      <td>credit_card</td>\n",
       "      <td>8</td>\n",
       "      <td>107.78</td>\n",
       "    </tr>\n",
       "    <tr>\n",
       "      <th>4</th>\n",
       "      <td>42fdf880ba16b47b59251dd489d4441a</td>\n",
       "      <td>1</td>\n",
       "      <td>credit_card</td>\n",
       "      <td>2</td>\n",
       "      <td>128.45</td>\n",
       "    </tr>\n",
       "  </tbody>\n",
       "</table>\n",
       "</div>"
      ],
      "text/plain": [
       "                           order_id  payment_sequential payment_type  \\\n",
       "0  b81ef226f3fe1789b1e8b2acac839d17                   1  credit_card   \n",
       "1  a9810da82917af2d9aefd1278f1dcfa0                   1  credit_card   \n",
       "2  25e8ea4e93396b6fa0d3dd708e76c1bd                   1  credit_card   \n",
       "3  ba78997921bbcdc1373bb41e913ab953                   1  credit_card   \n",
       "4  42fdf880ba16b47b59251dd489d4441a                   1  credit_card   \n",
       "\n",
       "   payment_installments  payment_value  \n",
       "0                     8          99.33  \n",
       "1                     1          24.39  \n",
       "2                     1          65.71  \n",
       "3                     8         107.78  \n",
       "4                     2         128.45  "
      ]
     },
     "execution_count": 96,
     "metadata": {},
     "output_type": "execute_result"
    }
   ],
   "source": [
    "payments_data.head()"
   ]
  },
  {
   "cell_type": "code",
   "execution_count": 97,
   "metadata": {},
   "outputs": [
    {
     "data": {
      "text/plain": [
       "delivered      0.970203\n",
       "shipped        0.011132\n",
       "canceled       0.006285\n",
       "unavailable    0.006124\n",
       "invoiced       0.003158\n",
       "processing     0.003027\n",
       "created        0.000050\n",
       "approved       0.000020\n",
       "Name: order_status, dtype: float64"
      ]
     },
     "execution_count": 97,
     "metadata": {},
     "output_type": "execute_result"
    }
   ],
   "source": [
    "orders_data['order_status'].value_counts(normalize=True)"
   ]
  },
  {
   "cell_type": "code",
   "execution_count": 98,
   "metadata": {},
   "outputs": [
    {
     "data": {
      "text/plain": [
       "0        True\n",
       "1        True\n",
       "2        True\n",
       "3        True\n",
       "4        True\n",
       "         ... \n",
       "99436    True\n",
       "99437    True\n",
       "99438    True\n",
       "99439    True\n",
       "99440    True\n",
       "Name: order_status, Length: 99441, dtype: bool"
      ]
     },
     "execution_count": 98,
     "metadata": {},
     "output_type": "execute_result"
    }
   ],
   "source": [
    "orders_data['order_status'] == 'delivered'"
   ]
  },
  {
   "cell_type": "code",
   "execution_count": 99,
   "metadata": {},
   "outputs": [],
   "source": [
    "orders_data = orders_data[orders_data['order_status'] == 'delivered']"
   ]
  },
  {
   "cell_type": "code",
   "execution_count": 100,
   "metadata": {},
   "outputs": [
    {
     "data": {
      "text/plain": [
       "(96478, 8)"
      ]
     },
     "execution_count": 100,
     "metadata": {},
     "output_type": "execute_result"
    }
   ],
   "source": [
    "orders_data.shape"
   ]
  },
  {
   "cell_type": "code",
   "execution_count": 101,
   "metadata": {},
   "outputs": [],
   "source": [
    "orders_data.drop_duplicates(subset=['order_id'], inplace=True)\n",
    "payments_data.drop_duplicates(subset=['order_id'], inplace=True)"
   ]
  },
  {
   "cell_type": "code",
   "execution_count": 102,
   "metadata": {},
   "outputs": [
    {
     "name": "stdout",
     "output_type": "stream",
     "text": [
      "Orders shape:  (96478, 8)\n",
      "Payments shape:  (99440, 5)\n"
     ]
    }
   ],
   "source": [
    "print(\"Orders shape: \", orders_data.shape)\n",
    "print(\"Payments shape: \", payments_data.shape)"
   ]
  },
  {
   "cell_type": "markdown",
   "metadata": {},
   "source": [
    "## Top-10 customers"
   ]
  },
  {
   "cell_type": "code",
   "execution_count": 24,
   "metadata": {},
   "outputs": [],
   "source": [
    "orders_with_payments = orders_data.merge(payments_data, on=['order_id'])"
   ]
  },
  {
   "cell_type": "code",
   "execution_count": 25,
   "metadata": {},
   "outputs": [
    {
     "data": {
      "text/plain": [
       "(96477, 12)"
      ]
     },
     "execution_count": 25,
     "metadata": {},
     "output_type": "execute_result"
    }
   ],
   "source": [
    "orders_with_payments.shape"
   ]
  },
  {
   "cell_type": "code",
   "execution_count": 26,
   "metadata": {},
   "outputs": [
    {
     "data": {
      "text/html": [
       "<div>\n",
       "<style scoped>\n",
       "    .dataframe tbody tr th:only-of-type {\n",
       "        vertical-align: middle;\n",
       "    }\n",
       "\n",
       "    .dataframe tbody tr th {\n",
       "        vertical-align: top;\n",
       "    }\n",
       "\n",
       "    .dataframe thead th {\n",
       "        text-align: right;\n",
       "    }\n",
       "</style>\n",
       "<table border=\"1\" class=\"dataframe\">\n",
       "  <thead>\n",
       "    <tr style=\"text-align: right;\">\n",
       "      <th></th>\n",
       "      <th>order_id</th>\n",
       "      <th>customer_id</th>\n",
       "      <th>order_status</th>\n",
       "      <th>order_purchase_timestamp</th>\n",
       "      <th>order_approved_at</th>\n",
       "      <th>order_delivered_carrier_date</th>\n",
       "      <th>order_delivered_customer_date</th>\n",
       "      <th>order_estimated_delivery_date</th>\n",
       "      <th>payment_sequential</th>\n",
       "      <th>payment_type</th>\n",
       "      <th>payment_installments</th>\n",
       "      <th>payment_value</th>\n",
       "    </tr>\n",
       "  </thead>\n",
       "  <tbody>\n",
       "    <tr>\n",
       "      <th>0</th>\n",
       "      <td>e481f51cbdc54678b7cc49136f2d6af7</td>\n",
       "      <td>9ef432eb6251297304e76186b10a928d</td>\n",
       "      <td>delivered</td>\n",
       "      <td>2017-10-02 10:56:33</td>\n",
       "      <td>2017-10-02 11:07:15</td>\n",
       "      <td>2017-10-04 19:55:00</td>\n",
       "      <td>2017-10-10 21:25:13</td>\n",
       "      <td>2017-10-18 00:00:00</td>\n",
       "      <td>1</td>\n",
       "      <td>credit_card</td>\n",
       "      <td>1</td>\n",
       "      <td>18.12</td>\n",
       "    </tr>\n",
       "    <tr>\n",
       "      <th>1</th>\n",
       "      <td>53cdb2fc8bc7dce0b6741e2150273451</td>\n",
       "      <td>b0830fb4747a6c6d20dea0b8c802d7ef</td>\n",
       "      <td>delivered</td>\n",
       "      <td>2018-07-24 20:41:37</td>\n",
       "      <td>2018-07-26 03:24:27</td>\n",
       "      <td>2018-07-26 14:31:00</td>\n",
       "      <td>2018-08-07 15:27:45</td>\n",
       "      <td>2018-08-13 00:00:00</td>\n",
       "      <td>1</td>\n",
       "      <td>boleto</td>\n",
       "      <td>1</td>\n",
       "      <td>141.46</td>\n",
       "    </tr>\n",
       "  </tbody>\n",
       "</table>\n",
       "</div>"
      ],
      "text/plain": [
       "                           order_id                       customer_id  \\\n",
       "0  e481f51cbdc54678b7cc49136f2d6af7  9ef432eb6251297304e76186b10a928d   \n",
       "1  53cdb2fc8bc7dce0b6741e2150273451  b0830fb4747a6c6d20dea0b8c802d7ef   \n",
       "\n",
       "  order_status order_purchase_timestamp    order_approved_at  \\\n",
       "0    delivered      2017-10-02 10:56:33  2017-10-02 11:07:15   \n",
       "1    delivered      2018-07-24 20:41:37  2018-07-26 03:24:27   \n",
       "\n",
       "  order_delivered_carrier_date order_delivered_customer_date  \\\n",
       "0          2017-10-04 19:55:00           2017-10-10 21:25:13   \n",
       "1          2018-07-26 14:31:00           2018-08-07 15:27:45   \n",
       "\n",
       "  order_estimated_delivery_date  payment_sequential payment_type  \\\n",
       "0           2017-10-18 00:00:00                   1  credit_card   \n",
       "1           2018-08-13 00:00:00                   1       boleto   \n",
       "\n",
       "   payment_installments  payment_value  \n",
       "0                     1          18.12  \n",
       "1                     1         141.46  "
      ]
     },
     "execution_count": 26,
     "metadata": {},
     "output_type": "execute_result"
    }
   ],
   "source": [
    "orders_with_payments.head(2)"
   ]
  },
  {
   "cell_type": "code",
   "execution_count": 28,
   "metadata": {},
   "outputs": [],
   "source": [
    "customers_aggr = orders_with_payments.groupby('customer_id').agg({'payment_value': ['sum', 'count']})"
   ]
  },
  {
   "cell_type": "code",
   "execution_count": 30,
   "metadata": {},
   "outputs": [
    {
     "data": {
      "text/plain": [
       "MultiIndex([('payment_value',   'sum'),\n",
       "            ('payment_value', 'count')],\n",
       "           )"
      ]
     },
     "execution_count": 30,
     "metadata": {},
     "output_type": "execute_result"
    }
   ],
   "source": [
    "customers_aggr.columns"
   ]
  },
  {
   "cell_type": "code",
   "execution_count": 33,
   "metadata": {},
   "outputs": [
    {
     "data": {
      "text/html": [
       "<div>\n",
       "<style scoped>\n",
       "    .dataframe tbody tr th:only-of-type {\n",
       "        vertical-align: middle;\n",
       "    }\n",
       "\n",
       "    .dataframe tbody tr th {\n",
       "        vertical-align: top;\n",
       "    }\n",
       "\n",
       "    .dataframe thead tr th {\n",
       "        text-align: left;\n",
       "    }\n",
       "\n",
       "    .dataframe thead tr:last-of-type th {\n",
       "        text-align: right;\n",
       "    }\n",
       "</style>\n",
       "<table border=\"1\" class=\"dataframe\">\n",
       "  <thead>\n",
       "    <tr>\n",
       "      <th></th>\n",
       "      <th colspan=\"2\" halign=\"left\">payment_value</th>\n",
       "    </tr>\n",
       "    <tr>\n",
       "      <th></th>\n",
       "      <th>sum</th>\n",
       "      <th>count</th>\n",
       "    </tr>\n",
       "    <tr>\n",
       "      <th>customer_id</th>\n",
       "      <th></th>\n",
       "      <th></th>\n",
       "    </tr>\n",
       "  </thead>\n",
       "  <tbody>\n",
       "    <tr>\n",
       "      <th>1617b1357756262bfa56ab541c47bc16</th>\n",
       "      <td>13664.08</td>\n",
       "      <td>1</td>\n",
       "    </tr>\n",
       "    <tr>\n",
       "      <th>ec5b2ba62e574342386871631fafd3fc</th>\n",
       "      <td>7274.88</td>\n",
       "      <td>1</td>\n",
       "    </tr>\n",
       "    <tr>\n",
       "      <th>c6e2731c5b391845f6800c97401a43a9</th>\n",
       "      <td>6929.31</td>\n",
       "      <td>1</td>\n",
       "    </tr>\n",
       "    <tr>\n",
       "      <th>f48d464a0baaea338cb25f816991ab1f</th>\n",
       "      <td>6922.21</td>\n",
       "      <td>1</td>\n",
       "    </tr>\n",
       "    <tr>\n",
       "      <th>3fd6777bbce08a352fddd04e4a7cc8f6</th>\n",
       "      <td>6726.66</td>\n",
       "      <td>1</td>\n",
       "    </tr>\n",
       "    <tr>\n",
       "      <th>05455dfa7cd02f13d132aa7a6a9729c6</th>\n",
       "      <td>6081.54</td>\n",
       "      <td>1</td>\n",
       "    </tr>\n",
       "    <tr>\n",
       "      <th>df55c14d1476a9a3467f131269c2477f</th>\n",
       "      <td>4950.34</td>\n",
       "      <td>1</td>\n",
       "    </tr>\n",
       "    <tr>\n",
       "      <th>24bbf5fd2f2e1b359ee7de94defc4a15</th>\n",
       "      <td>4764.34</td>\n",
       "      <td>1</td>\n",
       "    </tr>\n",
       "    <tr>\n",
       "      <th>3d979689f636322c62418b6346b1c6d2</th>\n",
       "      <td>4681.78</td>\n",
       "      <td>1</td>\n",
       "    </tr>\n",
       "    <tr>\n",
       "      <th>1afc82cd60e303ef09b4ef9837c9505c</th>\n",
       "      <td>4513.32</td>\n",
       "      <td>1</td>\n",
       "    </tr>\n",
       "  </tbody>\n",
       "</table>\n",
       "</div>"
      ],
      "text/plain": [
       "                                 payment_value      \n",
       "                                           sum count\n",
       "customer_id                                         \n",
       "1617b1357756262bfa56ab541c47bc16      13664.08     1\n",
       "ec5b2ba62e574342386871631fafd3fc       7274.88     1\n",
       "c6e2731c5b391845f6800c97401a43a9       6929.31     1\n",
       "f48d464a0baaea338cb25f816991ab1f       6922.21     1\n",
       "3fd6777bbce08a352fddd04e4a7cc8f6       6726.66     1\n",
       "05455dfa7cd02f13d132aa7a6a9729c6       6081.54     1\n",
       "df55c14d1476a9a3467f131269c2477f       4950.34     1\n",
       "24bbf5fd2f2e1b359ee7de94defc4a15       4764.34     1\n",
       "3d979689f636322c62418b6346b1c6d2       4681.78     1\n",
       "1afc82cd60e303ef09b4ef9837c9505c       4513.32     1"
      ]
     },
     "execution_count": 33,
     "metadata": {},
     "output_type": "execute_result"
    }
   ],
   "source": [
    "customers_aggr.sort_values(by=('payment_value',   'sum'), ascending=False)[0:10]"
   ]
  },
  {
   "cell_type": "markdown",
   "metadata": {},
   "source": [
    "## Top categories"
   ]
  },
  {
   "cell_type": "code",
   "execution_count": 35,
   "metadata": {},
   "outputs": [],
   "source": [
    "order_items = pd.read_csv('data/olist_order_items_dataset.csv')"
   ]
  },
  {
   "cell_type": "code",
   "execution_count": 37,
   "metadata": {},
   "outputs": [
    {
     "data": {
      "text/html": [
       "<div>\n",
       "<style scoped>\n",
       "    .dataframe tbody tr th:only-of-type {\n",
       "        vertical-align: middle;\n",
       "    }\n",
       "\n",
       "    .dataframe tbody tr th {\n",
       "        vertical-align: top;\n",
       "    }\n",
       "\n",
       "    .dataframe thead th {\n",
       "        text-align: right;\n",
       "    }\n",
       "</style>\n",
       "<table border=\"1\" class=\"dataframe\">\n",
       "  <thead>\n",
       "    <tr style=\"text-align: right;\">\n",
       "      <th></th>\n",
       "      <th>order_id</th>\n",
       "      <th>order_item_id</th>\n",
       "      <th>product_id</th>\n",
       "      <th>seller_id</th>\n",
       "      <th>shipping_limit_date</th>\n",
       "      <th>price</th>\n",
       "      <th>freight_value</th>\n",
       "    </tr>\n",
       "  </thead>\n",
       "  <tbody>\n",
       "    <tr>\n",
       "      <th>0</th>\n",
       "      <td>00010242fe8c5a6d1ba2dd792cb16214</td>\n",
       "      <td>1</td>\n",
       "      <td>4244733e06e7ecb4970a6e2683c13e61</td>\n",
       "      <td>48436dade18ac8b2bce089ec2a041202</td>\n",
       "      <td>2017-09-19 09:45:35</td>\n",
       "      <td>58.90</td>\n",
       "      <td>13.29</td>\n",
       "    </tr>\n",
       "    <tr>\n",
       "      <th>1</th>\n",
       "      <td>00018f77f2f0320c557190d7a144bdd3</td>\n",
       "      <td>1</td>\n",
       "      <td>e5f2d52b802189ee658865ca93d83a8f</td>\n",
       "      <td>dd7ddc04e1b6c2c614352b383efe2d36</td>\n",
       "      <td>2017-05-03 11:05:13</td>\n",
       "      <td>239.90</td>\n",
       "      <td>19.93</td>\n",
       "    </tr>\n",
       "    <tr>\n",
       "      <th>2</th>\n",
       "      <td>000229ec398224ef6ca0657da4fc703e</td>\n",
       "      <td>1</td>\n",
       "      <td>c777355d18b72b67abbeef9df44fd0fd</td>\n",
       "      <td>5b51032eddd242adc84c38acab88f23d</td>\n",
       "      <td>2018-01-18 14:48:30</td>\n",
       "      <td>199.00</td>\n",
       "      <td>17.87</td>\n",
       "    </tr>\n",
       "    <tr>\n",
       "      <th>3</th>\n",
       "      <td>00024acbcdf0a6daa1e931b038114c75</td>\n",
       "      <td>1</td>\n",
       "      <td>7634da152a4610f1595efa32f14722fc</td>\n",
       "      <td>9d7a1d34a5052409006425275ba1c2b4</td>\n",
       "      <td>2018-08-15 10:10:18</td>\n",
       "      <td>12.99</td>\n",
       "      <td>12.79</td>\n",
       "    </tr>\n",
       "    <tr>\n",
       "      <th>4</th>\n",
       "      <td>00042b26cf59d7ce69dfabb4e55b4fd9</td>\n",
       "      <td>1</td>\n",
       "      <td>ac6c3623068f30de03045865e4e10089</td>\n",
       "      <td>df560393f3a51e74553ab94004ba5c87</td>\n",
       "      <td>2017-02-13 13:57:51</td>\n",
       "      <td>199.90</td>\n",
       "      <td>18.14</td>\n",
       "    </tr>\n",
       "  </tbody>\n",
       "</table>\n",
       "</div>"
      ],
      "text/plain": [
       "                           order_id  order_item_id  \\\n",
       "0  00010242fe8c5a6d1ba2dd792cb16214              1   \n",
       "1  00018f77f2f0320c557190d7a144bdd3              1   \n",
       "2  000229ec398224ef6ca0657da4fc703e              1   \n",
       "3  00024acbcdf0a6daa1e931b038114c75              1   \n",
       "4  00042b26cf59d7ce69dfabb4e55b4fd9              1   \n",
       "\n",
       "                         product_id                         seller_id  \\\n",
       "0  4244733e06e7ecb4970a6e2683c13e61  48436dade18ac8b2bce089ec2a041202   \n",
       "1  e5f2d52b802189ee658865ca93d83a8f  dd7ddc04e1b6c2c614352b383efe2d36   \n",
       "2  c777355d18b72b67abbeef9df44fd0fd  5b51032eddd242adc84c38acab88f23d   \n",
       "3  7634da152a4610f1595efa32f14722fc  9d7a1d34a5052409006425275ba1c2b4   \n",
       "4  ac6c3623068f30de03045865e4e10089  df560393f3a51e74553ab94004ba5c87   \n",
       "\n",
       "   shipping_limit_date   price  freight_value  \n",
       "0  2017-09-19 09:45:35   58.90          13.29  \n",
       "1  2017-05-03 11:05:13  239.90          19.93  \n",
       "2  2018-01-18 14:48:30  199.00          17.87  \n",
       "3  2018-08-15 10:10:18   12.99          12.79  \n",
       "4  2017-02-13 13:57:51  199.90          18.14  "
      ]
     },
     "execution_count": 37,
     "metadata": {},
     "output_type": "execute_result"
    }
   ],
   "source": [
    "order_items.head()"
   ]
  },
  {
   "cell_type": "code",
   "execution_count": 38,
   "metadata": {},
   "outputs": [],
   "source": [
    "products_data = pd.read_csv('data/olist_products_dataset.csv')"
   ]
  },
  {
   "cell_type": "code",
   "execution_count": 40,
   "metadata": {},
   "outputs": [
    {
     "data": {
      "text/html": [
       "<div>\n",
       "<style scoped>\n",
       "    .dataframe tbody tr th:only-of-type {\n",
       "        vertical-align: middle;\n",
       "    }\n",
       "\n",
       "    .dataframe tbody tr th {\n",
       "        vertical-align: top;\n",
       "    }\n",
       "\n",
       "    .dataframe thead th {\n",
       "        text-align: right;\n",
       "    }\n",
       "</style>\n",
       "<table border=\"1\" class=\"dataframe\">\n",
       "  <thead>\n",
       "    <tr style=\"text-align: right;\">\n",
       "      <th></th>\n",
       "      <th>product_id</th>\n",
       "      <th>product_category_name</th>\n",
       "      <th>product_name_lenght</th>\n",
       "      <th>product_description_lenght</th>\n",
       "      <th>product_photos_qty</th>\n",
       "      <th>product_weight_g</th>\n",
       "      <th>product_length_cm</th>\n",
       "      <th>product_height_cm</th>\n",
       "      <th>product_width_cm</th>\n",
       "    </tr>\n",
       "  </thead>\n",
       "  <tbody>\n",
       "    <tr>\n",
       "      <th>0</th>\n",
       "      <td>1e9e8ef04dbcff4541ed26657ea517e5</td>\n",
       "      <td>perfumaria</td>\n",
       "      <td>40.0</td>\n",
       "      <td>287.0</td>\n",
       "      <td>1.0</td>\n",
       "      <td>225.0</td>\n",
       "      <td>16.0</td>\n",
       "      <td>10.0</td>\n",
       "      <td>14.0</td>\n",
       "    </tr>\n",
       "    <tr>\n",
       "      <th>1</th>\n",
       "      <td>3aa071139cb16b67ca9e5dea641aaa2f</td>\n",
       "      <td>artes</td>\n",
       "      <td>44.0</td>\n",
       "      <td>276.0</td>\n",
       "      <td>1.0</td>\n",
       "      <td>1000.0</td>\n",
       "      <td>30.0</td>\n",
       "      <td>18.0</td>\n",
       "      <td>20.0</td>\n",
       "    </tr>\n",
       "    <tr>\n",
       "      <th>2</th>\n",
       "      <td>96bd76ec8810374ed1b65e291975717f</td>\n",
       "      <td>esporte_lazer</td>\n",
       "      <td>46.0</td>\n",
       "      <td>250.0</td>\n",
       "      <td>1.0</td>\n",
       "      <td>154.0</td>\n",
       "      <td>18.0</td>\n",
       "      <td>9.0</td>\n",
       "      <td>15.0</td>\n",
       "    </tr>\n",
       "    <tr>\n",
       "      <th>3</th>\n",
       "      <td>cef67bcfe19066a932b7673e239eb23d</td>\n",
       "      <td>bebes</td>\n",
       "      <td>27.0</td>\n",
       "      <td>261.0</td>\n",
       "      <td>1.0</td>\n",
       "      <td>371.0</td>\n",
       "      <td>26.0</td>\n",
       "      <td>4.0</td>\n",
       "      <td>26.0</td>\n",
       "    </tr>\n",
       "    <tr>\n",
       "      <th>4</th>\n",
       "      <td>9dc1a7de274444849c219cff195d0b71</td>\n",
       "      <td>utilidades_domesticas</td>\n",
       "      <td>37.0</td>\n",
       "      <td>402.0</td>\n",
       "      <td>4.0</td>\n",
       "      <td>625.0</td>\n",
       "      <td>20.0</td>\n",
       "      <td>17.0</td>\n",
       "      <td>13.0</td>\n",
       "    </tr>\n",
       "  </tbody>\n",
       "</table>\n",
       "</div>"
      ],
      "text/plain": [
       "                         product_id  product_category_name  \\\n",
       "0  1e9e8ef04dbcff4541ed26657ea517e5             perfumaria   \n",
       "1  3aa071139cb16b67ca9e5dea641aaa2f                  artes   \n",
       "2  96bd76ec8810374ed1b65e291975717f          esporte_lazer   \n",
       "3  cef67bcfe19066a932b7673e239eb23d                  bebes   \n",
       "4  9dc1a7de274444849c219cff195d0b71  utilidades_domesticas   \n",
       "\n",
       "   product_name_lenght  product_description_lenght  product_photos_qty  \\\n",
       "0                 40.0                       287.0                 1.0   \n",
       "1                 44.0                       276.0                 1.0   \n",
       "2                 46.0                       250.0                 1.0   \n",
       "3                 27.0                       261.0                 1.0   \n",
       "4                 37.0                       402.0                 4.0   \n",
       "\n",
       "   product_weight_g  product_length_cm  product_height_cm  product_width_cm  \n",
       "0             225.0               16.0               10.0              14.0  \n",
       "1            1000.0               30.0               18.0              20.0  \n",
       "2             154.0               18.0                9.0              15.0  \n",
       "3             371.0               26.0                4.0              26.0  \n",
       "4             625.0               20.0               17.0              13.0  "
      ]
     },
     "execution_count": 40,
     "metadata": {},
     "output_type": "execute_result"
    }
   ],
   "source": [
    "products_data.head()"
   ]
  },
  {
   "cell_type": "code",
   "execution_count": 41,
   "metadata": {},
   "outputs": [],
   "source": [
    "products_data = products_data[['product_id', 'product_category_name']]"
   ]
  },
  {
   "cell_type": "code",
   "execution_count": 42,
   "metadata": {},
   "outputs": [
    {
     "data": {
      "text/html": [
       "<div>\n",
       "<style scoped>\n",
       "    .dataframe tbody tr th:only-of-type {\n",
       "        vertical-align: middle;\n",
       "    }\n",
       "\n",
       "    .dataframe tbody tr th {\n",
       "        vertical-align: top;\n",
       "    }\n",
       "\n",
       "    .dataframe thead th {\n",
       "        text-align: right;\n",
       "    }\n",
       "</style>\n",
       "<table border=\"1\" class=\"dataframe\">\n",
       "  <thead>\n",
       "    <tr style=\"text-align: right;\">\n",
       "      <th></th>\n",
       "      <th>product_id</th>\n",
       "      <th>product_category_name</th>\n",
       "    </tr>\n",
       "  </thead>\n",
       "  <tbody>\n",
       "    <tr>\n",
       "      <th>0</th>\n",
       "      <td>1e9e8ef04dbcff4541ed26657ea517e5</td>\n",
       "      <td>perfumaria</td>\n",
       "    </tr>\n",
       "    <tr>\n",
       "      <th>1</th>\n",
       "      <td>3aa071139cb16b67ca9e5dea641aaa2f</td>\n",
       "      <td>artes</td>\n",
       "    </tr>\n",
       "    <tr>\n",
       "      <th>2</th>\n",
       "      <td>96bd76ec8810374ed1b65e291975717f</td>\n",
       "      <td>esporte_lazer</td>\n",
       "    </tr>\n",
       "    <tr>\n",
       "      <th>3</th>\n",
       "      <td>cef67bcfe19066a932b7673e239eb23d</td>\n",
       "      <td>bebes</td>\n",
       "    </tr>\n",
       "    <tr>\n",
       "      <th>4</th>\n",
       "      <td>9dc1a7de274444849c219cff195d0b71</td>\n",
       "      <td>utilidades_domesticas</td>\n",
       "    </tr>\n",
       "  </tbody>\n",
       "</table>\n",
       "</div>"
      ],
      "text/plain": [
       "                         product_id  product_category_name\n",
       "0  1e9e8ef04dbcff4541ed26657ea517e5             perfumaria\n",
       "1  3aa071139cb16b67ca9e5dea641aaa2f                  artes\n",
       "2  96bd76ec8810374ed1b65e291975717f          esporte_lazer\n",
       "3  cef67bcfe19066a932b7673e239eb23d                  bebes\n",
       "4  9dc1a7de274444849c219cff195d0b71  utilidades_domesticas"
      ]
     },
     "execution_count": 42,
     "metadata": {},
     "output_type": "execute_result"
    }
   ],
   "source": [
    "products_data.head()"
   ]
  },
  {
   "cell_type": "code",
   "execution_count": 45,
   "metadata": {},
   "outputs": [
    {
     "name": "stdout",
     "output_type": "stream",
     "text": [
      "Unique values:  32951\n",
      "All values:  32951\n"
     ]
    }
   ],
   "source": [
    "print(\"Unique values: \", products_data['product_id'].nunique())\n",
    "print(\"All values: \", products_data.shape[0])"
   ]
  },
  {
   "cell_type": "code",
   "execution_count": 47,
   "metadata": {},
   "outputs": [],
   "source": [
    "items_with_categories = order_items.merge(products_data, on='product_id')"
   ]
  },
  {
   "cell_type": "code",
   "execution_count": 61,
   "metadata": {},
   "outputs": [],
   "source": [
    "categories_stat = items_with_categories.groupby('product_category_name').agg({'price': ['sum', 'count', 'mean']})\\\n",
    "                        .sort_values(by=('price', 'sum'), ascending=False)"
   ]
  },
  {
   "cell_type": "code",
   "execution_count": 62,
   "metadata": {},
   "outputs": [
    {
     "data": {
      "text/html": [
       "<div>\n",
       "<style scoped>\n",
       "    .dataframe tbody tr th:only-of-type {\n",
       "        vertical-align: middle;\n",
       "    }\n",
       "\n",
       "    .dataframe tbody tr th {\n",
       "        vertical-align: top;\n",
       "    }\n",
       "\n",
       "    .dataframe thead tr th {\n",
       "        text-align: left;\n",
       "    }\n",
       "\n",
       "    .dataframe thead tr:last-of-type th {\n",
       "        text-align: right;\n",
       "    }\n",
       "</style>\n",
       "<table border=\"1\" class=\"dataframe\">\n",
       "  <thead>\n",
       "    <tr>\n",
       "      <th></th>\n",
       "      <th colspan=\"3\" halign=\"left\">price</th>\n",
       "    </tr>\n",
       "    <tr>\n",
       "      <th></th>\n",
       "      <th>sum</th>\n",
       "      <th>count</th>\n",
       "      <th>mean</th>\n",
       "    </tr>\n",
       "    <tr>\n",
       "      <th>product_category_name</th>\n",
       "      <th></th>\n",
       "      <th></th>\n",
       "      <th></th>\n",
       "    </tr>\n",
       "  </thead>\n",
       "  <tbody>\n",
       "    <tr>\n",
       "      <th>beleza_saude</th>\n",
       "      <td>1258681.34</td>\n",
       "      <td>9670</td>\n",
       "      <td>130.163531</td>\n",
       "    </tr>\n",
       "    <tr>\n",
       "      <th>relogios_presentes</th>\n",
       "      <td>1205005.68</td>\n",
       "      <td>5991</td>\n",
       "      <td>201.135984</td>\n",
       "    </tr>\n",
       "    <tr>\n",
       "      <th>cama_mesa_banho</th>\n",
       "      <td>1036988.68</td>\n",
       "      <td>11115</td>\n",
       "      <td>93.296327</td>\n",
       "    </tr>\n",
       "    <tr>\n",
       "      <th>esporte_lazer</th>\n",
       "      <td>988048.97</td>\n",
       "      <td>8641</td>\n",
       "      <td>114.344285</td>\n",
       "    </tr>\n",
       "    <tr>\n",
       "      <th>informatica_acessorios</th>\n",
       "      <td>911954.32</td>\n",
       "      <td>7827</td>\n",
       "      <td>116.513903</td>\n",
       "    </tr>\n",
       "  </tbody>\n",
       "</table>\n",
       "</div>"
      ],
      "text/plain": [
       "                             price                   \n",
       "                               sum  count        mean\n",
       "product_category_name                                \n",
       "beleza_saude            1258681.34   9670  130.163531\n",
       "relogios_presentes      1205005.68   5991  201.135984\n",
       "cama_mesa_banho         1036988.68  11115   93.296327\n",
       "esporte_lazer            988048.97   8641  114.344285\n",
       "informatica_acessorios   911954.32   7827  116.513903"
      ]
     },
     "execution_count": 62,
     "metadata": {},
     "output_type": "execute_result"
    }
   ],
   "source": [
    "categories_stat.head()"
   ]
  },
  {
   "cell_type": "code",
   "execution_count": 60,
   "metadata": {},
   "outputs": [
    {
     "data": {
      "text/html": [
       "<div>\n",
       "<style scoped>\n",
       "    .dataframe tbody tr th:only-of-type {\n",
       "        vertical-align: middle;\n",
       "    }\n",
       "\n",
       "    .dataframe tbody tr th {\n",
       "        vertical-align: top;\n",
       "    }\n",
       "\n",
       "    .dataframe thead th {\n",
       "        text-align: right;\n",
       "    }\n",
       "</style>\n",
       "<table border=\"1\" class=\"dataframe\">\n",
       "  <thead>\n",
       "    <tr style=\"text-align: right;\">\n",
       "      <th></th>\n",
       "      <th>product_category_name_english</th>\n",
       "    </tr>\n",
       "    <tr>\n",
       "      <th>product_category_name</th>\n",
       "      <th></th>\n",
       "    </tr>\n",
       "  </thead>\n",
       "  <tbody>\n",
       "    <tr>\n",
       "      <th>beleza_saude</th>\n",
       "      <td>health_beauty</td>\n",
       "    </tr>\n",
       "    <tr>\n",
       "      <th>informatica_acessorios</th>\n",
       "      <td>computers_accessories</td>\n",
       "    </tr>\n",
       "    <tr>\n",
       "      <th>automotivo</th>\n",
       "      <td>auto</td>\n",
       "    </tr>\n",
       "    <tr>\n",
       "      <th>cama_mesa_banho</th>\n",
       "      <td>bed_bath_table</td>\n",
       "    </tr>\n",
       "    <tr>\n",
       "      <th>moveis_decoracao</th>\n",
       "      <td>furniture_decor</td>\n",
       "    </tr>\n",
       "  </tbody>\n",
       "</table>\n",
       "</div>"
      ],
      "text/plain": [
       "                       product_category_name_english\n",
       "product_category_name                               \n",
       "beleza_saude                           health_beauty\n",
       "informatica_acessorios         computers_accessories\n",
       "automotivo                                      auto\n",
       "cama_mesa_banho                       bed_bath_table\n",
       "moveis_decoracao                     furniture_decor"
      ]
     },
     "execution_count": 60,
     "metadata": {},
     "output_type": "execute_result"
    }
   ],
   "source": [
    "translations = pd.read_csv('data/product_category_name_translation.csv')\n",
    "translations.set_index(keys='product_category_name', inplace=True)\n",
    "translations.head()"
   ]
  },
  {
   "cell_type": "code",
   "execution_count": 66,
   "metadata": {},
   "outputs": [
    {
     "name": "stderr",
     "output_type": "stream",
     "text": [
      "C:\\Users\\Brux\\anaconda3\\lib\\site-packages\\pandas\\core\\frame.py:9199: FutureWarning: merging between different levels is deprecated and will be removed in a future version. (2 levels on the left,1 on the right)\n",
      "  validate=validate,\n"
     ]
    }
   ],
   "source": [
    "categories_stat = categories_stat.merge(translations, left_index=True, right_index=True)"
   ]
  },
  {
   "cell_type": "code",
   "execution_count": 67,
   "metadata": {},
   "outputs": [
    {
     "data": {
      "text/html": [
       "<div>\n",
       "<style scoped>\n",
       "    .dataframe tbody tr th:only-of-type {\n",
       "        vertical-align: middle;\n",
       "    }\n",
       "\n",
       "    .dataframe tbody tr th {\n",
       "        vertical-align: top;\n",
       "    }\n",
       "\n",
       "    .dataframe thead th {\n",
       "        text-align: right;\n",
       "    }\n",
       "</style>\n",
       "<table border=\"1\" class=\"dataframe\">\n",
       "  <thead>\n",
       "    <tr style=\"text-align: right;\">\n",
       "      <th></th>\n",
       "      <th>(price, sum)</th>\n",
       "      <th>(price, count)</th>\n",
       "      <th>(price, mean)</th>\n",
       "      <th>product_category_name_english</th>\n",
       "    </tr>\n",
       "    <tr>\n",
       "      <th>product_category_name</th>\n",
       "      <th></th>\n",
       "      <th></th>\n",
       "      <th></th>\n",
       "      <th></th>\n",
       "    </tr>\n",
       "  </thead>\n",
       "  <tbody>\n",
       "    <tr>\n",
       "      <th>beleza_saude</th>\n",
       "      <td>1258681.34</td>\n",
       "      <td>9670</td>\n",
       "      <td>130.163531</td>\n",
       "      <td>health_beauty</td>\n",
       "    </tr>\n",
       "    <tr>\n",
       "      <th>relogios_presentes</th>\n",
       "      <td>1205005.68</td>\n",
       "      <td>5991</td>\n",
       "      <td>201.135984</td>\n",
       "      <td>watches_gifts</td>\n",
       "    </tr>\n",
       "    <tr>\n",
       "      <th>cama_mesa_banho</th>\n",
       "      <td>1036988.68</td>\n",
       "      <td>11115</td>\n",
       "      <td>93.296327</td>\n",
       "      <td>bed_bath_table</td>\n",
       "    </tr>\n",
       "    <tr>\n",
       "      <th>esporte_lazer</th>\n",
       "      <td>988048.97</td>\n",
       "      <td>8641</td>\n",
       "      <td>114.344285</td>\n",
       "      <td>sports_leisure</td>\n",
       "    </tr>\n",
       "    <tr>\n",
       "      <th>informatica_acessorios</th>\n",
       "      <td>911954.32</td>\n",
       "      <td>7827</td>\n",
       "      <td>116.513903</td>\n",
       "      <td>computers_accessories</td>\n",
       "    </tr>\n",
       "  </tbody>\n",
       "</table>\n",
       "</div>"
      ],
      "text/plain": [
       "                        (price, sum)  (price, count)  (price, mean)  \\\n",
       "product_category_name                                                 \n",
       "beleza_saude              1258681.34            9670     130.163531   \n",
       "relogios_presentes        1205005.68            5991     201.135984   \n",
       "cama_mesa_banho           1036988.68           11115      93.296327   \n",
       "esporte_lazer              988048.97            8641     114.344285   \n",
       "informatica_acessorios     911954.32            7827     116.513903   \n",
       "\n",
       "                       product_category_name_english  \n",
       "product_category_name                                 \n",
       "beleza_saude                           health_beauty  \n",
       "relogios_presentes                     watches_gifts  \n",
       "cama_mesa_banho                       bed_bath_table  \n",
       "esporte_lazer                         sports_leisure  \n",
       "informatica_acessorios         computers_accessories  "
      ]
     },
     "execution_count": 67,
     "metadata": {},
     "output_type": "execute_result"
    }
   ],
   "source": [
    "categories_stat.head()"
   ]
  },
  {
   "cell_type": "code",
   "execution_count": 70,
   "metadata": {
    "collapsed": true
   },
   "outputs": [
    {
     "data": {
      "text/plain": [
       "['health_beauty',\n",
       " 'watches_gifts',\n",
       " 'bed_bath_table',\n",
       " 'sports_leisure',\n",
       " 'computers_accessories',\n",
       " 'furniture_decor',\n",
       " 'cool_stuff',\n",
       " 'housewares',\n",
       " 'auto',\n",
       " 'garden_tools',\n",
       " 'toys',\n",
       " 'baby',\n",
       " 'perfumery',\n",
       " 'telephony',\n",
       " 'office_furniture',\n",
       " 'stationery',\n",
       " 'computers',\n",
       " 'pet_shop',\n",
       " 'musical_instruments',\n",
       " 'small_appliances',\n",
       " 'electronics',\n",
       " 'consoles_games',\n",
       " 'fashion_bags_accessories',\n",
       " 'construction_tools_construction',\n",
       " 'luggage_accessories',\n",
       " 'home_appliances_2',\n",
       " 'home_construction',\n",
       " 'home_appliances',\n",
       " 'agro_industry_and_commerce',\n",
       " 'furniture_living_room',\n",
       " 'fixed_telephony',\n",
       " 'home_confort',\n",
       " 'air_conditioning',\n",
       " 'audio',\n",
       " 'small_appliances_home_oven_and_coffee',\n",
       " 'books_general_interest',\n",
       " 'kitchen_dining_laundry_garden_furniture',\n",
       " 'construction_tools_lights',\n",
       " 'construction_tools_safety',\n",
       " 'industry_commerce_and_business',\n",
       " 'food',\n",
       " 'market_place',\n",
       " 'costruction_tools_garden',\n",
       " 'art',\n",
       " 'fashion_shoes',\n",
       " 'drinks',\n",
       " 'signaling_and_security',\n",
       " 'furniture_bedroom',\n",
       " 'books_technical',\n",
       " 'costruction_tools_tools',\n",
       " 'food_drink',\n",
       " 'fashion_male_clothing',\n",
       " 'fashion_underwear_beach',\n",
       " 'christmas_supplies',\n",
       " 'tablets_printing_image',\n",
       " 'cine_photo',\n",
       " 'music',\n",
       " 'dvds_blu_ray',\n",
       " 'books_imported',\n",
       " 'party_supplies',\n",
       " 'furniture_mattress_and_upholstery',\n",
       " 'fashio_female_clothing',\n",
       " 'fashion_sport',\n",
       " 'la_cuisine',\n",
       " 'arts_and_craftmanship',\n",
       " 'diapers_and_hygiene',\n",
       " 'flowers',\n",
       " 'home_comfort_2',\n",
       " 'cds_dvds_musicals',\n",
       " 'fashion_childrens_clothes',\n",
       " 'security_and_services']"
      ]
     },
     "execution_count": 70,
     "metadata": {},
     "output_type": "execute_result"
    }
   ],
   "source": [
    "list(categories_stat['product_category_name_english'])"
   ]
  },
  {
   "cell_type": "markdown",
   "metadata": {},
   "source": [
    "## Распределение времени доставки"
   ]
  },
  {
   "cell_type": "code",
   "execution_count": 103,
   "metadata": {},
   "outputs": [],
   "source": [
    "orders_data.dropna(subset=['order_delivered_customer_date'], inplace=True)"
   ]
  },
  {
   "cell_type": "code",
   "execution_count": 104,
   "metadata": {},
   "outputs": [],
   "source": [
    "orders_data['order_purchase_timestamp'] = orders_data['order_purchase_timestamp'].apply(lambda x: datetime.strptime(x, '%Y-%m-%d %H:%M:%S'))\n",
    "orders_data['order_delivered_customer_date'] = orders_data['order_delivered_customer_date'].apply(lambda x: datetime.strptime(x, '%Y-%m-%d %H:%M:%S'))"
   ]
  },
  {
   "cell_type": "code",
   "execution_count": 106,
   "metadata": {},
   "outputs": [],
   "source": [
    "orders_data['delivery_time'] = orders_data['order_delivered_customer_date'] - orders_data['order_purchase_timestamp']"
   ]
  },
  {
   "cell_type": "code",
   "execution_count": 118,
   "metadata": {},
   "outputs": [
    {
     "data": {
      "text/html": [
       "<div>\n",
       "<style scoped>\n",
       "    .dataframe tbody tr th:only-of-type {\n",
       "        vertical-align: middle;\n",
       "    }\n",
       "\n",
       "    .dataframe tbody tr th {\n",
       "        vertical-align: top;\n",
       "    }\n",
       "\n",
       "    .dataframe thead th {\n",
       "        text-align: right;\n",
       "    }\n",
       "</style>\n",
       "<table border=\"1\" class=\"dataframe\">\n",
       "  <thead>\n",
       "    <tr style=\"text-align: right;\">\n",
       "      <th></th>\n",
       "      <th>order_id</th>\n",
       "      <th>customer_id</th>\n",
       "      <th>order_status</th>\n",
       "      <th>order_purchase_timestamp</th>\n",
       "      <th>order_approved_at</th>\n",
       "      <th>order_delivered_carrier_date</th>\n",
       "      <th>order_delivered_customer_date</th>\n",
       "      <th>order_estimated_delivery_date</th>\n",
       "      <th>delivery_time</th>\n",
       "    </tr>\n",
       "  </thead>\n",
       "  <tbody>\n",
       "    <tr>\n",
       "      <th>0</th>\n",
       "      <td>e481f51cbdc54678b7cc49136f2d6af7</td>\n",
       "      <td>9ef432eb6251297304e76186b10a928d</td>\n",
       "      <td>delivered</td>\n",
       "      <td>2017-10-02 10:56:33</td>\n",
       "      <td>2017-10-02 11:07:15</td>\n",
       "      <td>2017-10-04 19:55:00</td>\n",
       "      <td>2017-10-10 21:25:13</td>\n",
       "      <td>2017-10-18 00:00:00</td>\n",
       "      <td>8 days 10:28:40</td>\n",
       "    </tr>\n",
       "    <tr>\n",
       "      <th>1</th>\n",
       "      <td>53cdb2fc8bc7dce0b6741e2150273451</td>\n",
       "      <td>b0830fb4747a6c6d20dea0b8c802d7ef</td>\n",
       "      <td>delivered</td>\n",
       "      <td>2018-07-24 20:41:37</td>\n",
       "      <td>2018-07-26 03:24:27</td>\n",
       "      <td>2018-07-26 14:31:00</td>\n",
       "      <td>2018-08-07 15:27:45</td>\n",
       "      <td>2018-08-13 00:00:00</td>\n",
       "      <td>13 days 18:46:08</td>\n",
       "    </tr>\n",
       "    <tr>\n",
       "      <th>2</th>\n",
       "      <td>47770eb9100c2d0c44946d9cf07ec65d</td>\n",
       "      <td>41ce2a54c0b03bf3443c3d931a367089</td>\n",
       "      <td>delivered</td>\n",
       "      <td>2018-08-08 08:38:49</td>\n",
       "      <td>2018-08-08 08:55:23</td>\n",
       "      <td>2018-08-08 13:50:00</td>\n",
       "      <td>2018-08-17 18:06:29</td>\n",
       "      <td>2018-09-04 00:00:00</td>\n",
       "      <td>9 days 09:27:40</td>\n",
       "    </tr>\n",
       "    <tr>\n",
       "      <th>3</th>\n",
       "      <td>949d5b44dbf5de918fe9c16f97b45f8a</td>\n",
       "      <td>f88197465ea7920adcdbec7375364d82</td>\n",
       "      <td>delivered</td>\n",
       "      <td>2017-11-18 19:28:06</td>\n",
       "      <td>2017-11-18 19:45:59</td>\n",
       "      <td>2017-11-22 13:39:59</td>\n",
       "      <td>2017-12-02 00:28:42</td>\n",
       "      <td>2017-12-15 00:00:00</td>\n",
       "      <td>13 days 05:00:36</td>\n",
       "    </tr>\n",
       "    <tr>\n",
       "      <th>4</th>\n",
       "      <td>ad21c59c0840e6cb83a9ceb5573f8159</td>\n",
       "      <td>8ab97904e6daea8866dbdbc4fb7aad2c</td>\n",
       "      <td>delivered</td>\n",
       "      <td>2018-02-13 21:18:39</td>\n",
       "      <td>2018-02-13 22:20:29</td>\n",
       "      <td>2018-02-14 19:46:34</td>\n",
       "      <td>2018-02-16 18:17:02</td>\n",
       "      <td>2018-02-26 00:00:00</td>\n",
       "      <td>2 days 20:58:23</td>\n",
       "    </tr>\n",
       "  </tbody>\n",
       "</table>\n",
       "</div>"
      ],
      "text/plain": [
       "                           order_id                       customer_id  \\\n",
       "0  e481f51cbdc54678b7cc49136f2d6af7  9ef432eb6251297304e76186b10a928d   \n",
       "1  53cdb2fc8bc7dce0b6741e2150273451  b0830fb4747a6c6d20dea0b8c802d7ef   \n",
       "2  47770eb9100c2d0c44946d9cf07ec65d  41ce2a54c0b03bf3443c3d931a367089   \n",
       "3  949d5b44dbf5de918fe9c16f97b45f8a  f88197465ea7920adcdbec7375364d82   \n",
       "4  ad21c59c0840e6cb83a9ceb5573f8159  8ab97904e6daea8866dbdbc4fb7aad2c   \n",
       "\n",
       "  order_status order_purchase_timestamp    order_approved_at  \\\n",
       "0    delivered      2017-10-02 10:56:33  2017-10-02 11:07:15   \n",
       "1    delivered      2018-07-24 20:41:37  2018-07-26 03:24:27   \n",
       "2    delivered      2018-08-08 08:38:49  2018-08-08 08:55:23   \n",
       "3    delivered      2017-11-18 19:28:06  2017-11-18 19:45:59   \n",
       "4    delivered      2018-02-13 21:18:39  2018-02-13 22:20:29   \n",
       "\n",
       "  order_delivered_carrier_date order_delivered_customer_date  \\\n",
       "0          2017-10-04 19:55:00           2017-10-10 21:25:13   \n",
       "1          2018-07-26 14:31:00           2018-08-07 15:27:45   \n",
       "2          2018-08-08 13:50:00           2018-08-17 18:06:29   \n",
       "3          2017-11-22 13:39:59           2017-12-02 00:28:42   \n",
       "4          2018-02-14 19:46:34           2018-02-16 18:17:02   \n",
       "\n",
       "  order_estimated_delivery_date    delivery_time  \n",
       "0           2017-10-18 00:00:00  8 days 10:28:40  \n",
       "1           2018-08-13 00:00:00 13 days 18:46:08  \n",
       "2           2018-09-04 00:00:00  9 days 09:27:40  \n",
       "3           2017-12-15 00:00:00 13 days 05:00:36  \n",
       "4           2018-02-26 00:00:00  2 days 20:58:23  "
      ]
     },
     "execution_count": 118,
     "metadata": {},
     "output_type": "execute_result"
    }
   ],
   "source": [
    "orders_data.head()"
   ]
  },
  {
   "cell_type": "code",
   "execution_count": 119,
   "metadata": {},
   "outputs": [],
   "source": [
    "orders_data['delivery_time_hrs'] = orders_data['delivery_time'].apply(lambda x: x.total_seconds()/3600)"
   ]
  },
  {
   "cell_type": "code",
   "execution_count": 124,
   "metadata": {},
   "outputs": [
    {
     "data": {
      "text/plain": [
       "<AxesSubplot:>"
      ]
     },
     "execution_count": 124,
     "metadata": {},
     "output_type": "execute_result"
    },
    {
     "data": {
      "image/png": "[encoded data removed]",
      "text/plain": [
       "<Figure size 432x288 with 1 Axes>"
      ]
     },
     "metadata": {
      "needs_background": "light"
     },
     "output_type": "display_data"
    }
   ],
   "source": [
    "orders_data['delivery_time_hrs'].hist(bins=50)"
   ]
  },
  {
   "cell_type": "markdown",
   "metadata": {},
   "source": [
    "### Вложенные данные, json"
   ]
  },
  {
   "cell_type": "markdown",
   "metadata": {},
   "source": [
    "Начнем делать домашку, сделаем топ режиссеров"
   ]
  },
  {
   "cell_type": "code",
   "execution_count": 131,
   "metadata": {},
   "outputs": [],
   "source": [
    "credits = pd.read_csv('homework/data/credits.csv')"
   ]
  },
  {
   "cell_type": "code",
   "execution_count": 132,
   "metadata": {},
   "outputs": [
    {
     "data": {
      "text/html": [
       "<div>\n",
       "<style scoped>\n",
       "    .dataframe tbody tr th:only-of-type {\n",
       "        vertical-align: middle;\n",
       "    }\n",
       "\n",
       "    .dataframe tbody tr th {\n",
       "        vertical-align: top;\n",
       "    }\n",
       "\n",
       "    .dataframe thead th {\n",
       "        text-align: right;\n",
       "    }\n",
       "</style>\n",
       "<table border=\"1\" class=\"dataframe\">\n",
       "  <thead>\n",
       "    <tr style=\"text-align: right;\">\n",
       "      <th></th>\n",
       "      <th>cast</th>\n",
       "      <th>crew</th>\n",
       "      <th>id</th>\n",
       "    </tr>\n",
       "  </thead>\n",
       "  <tbody>\n",
       "    <tr>\n",
       "      <th>0</th>\n",
       "      <td>[{'cast_id': 14, 'character': 'Woody (voice)',...</td>\n",
       "      <td>[{'credit_id': '52fe4284c3a36847f8024f49', 'de...</td>\n",
       "      <td>862</td>\n",
       "    </tr>\n",
       "    <tr>\n",
       "      <th>1</th>\n",
       "      <td>[{'cast_id': 1, 'character': 'Alan Parrish', '...</td>\n",
       "      <td>[{'credit_id': '52fe44bfc3a36847f80a7cd1', 'de...</td>\n",
       "      <td>8844</td>\n",
       "    </tr>\n",
       "    <tr>\n",
       "      <th>2</th>\n",
       "      <td>[{'cast_id': 2, 'character': 'Max Goldman', 'c...</td>\n",
       "      <td>[{'credit_id': '52fe466a9251416c75077a89', 'de...</td>\n",
       "      <td>15602</td>\n",
       "    </tr>\n",
       "    <tr>\n",
       "      <th>3</th>\n",
       "      <td>[{'cast_id': 1, 'character': \"Savannah 'Vannah...</td>\n",
       "      <td>[{'credit_id': '52fe44779251416c91011acb', 'de...</td>\n",
       "      <td>31357</td>\n",
       "    </tr>\n",
       "    <tr>\n",
       "      <th>4</th>\n",
       "      <td>[{'cast_id': 1, 'character': 'George Banks', '...</td>\n",
       "      <td>[{'credit_id': '52fe44959251416c75039ed7', 'de...</td>\n",
       "      <td>11862</td>\n",
       "    </tr>\n",
       "  </tbody>\n",
       "</table>\n",
       "</div>"
      ],
      "text/plain": [
       "                                                cast  \\\n",
       "0  [{'cast_id': 14, 'character': 'Woody (voice)',...   \n",
       "1  [{'cast_id': 1, 'character': 'Alan Parrish', '...   \n",
       "2  [{'cast_id': 2, 'character': 'Max Goldman', 'c...   \n",
       "3  [{'cast_id': 1, 'character': \"Savannah 'Vannah...   \n",
       "4  [{'cast_id': 1, 'character': 'George Banks', '...   \n",
       "\n",
       "                                                crew     id  \n",
       "0  [{'credit_id': '52fe4284c3a36847f8024f49', 'de...    862  \n",
       "1  [{'credit_id': '52fe44bfc3a36847f80a7cd1', 'de...   8844  \n",
       "2  [{'credit_id': '52fe466a9251416c75077a89', 'de...  15602  \n",
       "3  [{'credit_id': '52fe44779251416c91011acb', 'de...  31357  \n",
       "4  [{'credit_id': '52fe44959251416c75039ed7', 'de...  11862  "
      ]
     },
     "execution_count": 132,
     "metadata": {},
     "output_type": "execute_result"
    }
   ],
   "source": [
    "credits.head()"
   ]
  },
  {
   "cell_type": "code",
   "execution_count": 148,
   "metadata": {},
   "outputs": [
    {
     "ename": "JSONDecodeError",
     "evalue": "Extra data: line 1 column 195 (char 194)",
     "output_type": "error",
     "traceback": [
      "\u001b[1;31m---------------------------------------------------------------------------\u001b[0m",
      "\u001b[1;31mJSONDecodeError\u001b[0m                           Traceback (most recent call last)",
      "\u001b[1;32m<ipython-input-148-16eb4fcec830>\u001b[0m in \u001b[0;36m<module>\u001b[1;34m\u001b[0m\n\u001b[1;32m----> 1\u001b[1;33m \u001b[0mjson\u001b[0m\u001b[1;33m.\u001b[0m\u001b[0mloads\u001b[0m\u001b[1;33m(\u001b[0m\u001b[0mcredits\u001b[0m\u001b[1;33m[\u001b[0m\u001b[1;34m'cast'\u001b[0m\u001b[1;33m]\u001b[0m\u001b[1;33m[\u001b[0m\u001b[1;36m0\u001b[0m\u001b[1;33m]\u001b[0m\u001b[1;33m.\u001b[0m\u001b[0mreplace\u001b[0m\u001b[1;33m(\u001b[0m\u001b[1;34m\"\\'\"\u001b[0m\u001b[1;33m,\u001b[0m \u001b[1;34m\"\\\"\"\u001b[0m\u001b[1;33m)\u001b[0m\u001b[1;33m[\u001b[0m\u001b[1;36m1\u001b[0m\u001b[1;33m:\u001b[0m\u001b[1;33m-\u001b[0m\u001b[1;36m1\u001b[0m\u001b[1;33m]\u001b[0m\u001b[1;33m)\u001b[0m\u001b[1;33m\u001b[0m\u001b[1;33m\u001b[0m\u001b[0m\n\u001b[0m",
      "\u001b[1;32m~\\anaconda3\\lib\\json\\__init__.py\u001b[0m in \u001b[0;36mloads\u001b[1;34m(s, encoding, cls, object_hook, parse_float, parse_int, parse_constant, object_pairs_hook, **kw)\u001b[0m\n\u001b[0;32m    346\u001b[0m             \u001b[0mparse_int\u001b[0m \u001b[1;32mis\u001b[0m \u001b[1;32mNone\u001b[0m \u001b[1;32mand\u001b[0m \u001b[0mparse_float\u001b[0m \u001b[1;32mis\u001b[0m \u001b[1;32mNone\u001b[0m \u001b[1;32mand\u001b[0m\u001b[1;33m\u001b[0m\u001b[1;33m\u001b[0m\u001b[0m\n\u001b[0;32m    347\u001b[0m             parse_constant is None and object_pairs_hook is None and not kw):\n\u001b[1;32m--> 348\u001b[1;33m         \u001b[1;32mreturn\u001b[0m \u001b[0m_default_decoder\u001b[0m\u001b[1;33m.\u001b[0m\u001b[0mdecode\u001b[0m\u001b[1;33m(\u001b[0m\u001b[0ms\u001b[0m\u001b[1;33m)\u001b[0m\u001b[1;33m\u001b[0m\u001b[1;33m\u001b[0m\u001b[0m\n\u001b[0m\u001b[0;32m    349\u001b[0m     \u001b[1;32mif\u001b[0m \u001b[0mcls\u001b[0m \u001b[1;32mis\u001b[0m \u001b[1;32mNone\u001b[0m\u001b[1;33m:\u001b[0m\u001b[1;33m\u001b[0m\u001b[1;33m\u001b[0m\u001b[0m\n\u001b[0;32m    350\u001b[0m         \u001b[0mcls\u001b[0m \u001b[1;33m=\u001b[0m \u001b[0mJSONDecoder\u001b[0m\u001b[1;33m\u001b[0m\u001b[1;33m\u001b[0m\u001b[0m\n",
      "\u001b[1;32m~\\anaconda3\\lib\\json\\decoder.py\u001b[0m in \u001b[0;36mdecode\u001b[1;34m(self, s, _w)\u001b[0m\n\u001b[0;32m    338\u001b[0m         \u001b[0mend\u001b[0m \u001b[1;33m=\u001b[0m \u001b[0m_w\u001b[0m\u001b[1;33m(\u001b[0m\u001b[0ms\u001b[0m\u001b[1;33m,\u001b[0m \u001b[0mend\u001b[0m\u001b[1;33m)\u001b[0m\u001b[1;33m.\u001b[0m\u001b[0mend\u001b[0m\u001b[1;33m(\u001b[0m\u001b[1;33m)\u001b[0m\u001b[1;33m\u001b[0m\u001b[1;33m\u001b[0m\u001b[0m\n\u001b[0;32m    339\u001b[0m         \u001b[1;32mif\u001b[0m \u001b[0mend\u001b[0m \u001b[1;33m!=\u001b[0m \u001b[0mlen\u001b[0m\u001b[1;33m(\u001b[0m\u001b[0ms\u001b[0m\u001b[1;33m)\u001b[0m\u001b[1;33m:\u001b[0m\u001b[1;33m\u001b[0m\u001b[1;33m\u001b[0m\u001b[0m\n\u001b[1;32m--> 340\u001b[1;33m             \u001b[1;32mraise\u001b[0m \u001b[0mJSONDecodeError\u001b[0m\u001b[1;33m(\u001b[0m\u001b[1;34m\"Extra data\"\u001b[0m\u001b[1;33m,\u001b[0m \u001b[0ms\u001b[0m\u001b[1;33m,\u001b[0m \u001b[0mend\u001b[0m\u001b[1;33m)\u001b[0m\u001b[1;33m\u001b[0m\u001b[1;33m\u001b[0m\u001b[0m\n\u001b[0m\u001b[0;32m    341\u001b[0m         \u001b[1;32mreturn\u001b[0m \u001b[0mobj\u001b[0m\u001b[1;33m\u001b[0m\u001b[1;33m\u001b[0m\u001b[0m\n\u001b[0;32m    342\u001b[0m \u001b[1;33m\u001b[0m\u001b[0m\n",
      "\u001b[1;31mJSONDecodeError\u001b[0m: Extra data: line 1 column 195 (char 194)"
     ]
    }
   ],
   "source": [
    "json.loads(credits['cast'][0].replace(\"\\'\", \"\\\"\")[1:-1])"
   ]
  },
  {
   "cell_type": "code",
   "execution_count": 144,
   "metadata": {},
   "outputs": [
    {
     "ename": "JSONDecodeError",
     "evalue": "Expecting value: line 1 column 2416 (char 2415)",
     "output_type": "error",
     "traceback": [
      "\u001b[1;31m---------------------------------------------------------------------------\u001b[0m",
      "\u001b[1;31mJSONDecodeError\u001b[0m                           Traceback (most recent call last)",
      "\u001b[1;32m<ipython-input-144-030d79d9ce57>\u001b[0m in \u001b[0;36m<module>\u001b[1;34m\u001b[0m\n\u001b[1;32m----> 1\u001b[1;33m \u001b[0mjson\u001b[0m\u001b[1;33m.\u001b[0m\u001b[0mloads\u001b[0m\u001b[1;33m(\u001b[0m\u001b[0mcredits\u001b[0m\u001b[1;33m[\u001b[0m\u001b[1;34m'cast'\u001b[0m\u001b[1;33m]\u001b[0m\u001b[1;33m[\u001b[0m\u001b[1;36m0\u001b[0m\u001b[1;33m]\u001b[0m\u001b[1;33m.\u001b[0m\u001b[0mreplace\u001b[0m\u001b[1;33m(\u001b[0m\u001b[1;34m\"\\'\"\u001b[0m\u001b[1;33m,\u001b[0m \u001b[1;34m\"\\\"\"\u001b[0m\u001b[1;33m)\u001b[0m\u001b[1;33m)\u001b[0m\u001b[1;33m\u001b[0m\u001b[1;33m\u001b[0m\u001b[0m\n\u001b[0m",
      "\u001b[1;32m~\\anaconda3\\lib\\json\\__init__.py\u001b[0m in \u001b[0;36mloads\u001b[1;34m(s, encoding, cls, object_hook, parse_float, parse_int, parse_constant, object_pairs_hook, **kw)\u001b[0m\n\u001b[0;32m    346\u001b[0m             \u001b[0mparse_int\u001b[0m \u001b[1;32mis\u001b[0m \u001b[1;32mNone\u001b[0m \u001b[1;32mand\u001b[0m \u001b[0mparse_float\u001b[0m \u001b[1;32mis\u001b[0m \u001b[1;32mNone\u001b[0m \u001b[1;32mand\u001b[0m\u001b[1;33m\u001b[0m\u001b[1;33m\u001b[0m\u001b[0m\n\u001b[0;32m    347\u001b[0m             parse_constant is None and object_pairs_hook is None and not kw):\n\u001b[1;32m--> 348\u001b[1;33m         \u001b[1;32mreturn\u001b[0m \u001b[0m_default_decoder\u001b[0m\u001b[1;33m.\u001b[0m\u001b[0mdecode\u001b[0m\u001b[1;33m(\u001b[0m\u001b[0ms\u001b[0m\u001b[1;33m)\u001b[0m\u001b[1;33m\u001b[0m\u001b[1;33m\u001b[0m\u001b[0m\n\u001b[0m\u001b[0;32m    349\u001b[0m     \u001b[1;32mif\u001b[0m \u001b[0mcls\u001b[0m \u001b[1;32mis\u001b[0m \u001b[1;32mNone\u001b[0m\u001b[1;33m:\u001b[0m\u001b[1;33m\u001b[0m\u001b[1;33m\u001b[0m\u001b[0m\n\u001b[0;32m    350\u001b[0m         \u001b[0mcls\u001b[0m \u001b[1;33m=\u001b[0m \u001b[0mJSONDecoder\u001b[0m\u001b[1;33m\u001b[0m\u001b[1;33m\u001b[0m\u001b[0m\n",
      "\u001b[1;32m~\\anaconda3\\lib\\json\\decoder.py\u001b[0m in \u001b[0;36mdecode\u001b[1;34m(self, s, _w)\u001b[0m\n\u001b[0;32m    335\u001b[0m \u001b[1;33m\u001b[0m\u001b[0m\n\u001b[0;32m    336\u001b[0m         \"\"\"\n\u001b[1;32m--> 337\u001b[1;33m         \u001b[0mobj\u001b[0m\u001b[1;33m,\u001b[0m \u001b[0mend\u001b[0m \u001b[1;33m=\u001b[0m \u001b[0mself\u001b[0m\u001b[1;33m.\u001b[0m\u001b[0mraw_decode\u001b[0m\u001b[1;33m(\u001b[0m\u001b[0ms\u001b[0m\u001b[1;33m,\u001b[0m \u001b[0midx\u001b[0m\u001b[1;33m=\u001b[0m\u001b[0m_w\u001b[0m\u001b[1;33m(\u001b[0m\u001b[0ms\u001b[0m\u001b[1;33m,\u001b[0m \u001b[1;36m0\u001b[0m\u001b[1;33m)\u001b[0m\u001b[1;33m.\u001b[0m\u001b[0mend\u001b[0m\u001b[1;33m(\u001b[0m\u001b[1;33m)\u001b[0m\u001b[1;33m)\u001b[0m\u001b[1;33m\u001b[0m\u001b[1;33m\u001b[0m\u001b[0m\n\u001b[0m\u001b[0;32m    338\u001b[0m         \u001b[0mend\u001b[0m \u001b[1;33m=\u001b[0m \u001b[0m_w\u001b[0m\u001b[1;33m(\u001b[0m\u001b[0ms\u001b[0m\u001b[1;33m,\u001b[0m \u001b[0mend\u001b[0m\u001b[1;33m)\u001b[0m\u001b[1;33m.\u001b[0m\u001b[0mend\u001b[0m\u001b[1;33m(\u001b[0m\u001b[1;33m)\u001b[0m\u001b[1;33m\u001b[0m\u001b[1;33m\u001b[0m\u001b[0m\n\u001b[0;32m    339\u001b[0m         \u001b[1;32mif\u001b[0m \u001b[0mend\u001b[0m \u001b[1;33m!=\u001b[0m \u001b[0mlen\u001b[0m\u001b[1;33m(\u001b[0m\u001b[0ms\u001b[0m\u001b[1;33m)\u001b[0m\u001b[1;33m:\u001b[0m\u001b[1;33m\u001b[0m\u001b[1;33m\u001b[0m\u001b[0m\n",
      "\u001b[1;32m~\\anaconda3\\lib\\json\\decoder.py\u001b[0m in \u001b[0;36mraw_decode\u001b[1;34m(self, s, idx)\u001b[0m\n\u001b[0;32m    353\u001b[0m             \u001b[0mobj\u001b[0m\u001b[1;33m,\u001b[0m \u001b[0mend\u001b[0m \u001b[1;33m=\u001b[0m \u001b[0mself\u001b[0m\u001b[1;33m.\u001b[0m\u001b[0mscan_once\u001b[0m\u001b[1;33m(\u001b[0m\u001b[0ms\u001b[0m\u001b[1;33m,\u001b[0m \u001b[0midx\u001b[0m\u001b[1;33m)\u001b[0m\u001b[1;33m\u001b[0m\u001b[1;33m\u001b[0m\u001b[0m\n\u001b[0;32m    354\u001b[0m         \u001b[1;32mexcept\u001b[0m \u001b[0mStopIteration\u001b[0m \u001b[1;32mas\u001b[0m \u001b[0merr\u001b[0m\u001b[1;33m:\u001b[0m\u001b[1;33m\u001b[0m\u001b[1;33m\u001b[0m\u001b[0m\n\u001b[1;32m--> 355\u001b[1;33m             \u001b[1;32mraise\u001b[0m \u001b[0mJSONDecodeError\u001b[0m\u001b[1;33m(\u001b[0m\u001b[1;34m\"Expecting value\"\u001b[0m\u001b[1;33m,\u001b[0m \u001b[0ms\u001b[0m\u001b[1;33m,\u001b[0m \u001b[0merr\u001b[0m\u001b[1;33m.\u001b[0m\u001b[0mvalue\u001b[0m\u001b[1;33m)\u001b[0m \u001b[1;32mfrom\u001b[0m \u001b[1;32mNone\u001b[0m\u001b[1;33m\u001b[0m\u001b[1;33m\u001b[0m\u001b[0m\n\u001b[0m\u001b[0;32m    356\u001b[0m         \u001b[1;32mreturn\u001b[0m \u001b[0mobj\u001b[0m\u001b[1;33m,\u001b[0m \u001b[0mend\u001b[0m\u001b[1;33m\u001b[0m\u001b[1;33m\u001b[0m\u001b[0m\n",
      "\u001b[1;31mJSONDecodeError\u001b[0m: Expecting value: line 1 column 2416 (char 2415)"
     ]
    }
   ],
   "source": [
    "json.loads(credits['cast'][0].replace(\"\\'\", \"\\\"\"))"
   ]
  },
  {
   "cell_type": "code",
   "execution_count": 139,
   "metadata": {},
   "outputs": [
    {
     "ename": "SyntaxError",
     "evalue": "invalid syntax (<string>, line 1)",
     "output_type": "error",
     "traceback": [
      "Traceback \u001b[1;36m(most recent call last)\u001b[0m:\n",
      "  File \u001b[0;32m\"C:\\Users\\Brux\\anaconda3\\lib\\site-packages\\IPython\\core\\interactiveshell.py\"\u001b[0m, line \u001b[0;32m3441\u001b[0m, in \u001b[0;35mrun_code\u001b[0m\n    exec(code_obj, self.user_global_ns, self.user_ns)\n",
      "\u001b[1;36m  File \u001b[1;32m\"<ipython-input-139-756eab447f6a>\"\u001b[1;36m, line \u001b[1;32m1\u001b[1;36m, in \u001b[1;35m<module>\u001b[1;36m\u001b[0m\n\u001b[1;33m    eval(credits['crew'][0].replace(\"\\'\", \"\\\"\"))\u001b[0m\n",
      "\u001b[1;36m  File \u001b[1;32m\"<string>\"\u001b[1;36m, line \u001b[1;32m1\u001b[0m\n\u001b[1;33m    [{\"credit_id\": \"52fe4284c3a36847f8024f49\", \"department\": \"Directing\", \"gender\": 2, \"id\": 7879, \"job\": \"Director\", \"name\": \"John Lasseter\", \"profile_path\": \"/7EdqiNbr4FRjIhKHyPPdFfEEEFG.jpg\"}, {\"credit_id\": \"52fe4284c3a36847f8024f4f\", \"department\": \"Writing\", \"gender\": 2, \"id\": 12891, \"job\": \"Screenplay\", \"name\": \"Joss Whedon\", \"profile_path\": \"/dTiVsuaTVTeGmvkhcyJvKp2A5kr.jpg\"}, {\"credit_id\": \"52fe4284c3a36847f8024f55\", \"department\": \"Writing\", \"gender\": 2, \"id\": 7, \"job\": \"Screenplay\", \"name\": \"Andrew Stanton\", \"profile_path\": \"/pvQWsu0qc8JFQhMVJkTHuexUAa1.jpg\"}, {\"credit_id\": \"52fe4284c3a36847f8024f5b\", \"department\": \"Writing\", \"gender\": 2, \"id\": 12892, \"job\": \"Screenplay\", \"name\": \"Joel Cohen\", \"profile_path\": \"/dAubAiZcvKFbboWlj7oXOkZnTSu.jpg\"}, {\"credit_id\": \"52fe4284c3a36847f8024f61\", \"department\": \"Writing\", \"gender\": 0, \"id\": 12893, \"job\": \"Screenplay\", \"name\": \"Alec Sokolow\", \"profile_path\": \"/v79vlRYi94BZUQnkkyznbGUZLjT.jpg\"}, {\"credit_id\": \"52fe4284c3a36847f8024f67\", \"department\": \"Production\", \"gender\": 1, \"id\": 12894, \"job\": \"Producer\", \"name\": \"Bonnie Arnold\", \"profile_path\": None}, {\"credit_id\": \"52fe4284c3a36847f8024f6d\", \"department\": \"Production\", \"gender\": 0, \"id\": 12895, \"job\": \"Executive Producer\", \"name\": \"Ed Catmull\", \"profile_path\": None}, {\"credit_id\": \"52fe4284c3a36847f8024f73\", \"department\": \"Production\", \"gender\": 2, \"id\": 12896, \"job\": \"Producer\", \"name\": \"Ralph Guggenheim\", \"profile_path\": None}, {\"credit_id\": \"52fe4284c3a36847f8024f79\", \"department\": \"Production\", \"gender\": 2, \"id\": 12897, \"job\": \"Executive Producer\", \"name\": \"Steve Jobs\", \"profile_path\": \"/mOMP3SwD5qWQSR0ldCIByd3guTV.jpg\"}, {\"credit_id\": \"52fe4284c3a36847f8024f8b\", \"department\": \"Editing\", \"gender\": 2, \"id\": 8, \"job\": \"Editor\", \"name\": \"Lee Unkrich\", \"profile_path\": \"/bdTCCXjgOV3YyaNmLGYGOxFQMOc.jpg\"}, {\"credit_id\": \"52fe4284c3a36847f8024f91\", \"department\": \"Art\", \"gender\": 2, \"id\": 7883, \"job\": \"Art Direction\", \"name\": \"Ralph Eggleston\", \"profile_path\": \"/uUfcGKDsKO1aROMpXRs67Hn6RvR.jpg\"}, {\"credit_id\": \"598331bf925141421201044b\", \"department\": \"Editing\", \"gender\": 2, \"id\": 1168870, \"job\": \"Editor\", \"name\": \"Robert Gordon\", \"profile_path\": None}, {\"credit_id\": \"5892168cc3a36809660095f9\", \"department\": \"Sound\", \"gender\": 0, \"id\": 1552883, \"job\": \"Foley Editor\", \"name\": \"Mary Helen Leasman\", \"profile_path\": None}, {\"credit_id\": \"5531824d9251415289000945\", \"department\": \"Visual Effects\", \"gender\": 0, \"id\": 1453514, \"job\": \"Animation\", \"name\": \"Kim Blanchette\", \"profile_path\": None}, {\"credit_id\": \"589215969251412dcb009bf6\", \"department\": \"Sound\", \"gender\": 0, \"id\": 1414182, \"job\": \"ADR Editor\", \"name\": \"Marilyn McCoppen\", \"profile_path\": None}, {\"credit_id\": \"589217099251412dc500a018\", \"department\": \"Sound\", \"gender\": 2, \"id\": 7885, \"job\": \"Orchestrator\", \"name\": \"Randy Newman\", \"profile_path\": \"/w0JzfoiM25nrnxYOzosPHRq6mlE.jpg\"}, {\"credit_id\": \"5693e6b29251417b0e0000e3\", \"department\": \"Editing\", \"gender\": 0, \"id\": 1429549, \"job\": \"Color Timer\", \"name\": \"Dale E. Grahn\", \"profile_path\": None}, {\"credit_id\": \"572e2522c3a36869e6001a9c\", \"department\": \"Visual Effects\", \"gender\": 0, \"id\": 7949, \"job\": \"CG Painter\", \"name\": \"Robin Cooper\", \"profile_path\": None}, {\"credit_id\": \"574f12309251415ca1000012\", \"department\": \"Writing\", \"gender\": 2, \"id\": 7879, \"job\": \"Original Story\", \"name\": \"John Lasseter\", \"profile_path\": \"/7EdqiNbr4FRjIhKHyPPdFfEEEFG.jpg\"}, {\"credit_id\": \"574f1240c3a3682e7300001c\", \"department\": \"Writing\", \"gender\": 2, \"id\": 12890, \"job\": \"Original Story\", \"name\": \"Pete Docter\", \"profile_path\": \"/r6ngPgnReA3RHmKjmSoVsc6Awjp.jpg\"}, {\"credit_id\": \"574f12519251415c92000015\", \"department\": \"Writing\", \"gender\": 0, \"id\": 7911, \"job\": \"Original Story\", \"name\": \"Joe Ranft\", \"profile_path\": \"/f1BoWC2JbCcfP1e5hKfGsxkHzVU.jpg\"}, {\"credit_id\": \"574f12cec3a3682e82000022\", \"department\": \"Crew\", \"gender\": 0, \"id\": 1629419, \"job\": \"Post Production Supervisor\", \"name\": \"Patsy Bouge\", \"profile_path\": None}, {\"credit_id\": \"574f14f19251415ca1000082\", \"department\": \"Art\", \"gender\": 0, \"id\": 7961, \"job\": \"Sculptor\", \"name\": \"Norm DeCarlo\", \"profile_path\": None}, {\"credit_id\": \"5751ae4bc3a3683772002b7f\", \"department\": \"Visual Effects\", \"gender\": 2, \"id\": 12905, \"job\": \"Animation Director\", \"name\": \"Ash Brannon\", \"profile_path\": \"/6ueWgPEEBHvS3De2BHYQnYjRTig.jpg\"}, {\"credit_id\": \"5891edbe9251412dc5007cd6\", \"department\": \"Sound\", \"gender\": 2, \"id\": 7885, \"job\": \"Music\", \"name\": \"Randy Newman\", \"profile_path\": \"/w0JzfoiM25nrnxYOzosPHRq6mlE.jpg\"}, {\"credit_id\": \"589213d39251412dc8009832\", \"department\": \"Directing\", \"gender\": 0, \"id\": 1748707, \"job\": \"Layout\", \"name\": \"Roman Figun\", \"profile_path\": None}, {\"credit_id\": \"5892173dc3a3680968009351\", \"department\": \"Sound\", \"gender\": 2, \"id\": 4949, \"job\": \"Orchestrator\", \"name\": \"Don Davis\", \"profile_path\": None}, {\"credit_id\": \"589217cec3a3686b0a0052ba\", \"department\": \"Sound\", \"gender\": 0, \"id\": 1372885, \"job\": \"Music Editor\", \"name\": \"James Flamberg\", \"profile_path\": None}, {\"credit_id\": \"58921831c3a3686348004a64\", \"department\": \"Editing\", \"gender\": 0, \"id\": 1739962, \"job\": \"Negative Cutter\", \"name\": \"Mary Beth Smith\", \"profile_path\": None}, {\"credit_id\": \"58921838c3a36809700096c0\", \"department\": \"Editing\", \"gender\": 0, \"id\": 1748513, \"job\": \"Negative Cutter\", \"name\": \"Rick Mackay\", \"profile_path\": None}, {\"credit_id\": \"589218429251412dd1009d1b\", \"department\": \"Art\", \"gender\": 0, \"id\": 1458006, \"job\": \"Title Designer\", \"name\": \"Susan Bradley\", \"profile_path\": None}, {\"credit_id\": \"5891ed99c3a3680966007670\", \"department\": \"Crew\", \"gender\": 0, \"id\": 1748557, \"job\": \"Supervising Technical Director\", \"name\": \"William Reeves\", \"profile_path\": None}, {\"credit_id\": \"5891edcec3a3686b0a002eb2\", \"department\": \"Sound\", \"gender\": 2, \"id\": 7885, \"job\": \"Songs\", \"name\": \"Randy Newman\", \"profile_path\": \"/w0JzfoiM25nrnxYOzosPHRq6mlE.jpg\"}, {\"credit_id\": \"5891edf9c3a36809700075e6\", \"department\": \"Writing\", \"gender\": 2, \"id\": 7, \"job\": \"Original Story\", \"name\": \"Andrew Stanton\", \"profile_path\": \"/pvQWsu0qc8JFQhMVJkTHuexUAa1.jpg\"}, {\"credit_id\": \"58920f0b9251412dd7009104\", \"department\": \"Crew\", \"gender\": 2, \"id\": 12890, \"job\": \"Supervising Animator\", \"name\": \"Pete Docter\", \"profile_path\": \"/r6ngPgnReA3RHmKjmSoVsc6Awjp.jpg\"}, {\"credit_id\": \"58920f1fc3a3680977009021\", \"department\": \"Sound\", \"gender\": 2, \"id\": 2216, \"job\": \"Sound Designer\", \"name\": \"Gary Rydstrom\", \"profile_path\": \"/jZpr1nVfO7lldWI0YtmP1FGw7Rj.jpg\"}, {\"credit_id\": \"58920f389251412dd700912d\", \"department\": \"Production\", \"gender\": 0, \"id\": 12909, \"job\": \"Production Supervisor\", \"name\": \"Karen Robert Jackson\", \"profile_path\": None}, {\"credit_id\": \"58920fbd9251412dcb00969c\", \"department\": \"Crew\", \"gender\": 0, \"id\": 953331, \"job\": \"Executive Music Producer\", \"name\": \"Chris Montan\", \"profile_path\": None}, {\"credit_id\": \"589210069251412dd7009219\", \"department\": \"Visual Effects\", \"gender\": 0, \"id\": 7893, \"job\": \"Animation Director\", \"name\": \"Rich Quade\", \"profile_path\": None}, {\"credit_id\": \"589210329251412dcd00943b\", \"department\": \"Visual Effects\", \"gender\": 0, \"id\": 8025, \"job\": \"Animation\", \"name\": \"Michael Berenstein\", \"profile_path\": None}, {\"credit_id\": \"5892103bc3a368096a009180\", \"department\": \"Visual Effects\", \"gender\": 0, \"id\": 78009, \"job\": \"Animation\", \"name\": \"Colin Brady\", \"profile_path\": None}, {\"credit_id\": \"5892105dc3a3680968008db2\", \"department\": \"Visual Effects\", \"gender\": 0, \"id\": 1748682, \"job\": \"Animation\", \"name\": \"Davey Crockett Feiten\", \"profile_path\": None}, {\"credit_id\": \"589210669251412dcd009466\", \"department\": \"Visual Effects\", \"gender\": 0, \"id\": 1454030, \"job\": \"Animation\", \"name\": \"Angie Glocka\", \"profile_path\": None}, {\"credit_id\": \"5892107c9251412dd1009613\", \"department\": \"Visual Effects\", \"gender\": 0, \"id\": 1748683, \"job\": \"Animation\", \"name\": \"Rex Grignon\", \"profile_path\": None}, {\"credit_id\": \"5892108ac3a3680973008d3f\", \"department\": \"Visual Effects\", \"gender\": 0, \"id\": 1748684, \"job\": \"Animation\", \"name\": \"Tom K. Gurney\", \"profile_path\": None}, {\"credit_id\": \"58921093c3a3686348004477\", \"department\": \"Visual Effects\", \"gender\": 2, \"id\": 8029, \"job\": \"Animation\", \"name\": \"Jimmy Hayward\", \"profile_path\": \"/lTDRpudEY7BDwTefXbXzMlmb0ui.jpg\"}, {\"credit_id\": \"5892109b9251412dcd0094b0\", \"department\": \"Visual Effects\", \"gender\": 0, \"id\": 1426773, \"job\": \"Animation\", \"name\": \"Hal T. Hickel\", \"profile_path\": None}, {\"credit_id\": \"589210a29251412dc5009a29\", \"department\": \"Visual Effects\", \"gender\": 0, \"id\": 8035, \"job\": \"Animation\", \"name\": \"Karen Kiser\", \"profile_path\": None}, {\"credit_id\": \"589210ccc3a3680977009191\", \"department\": \"Visual Effects\", \"gender\": 0, \"id\": 1748688, \"job\": \"Animation\", \"name\": \"Anthony B. LaMolinara\", \"profile_path\": None}, {\"credit_id\": \"589210d7c3a3686b0a004c1f\", \"department\": \"Visual Effects\", \"gender\": 0, \"id\": 587314, \"job\": \"Animation\", \"name\": \"Guionne Leroy\", \"profile_path\": None}, {\"credit_id\": \"589210e1c3a36809770091a7\", \"department\": \"Visual Effects\", \"gender\": 2, \"id\": 7918, \"job\": \"Animation\", \"name\": \"Bud Luckey\", \"profile_path\": \"/pcCh7G19FKMNijmPQg1PMH1btic.jpg\"}, {\"credit_id\": \"589210ee9251412dc200978a\", \"department\": \"Visual Effects\", \"gender\": 0, \"id\": 1748689, \"job\": \"Animation\", \"name\": \"Les Major\", \"profile_path\": None}, {\"credit_id\": \"589210fa9251412dc8009595\", \"department\": \"Visual Effects\", \"gender\": 2, \"id\": 7892, \"job\": \"Animation\", \"name\": \"Glenn McQueen\", \"profile_path\": None}, {\"credit_id\": \"589211029251412dc8009598\", \"department\": \"Visual Effects\", \"gender\": 0, \"id\": 555795, \"job\": \"Animation\", \"name\": \"Mark Oftedal\", \"profile_path\": None}, {\"credit_id\": \"5892110b9251412dc800959d\", \"department\": \"Visual Effects\", \"gender\": 2, \"id\": 7882, \"job\": \"Animation\", \"name\": \"Jeff Pidgeon\", \"profile_path\": \"/yLddkg5HcgbJg00cS13GVBnP0HY.jpg\"}, {\"credit_id\": \"58921113c3a36863480044e4\", \"department\": \"Visual Effects\", \"gender\": 0, \"id\": 8017, \"job\": \"Animation\", \"name\": \"Jeff Pratt\", \"profile_path\": None}, {\"credit_id\": \"5892111c9251412dcb0097e9\", \"department\": \"Visual Effects\", \"gender\": 0, \"id\": 1184140, \"job\": \"Animation\", \"name\": \"Steve Rabatich\", \"profile_path\": None}, {\"credit_id\": \"58921123c3a36809700090f6\", \"department\": \"Visual Effects\", \"gender\": 0, \"id\": 8049, \"job\": \"Animation\", \"name\": \"Roger Rose\", \"profile_path\": None}, {\"credit_id\": \"5892112b9251412dcb0097fb\", \"department\": \"Visual Effects\", \"gender\": 0, \"id\": 1509559, \"job\": \"Animation\", \"name\": \"Steve Segal\", \"profile_path\": None}, {\"credit_id\": \"589211349251412dc80095c3\", \"department\": \"Visual Effects\", \"gender\": 0, \"id\": 1748691, \"job\": \"Animation\", \"name\": \"Doug Sheppeck\", \"profile_path\": None}, {\"credit_id\": \"5892113cc3a3680970009106\", \"department\": \"Visual Effects\", \"gender\": 0, \"id\": 8050, \"job\": \"Animation\", \"name\": \"Alan Sperling\", \"profile_path\": None}, {\"credit_id\": \"58921148c3a3686b0a004c99\", \"department\": \"Visual Effects\", \"gender\": 0, \"id\": 8010, \"job\": \"Animation\", \"name\": \"Doug Sweetland\", \"profile_path\": None}, {\"credit_id\": \"58921150c3a3680966009125\", \"department\": \"Visual Effects\", \"gender\": 0, \"id\": 8044, \"job\": \"Animation\", \"name\": \"David Tart\", \"profile_path\": None}, {\"credit_id\": \"589211629251412dc5009b00\", \"department\": \"Visual Effects\", \"gender\": 0, \"id\": 1454034, \"job\": \"Animation\", \"name\": \"Ken Willard\", \"profile_path\": None}, {\"credit_id\": \"589211c1c3a3686b0a004d28\", \"department\": \"Visual Effects\", \"gender\": 0, \"id\": 7887, \"job\": \"Visual Effects Supervisor\", \"name\": \"Thomas Porter\", \"profile_path\": None}, {\"credit_id\": \"589211d4c3a3680968008ed9\", \"department\": \"Visual Effects\", \"gender\": 0, \"id\": 1406878, \"job\": \"Visual Effects\", \"name\": \"Mark Thomas Henne\", \"profile_path\": None}, {\"credit_id\": \"589211f59251412dd4008e65\", \"department\": \"Visual Effects\", \"gender\": 0, \"id\": 1748698, \"job\": \"Visual Effects\", \"name\": \"Oren Jacob\", \"profile_path\": None}, {\"credit_id\": \"58921242c3a368096a00939b\", \"department\": \"Visual Effects\", \"gender\": 0, \"id\": 1748699, \"job\": \"Visual Effects\", \"name\": \"Darwyn Peachey\", \"profile_path\": None}, {\"credit_id\": \"5892124b9251412dc5009bd2\", \"department\": \"Visual Effects\", \"gender\": 0, \"id\": 1748701, \"job\": \"Visual Effects\", \"name\": \"Mitch Prater\", \"profile_path\": None}, {\"credit_id\": \"58921264c3a3686b0a004dbf\", \"department\": \"Visual Effects\", \"gender\": 0, \"id\": 1748703, \"job\": \"Visual Effects\", \"name\": \"Brian M. Rosen\", \"profile_path\": None}, {\"credit_id\": \"589212709251412dcd009676\", \"department\": \"Lighting\", \"gender\": 1, \"id\": 12912, \"job\": \"Lighting Supervisor\", \"name\": \"Sharon Calahan\", \"profile_path\": None}, {\"credit_id\": \"5892127fc3a3686b0a004de5\", \"department\": \"Lighting\", \"gender\": 0, \"id\": 7899, \"job\": \"Lighting Supervisor\", \"name\": \"Galyn Susman\", \"profile_path\": None}, {\"credit_id\": \"589212cdc3a3680970009268\", \"department\": \"Visual Effects\", \"gender\": 0, \"id\": 12915, \"job\": \"CG Painter\", \"name\": \"William Cone\", \"profile_path\": None}, {\"credit_id\": \"5892130f9251412dc8009791\", \"department\": \"Art\", \"gender\": 0, \"id\": 1748705, \"job\": \"Sculptor\", \"name\": \"Shelley Daniels Lekven\", \"profile_path\": None}, {\"credit_id\": \"5892131c9251412dd4008f4c\", \"department\": \"Visual Effects\", \"gender\": 2, \"id\": 7889, \"job\": \"Character Designer\", \"name\": \"Bob Pauley\", \"profile_path\": None}, {\"credit_id\": \"589213249251412dd100987b\", \"department\": \"Visual Effects\", \"gender\": 2, \"id\": 7918, \"job\": \"Character Designer\", \"name\": \"Bud Luckey\", \"profile_path\": \"/pcCh7G19FKMNijmPQg1PMH1btic.jpg\"}, {\"credit_id\": \"5892132b9251412dc80097b1\", \"department\": \"Visual Effects\", \"gender\": 2, \"id\": 7, \"job\": \"Character Designer\", \"name\": \"Andrew Stanton\", \"profile_path\": \"/pvQWsu0qc8JFQhMVJkTHuexUAa1.jpg\"}, {\"credit_id\": \"58921332c3a368634800467b\", \"department\": \"Visual Effects\", \"gender\": 0, \"id\": 12915, \"job\": \"Character Designer\", \"name\": \"William Cone\", \"profile_path\": None}, {\"credit_id\": \"5892135f9251412dd4008f90\", \"department\": \"Visual Effects\", \"gender\": 0, \"id\": 1748706, \"job\": \"Character Designer\", \"name\": \"Steve Johnson\", \"profile_path\": None}, {\"credit_id\": \"58921384c3a3680973008fd4\", \"department\": \"Visual Effects\", \"gender\": 0, \"id\": 1176752, \"job\": \"Character Designer\", \"name\": \"Dan Haskett\", \"profile_path\": None}, {\"credit_id\": \"5892138e9251412dc20099fc\", \"department\": \"Visual Effects\", \"gender\": 0, \"id\": 1088034, \"job\": \"Character Designer\", \"name\": \"Tom Holloway\", \"profile_path\": \"/a0r0T2usTBpgMI5aZbRBDW1fTl8.jpg\"}, {\"credit_id\": \"58921395c3a368097700942f\", \"department\": \"Visual Effects\", \"gender\": 0, \"id\": 1447465, \"job\": \"Character Designer\", \"name\": \"Jean Gillmore\", \"profile_path\": None}, {\"credit_id\": \"589213e2c3a3680973009026\", \"department\": \"Directing\", \"gender\": 0, \"id\": 1748709, \"job\": \"Layout\", \"name\": \"Desirée Mourad\", \"profile_path\": None}, {\"credit_id\": \"589214099251412dc5009d57\", \"department\": \"Art\", \"gender\": 0, \"id\": 1748710, \"job\": \"Set Dresser\", \"name\": \"Kelly O\"Connell\", \"profile_path\": None}, {\"credit_id\": \"58921411c3a3686b0a004f70\", \"department\": \"Art\", \"gender\": 0, \"id\": 1443471, \"job\": \"Set Dresser\", \"name\": \"Sonoko Konishi\", \"profile_path\": None}, {\"credit_id\": \"58921434c3a368096a00956e\", \"department\": \"Art\", \"gender\": 0, \"id\": 1748711, \"job\": \"Set Dresser\", \"name\": \"Ann M. Rockwell\", \"profile_path\": None}, {\"credit_id\": \"5892144ac3a36809680090de\", \"department\": \"Editing\", \"gender\": 0, \"id\": 1748712, \"job\": \"Editorial Manager\", \"name\": \"Julie M. McDonald\", \"profile_path\": None}, {\"credit_id\": \"58921479c3a368096800910f\", \"department\": \"Editing\", \"gender\": 0, \"id\": 1589729, \"job\": \"Assistant Editor\", \"name\": \"Robin Lee\", \"profile_path\": None}, {\"credit_id\": \"5892148b9251412dd10099cc\", \"department\": \"Editing\", \"gender\": 0, \"id\": 1748716, \"job\": \"Assistant Editor\", \"name\": \"Tom Freeman\", \"profile_path\": None}, {\"credit_id\": \"589214959251412dcb009b1f\", \"department\": \"Editing\", \"gender\": 0, \"id\": 1748717, \"job\": \"Assistant Editor\", \"name\": \"Ada Cochavi\", \"profile_path\": None}, {\"credit_id\": \"5892149ec3a3686348004798\", \"department\": \"Editing\", \"gender\": 0, \"id\": 1336438, \"job\": \"Assistant Editor\", \"name\": \"Dana Mulligan\", \"profile_path\": None}, {\"credit_id\": \"589214adc3a368096a0095db\", \"department\": \"Editing\", \"gender\": 0, \"id\": 1748718, \"job\": \"Editorial Coordinator\", \"name\": \"Deirdre Morrison\", \"profile_path\": None}, {\"credit_id\": \"589214c7c3a368097700952b\", \"department\": \"Production\", \"gender\": 0, \"id\": 1748719, \"job\": \"Production Coordinator\", \"name\": \"Lori Lombardo\", \"profile_path\": None}, {\"credit_id\": \"589214cec3a368096a009603\", \"department\": \"Production\", \"gender\": 0, \"id\": 1748720, \"job\": \"Production Coordinator\", \"name\": \"Ellen Devine\", \"profile_path\": None}, {\"credit_id\": \"589214e39251412dc8009904\", \"department\": \"Crew\", \"gender\": 0, \"id\": 1468014, \"job\": \"Unit Publicist\", \"name\": \"Lauren Beth Strogoff\", \"profile_path\": None}, {\"credit_id\": \"58921544c3a3686b0a00507d\", \"department\": \"Sound\", \"gender\": 2, \"id\": 2216, \"job\": \"Sound Re-Recording Mixer\", \"name\": \"Gary Rydstrom\", \"profile_path\": \"/jZpr1nVfO7lldWI0YtmP1FGw7Rj.jpg\"}, {\"credit_id\": \"5892154c9251412dd1009a56\", \"department\": \"Sound\", \"gender\": 0, \"id\": 1425978, \"job\": \"Sound Re-Recording Mixer\", \"name\": \"Gary Summers\", \"profile_path\": None}, {\"credit_id\": \"58921555c3a36809680091bd\", \"department\": \"Sound\", \"gender\": 2, \"id\": 8276, \"job\": \"Supervising Sound Editor\", \"name\": \"Tim Holland\", \"profile_path\": None}, {\"credit_id\": \"589215c39251412dcb009c12\", \"department\": \"Sound\", \"gender\": 0, \"id\": 7069, \"job\": \"Sound Effects Editor\", \"name\": \"Pat Jackson\", \"profile_path\": None}, {\"credit_id\": \"58921698c3a368096a009788\", \"department\": \"Crew\", \"gender\": 2, \"id\": 15894, \"job\": \"Sound Design Assistant\", \"name\": \"Tom Myers\", \"profile_path\": None}, {\"credit_id\": \"589216a89251412dc2009ca4\", \"department\": \"Sound\", \"gender\": 0, \"id\": 1414177, \"job\": \"Assistant Sound Editor\", \"name\": \"J.R. Grubbs\", \"profile_path\": None}, {\"credit_id\": \"589216c19251412dc2009cb9\", \"department\": \"Sound\", \"gender\": 1, \"id\": 1748724, \"job\": \"Assistant Sound Editor\", \"name\": \"Susan Sanford\", \"profile_path\": None}, {\"credit_id\": \"589216ccc3a3680973009274\", \"department\": \"Sound\", \"gender\": 0, \"id\": 1748725, \"job\": \"Assistant Sound Editor\", \"name\": \"Susan Popovic\", \"profile_path\": None}, {\"credit_id\": \"589216d79251412dc8009aa0\", \"department\": \"Sound\", \"gender\": 0, \"id\": 8067, \"job\": \"Assistant Sound Editor\", \"name\": \"Dan Engstrom\", \"profile_path\": None}, {\"credit_id\": \"589216e49251412dcd009a4f\", \"department\": \"Production\", \"gender\": 1, \"id\": 7902, \"job\": \"Casting Consultant\", \"name\": \"Ruth Lambert\", \"profile_path\": None}, {\"credit_id\": \"589216f39251412dc2009cf3\", \"department\": \"Production\", \"gender\": 0, \"id\": 84493, \"job\": \"ADR Voice Casting\", \"name\": \"Mickie McGowan\", \"profile_path\": \"/k7TjJBfINsg8vLQxJwos6XObAD6.jpg\"}]\u001b[0m\n\u001b[1;37m                                                                                                                                                                                                                                                                                                                                                                                                                                                                                                                                                                                                                                                                                                                                                                                                                                                                                                                                                                                                                                                                                                                                                                                                                                                                                                                                                                                                                                                                                                                                                                                                                                                                                                                                                                                                                                                                                                                                                                                                                                                                                                                                                                                                                                                                                                                                                                                                                                                                                                                                                                                                                                                                                                                                                                                                                                                                                                                                                                                                                                                                                                                                                                                                                                                                                                                                                                                                                                                                                                                                                                                                                                                                                                                                                                                                                                                                                                                                                                                                                                                                                                                                                                                                                                                                                                                                                                                                                                                                                                                                                                                                                                                                                                                                                                                                                                                                                                                                                                                                                                                                                                                                                                                                                                                                                                                                                                                                                                                                                                                                                                                                                                                                                                                                                                                                                                                                                                                                                                                                                                                                                                                                                                                                                                                                                                                                                                                                                                                                                                                                                                                                                                                                                                                                                                                                                                                                                                                                                                                                                                                                                                                                                                                                                                                                                                                                                                                                                                                                                                                                                                                                                                                                                                                                                                                                                                                                                                                                                                                                                                                                                                                                                                                                                                                                                                                                                                                                                                                                                                                                                                                                                                                                                                                                                                                                                                                                                                                                                                                                                                                                                                                                                                                                                                                                                                                                                                                                                                                                                                                                                                                                                                                                                                                                                                                                                                                                                                                                                                                                                                                                                                                                                                                                                                                                                                                                                                                                                                                                                                                                                                                                                                                                                                                                                                                                                                                                                                                                                                                                                                                                                                                                                                                                                                                                                                                                                                                                                                                                                                                                                                                                                                                                                                                                                                                                                                                                                                                                                                                                                                                                                                                                                                                                                                                                                                                                                                                                                                                                                                                                                                                                                                                                                                                                                                                                                                                                                                                                                                                                                                                                                                                                                                                                                                                                                                                                                                                                                                                                                                                                                                                                                                                                                                                                                                                                                                                                                                                                                                                                                                                                                                                                                                                                                                                                                                                                                                                                                                                                                                                                                                                                                                                                                                                                                                                                                                                                                                                                                                                                                                                                                                                                                                                                                                                                                                                                                                                                                      ^\u001b[0m\n\u001b[1;31mSyntaxError\u001b[0m\u001b[1;31m:\u001b[0m invalid syntax\n"
     ]
    }
   ],
   "source": [
    "eval(credits['crew'][0].replace(\"\\'\", \"\\\"\"))"
   ]
  },
  {
   "cell_type": "code",
   "execution_count": 135,
   "metadata": {},
   "outputs": [
    {
     "ename": "JSONDecodeError",
     "evalue": "Expecting property name enclosed in double quotes: line 1 column 3 (char 2)",
     "output_type": "error",
     "traceback": [
      "\u001b[1;31m---------------------------------------------------------------------------\u001b[0m",
      "\u001b[1;31mJSONDecodeError\u001b[0m                           Traceback (most recent call last)",
      "\u001b[1;32m<ipython-input-135-82df6289bdcf>\u001b[0m in \u001b[0;36m<module>\u001b[1;34m\u001b[0m\n\u001b[1;32m----> 1\u001b[1;33m \u001b[0mjson\u001b[0m\u001b[1;33m.\u001b[0m\u001b[0mloads\u001b[0m\u001b[1;33m(\u001b[0m\u001b[0mcredits\u001b[0m\u001b[1;33m[\u001b[0m\u001b[1;34m'crew'\u001b[0m\u001b[1;33m]\u001b[0m\u001b[1;33m[\u001b[0m\u001b[1;36m0\u001b[0m\u001b[1;33m]\u001b[0m\u001b[1;33m)\u001b[0m\u001b[1;33m\u001b[0m\u001b[1;33m\u001b[0m\u001b[0m\n\u001b[0m",
      "\u001b[1;32m~\\anaconda3\\lib\\json\\__init__.py\u001b[0m in \u001b[0;36mloads\u001b[1;34m(s, encoding, cls, object_hook, parse_float, parse_int, parse_constant, object_pairs_hook, **kw)\u001b[0m\n\u001b[0;32m    346\u001b[0m             \u001b[0mparse_int\u001b[0m \u001b[1;32mis\u001b[0m \u001b[1;32mNone\u001b[0m \u001b[1;32mand\u001b[0m \u001b[0mparse_float\u001b[0m \u001b[1;32mis\u001b[0m \u001b[1;32mNone\u001b[0m \u001b[1;32mand\u001b[0m\u001b[1;33m\u001b[0m\u001b[1;33m\u001b[0m\u001b[0m\n\u001b[0;32m    347\u001b[0m             parse_constant is None and object_pairs_hook is None and not kw):\n\u001b[1;32m--> 348\u001b[1;33m         \u001b[1;32mreturn\u001b[0m \u001b[0m_default_decoder\u001b[0m\u001b[1;33m.\u001b[0m\u001b[0mdecode\u001b[0m\u001b[1;33m(\u001b[0m\u001b[0ms\u001b[0m\u001b[1;33m)\u001b[0m\u001b[1;33m\u001b[0m\u001b[1;33m\u001b[0m\u001b[0m\n\u001b[0m\u001b[0;32m    349\u001b[0m     \u001b[1;32mif\u001b[0m \u001b[0mcls\u001b[0m \u001b[1;32mis\u001b[0m \u001b[1;32mNone\u001b[0m\u001b[1;33m:\u001b[0m\u001b[1;33m\u001b[0m\u001b[1;33m\u001b[0m\u001b[0m\n\u001b[0;32m    350\u001b[0m         \u001b[0mcls\u001b[0m \u001b[1;33m=\u001b[0m \u001b[0mJSONDecoder\u001b[0m\u001b[1;33m\u001b[0m\u001b[1;33m\u001b[0m\u001b[0m\n",
      "\u001b[1;32m~\\anaconda3\\lib\\json\\decoder.py\u001b[0m in \u001b[0;36mdecode\u001b[1;34m(self, s, _w)\u001b[0m\n\u001b[0;32m    335\u001b[0m \u001b[1;33m\u001b[0m\u001b[0m\n\u001b[0;32m    336\u001b[0m         \"\"\"\n\u001b[1;32m--> 337\u001b[1;33m         \u001b[0mobj\u001b[0m\u001b[1;33m,\u001b[0m \u001b[0mend\u001b[0m \u001b[1;33m=\u001b[0m \u001b[0mself\u001b[0m\u001b[1;33m.\u001b[0m\u001b[0mraw_decode\u001b[0m\u001b[1;33m(\u001b[0m\u001b[0ms\u001b[0m\u001b[1;33m,\u001b[0m \u001b[0midx\u001b[0m\u001b[1;33m=\u001b[0m\u001b[0m_w\u001b[0m\u001b[1;33m(\u001b[0m\u001b[0ms\u001b[0m\u001b[1;33m,\u001b[0m \u001b[1;36m0\u001b[0m\u001b[1;33m)\u001b[0m\u001b[1;33m.\u001b[0m\u001b[0mend\u001b[0m\u001b[1;33m(\u001b[0m\u001b[1;33m)\u001b[0m\u001b[1;33m)\u001b[0m\u001b[1;33m\u001b[0m\u001b[1;33m\u001b[0m\u001b[0m\n\u001b[0m\u001b[0;32m    338\u001b[0m         \u001b[0mend\u001b[0m \u001b[1;33m=\u001b[0m \u001b[0m_w\u001b[0m\u001b[1;33m(\u001b[0m\u001b[0ms\u001b[0m\u001b[1;33m,\u001b[0m \u001b[0mend\u001b[0m\u001b[1;33m)\u001b[0m\u001b[1;33m.\u001b[0m\u001b[0mend\u001b[0m\u001b[1;33m(\u001b[0m\u001b[1;33m)\u001b[0m\u001b[1;33m\u001b[0m\u001b[1;33m\u001b[0m\u001b[0m\n\u001b[0;32m    339\u001b[0m         \u001b[1;32mif\u001b[0m \u001b[0mend\u001b[0m \u001b[1;33m!=\u001b[0m \u001b[0mlen\u001b[0m\u001b[1;33m(\u001b[0m\u001b[0ms\u001b[0m\u001b[1;33m)\u001b[0m\u001b[1;33m:\u001b[0m\u001b[1;33m\u001b[0m\u001b[1;33m\u001b[0m\u001b[0m\n",
      "\u001b[1;32m~\\anaconda3\\lib\\json\\decoder.py\u001b[0m in \u001b[0;36mraw_decode\u001b[1;34m(self, s, idx)\u001b[0m\n\u001b[0;32m    351\u001b[0m         \"\"\"\n\u001b[0;32m    352\u001b[0m         \u001b[1;32mtry\u001b[0m\u001b[1;33m:\u001b[0m\u001b[1;33m\u001b[0m\u001b[1;33m\u001b[0m\u001b[0m\n\u001b[1;32m--> 353\u001b[1;33m             \u001b[0mobj\u001b[0m\u001b[1;33m,\u001b[0m \u001b[0mend\u001b[0m \u001b[1;33m=\u001b[0m \u001b[0mself\u001b[0m\u001b[1;33m.\u001b[0m\u001b[0mscan_once\u001b[0m\u001b[1;33m(\u001b[0m\u001b[0ms\u001b[0m\u001b[1;33m,\u001b[0m \u001b[0midx\u001b[0m\u001b[1;33m)\u001b[0m\u001b[1;33m\u001b[0m\u001b[1;33m\u001b[0m\u001b[0m\n\u001b[0m\u001b[0;32m    354\u001b[0m         \u001b[1;32mexcept\u001b[0m \u001b[0mStopIteration\u001b[0m \u001b[1;32mas\u001b[0m \u001b[0merr\u001b[0m\u001b[1;33m:\u001b[0m\u001b[1;33m\u001b[0m\u001b[1;33m\u001b[0m\u001b[0m\n\u001b[0;32m    355\u001b[0m             \u001b[1;32mraise\u001b[0m \u001b[0mJSONDecodeError\u001b[0m\u001b[1;33m(\u001b[0m\u001b[1;34m\"Expecting value\"\u001b[0m\u001b[1;33m,\u001b[0m \u001b[0ms\u001b[0m\u001b[1;33m,\u001b[0m \u001b[0merr\u001b[0m\u001b[1;33m.\u001b[0m\u001b[0mvalue\u001b[0m\u001b[1;33m)\u001b[0m \u001b[1;32mfrom\u001b[0m \u001b[1;32mNone\u001b[0m\u001b[1;33m\u001b[0m\u001b[1;33m\u001b[0m\u001b[0m\n",
      "\u001b[1;31mJSONDecodeError\u001b[0m: Expecting property name enclosed in double quotes: line 1 column 3 (char 2)"
     ]
    }
   ],
   "source": [
    "json.loads(credits['crew'][0])"
   ]
  },
  {
   "cell_type": "code",
   "execution_count": null,
   "metadata": {},
   "outputs": [],
   "source": []
  }
 ],
 "metadata": {
  "kernelspec": {
   "display_name": "Python 3",
   "language": "python",
   "name": "python3"
  },
  "language_info": {
   "codemirror_mode": {
    "name": "ipython",
    "version": 3
   },
   "file_extension": ".py",
   "mimetype": "text/x-python",
   "name": "python",
   "nbconvert_exporter": "python",
   "pygments_lexer": "ipython3",
   "version": "3.7.6"
  }
 },
 "nbformat": 4,
 "nbformat_minor": 4
}
