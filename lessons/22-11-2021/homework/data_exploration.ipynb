{
 "cells": [
  {
   "cell_type": "markdown",
   "metadata": {},
   "source": [
    "## Разведочный анализ данных"
   ]
  },
  {
   "cell_type": "markdown",
   "metadata": {},
   "source": [
    "В файле рядом (heart.csv) лежит датасет со статистикой о заболеваниях сердца. \n",
    "\n",
    "1) Загрузите данные\n",
    "\n",
    "2) Какого они размера? Есть ли в них пропуски?\n",
    "\n",
    "3) Выведите основные статистики по числовым столбцам (среднее, квантили...)\n",
    "\n",
    "4) Постройте гистограмму возраста пациентов.\n",
    "\n",
    "5) Среди какого пола большая доля больных людей? (болен ли человек записано в столбце target, 1 - болен, 0 - нет)\n",
    "\n",
    "6) Сохраните найденные в пункте 3 статистики в excel файл."
   ]
  },
  {
   "cell_type": "code",
   "execution_count": null,
   "metadata": {},
   "outputs": [],
   "source": []
  }
 ],
 "metadata": {
  "kernelspec": {
   "display_name": "Python 3",
   "language": "python",
   "name": "python3"
  },
  "language_info": {
   "codemirror_mode": {
    "name": "ipython",
    "version": 3
   },
   "file_extension": ".py",
   "mimetype": "text/x-python",
   "name": "python",
   "nbconvert_exporter": "python",
   "pygments_lexer": "ipython3",
   "version": "3.7.6"
  }
 },
 "nbformat": 4,
 "nbformat_minor": 4
}
