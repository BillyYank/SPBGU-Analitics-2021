{
 "cells": [
  {
   "cell_type": "markdown",
   "metadata": {},
   "source": [
    "Эти задачки надо решать без помощи циклов, только средствами numpy"
   ]
  },
  {
   "cell_type": "code",
   "execution_count": 1,
   "metadata": {},
   "outputs": [],
   "source": [
    "import numpy as np\n",
    "import math"
   ]
  },
  {
   "cell_type": "markdown",
   "metadata": {},
   "source": [
    "1) Создать массив 10x10 со случайными значениями, найти минимум и максимум"
   ]
  },
  {
   "cell_type": "code",
   "execution_count": 2,
   "metadata": {},
   "outputs": [
    {
     "data": {
      "text/plain": [
       "array([[0.49002753, 0.02255576, 0.9516571 , 0.97677824, 0.44686843,\n",
       "        0.23228964, 0.08777459, 0.89133745, 0.06457722, 0.53614952],\n",
       "       [0.71733568, 0.51968678, 0.15058463, 0.52538972, 0.29943943,\n",
       "        0.6537255 , 0.65606613, 0.31973519, 0.23555141, 0.48079699],\n",
       "       [0.88597454, 0.88258813, 0.2422724 , 0.44727871, 0.29506486,\n",
       "        0.20507128, 0.37004815, 0.34311052, 0.78124172, 0.81772578],\n",
       "       [0.35588511, 0.92414221, 0.02333983, 0.38490422, 0.28742967,\n",
       "        0.21662765, 0.04490667, 0.28461711, 0.11123592, 0.60867869],\n",
       "       [0.03766812, 0.65984385, 0.62257908, 0.83424559, 0.98677787,\n",
       "        0.48521079, 0.65690985, 0.01139689, 0.25098734, 0.65741642],\n",
       "       [0.86534381, 0.92275928, 0.56633266, 0.39380881, 0.44351216,\n",
       "        0.42463666, 0.27729318, 0.21510877, 0.3974412 , 0.99777991],\n",
       "       [0.02303965, 0.11556157, 0.2220071 , 0.3400904 , 0.29487495,\n",
       "        0.92990509, 0.05606734, 0.25492187, 0.03231305, 0.24024048],\n",
       "       [0.8194702 , 0.6144106 , 0.28316345, 0.16070051, 0.6935484 ,\n",
       "        0.11842348, 0.448692  , 0.95619717, 0.4251463 , 0.3569618 ],\n",
       "       [0.85564283, 0.00553458, 0.75645508, 0.47210219, 0.80010958,\n",
       "        0.68071585, 0.56787752, 0.52551614, 0.19251874, 0.53887633],\n",
       "       [0.07983485, 0.54679458, 0.8039927 , 0.54032043, 0.92152751,\n",
       "        0.24896613, 0.20054843, 0.87971899, 0.65356224, 0.05874371]])"
      ]
     },
     "execution_count": 2,
     "metadata": {},
     "output_type": "execute_result"
    }
   ],
   "source": [
    "mas_1 = np.random.uniform(size=(10, 10))\n",
    "mas_1"
   ]
  },
  {
   "cell_type": "code",
   "execution_count": 3,
   "metadata": {},
   "outputs": [
    {
     "data": {
      "text/plain": [
       "0.005534577030169019"
      ]
     },
     "execution_count": 3,
     "metadata": {},
     "output_type": "execute_result"
    }
   ],
   "source": [
    "min_mas = np.amin(mas_1) # поиск минимального значения\n",
    "min_mas"
   ]
  },
  {
   "cell_type": "code",
   "execution_count": 4,
   "metadata": {},
   "outputs": [
    {
     "data": {
      "text/plain": [
       "0.997779911800094"
      ]
     },
     "execution_count": 4,
     "metadata": {},
     "output_type": "execute_result"
    }
   ],
   "source": [
    "max_mas = np.amax(mas_1) # поиск максимального значения\n",
    "max_mas"
   ]
  },
  {
   "cell_type": "code",
   "execution_count": 9,
   "metadata": {},
   "outputs": [
    {
     "name": "stdout",
     "output_type": "stream",
     "text": [
      "минимальное значение 0.005534577030169019\n",
      "максимальное значение 0.997779911800094\n"
     ]
    }
   ],
   "source": [
    "print (\"минимальное значение\", min_mas)\n",
    "print (\"максимальное значение\", max_mas)"
   ]
  },
  {
   "cell_type": "markdown",
   "metadata": {},
   "source": [
    "2) Заменить максимальный элемент на ноль в массиве"
   ]
  },
  {
   "cell_type": "code",
   "execution_count": 10,
   "metadata": {},
   "outputs": [
    {
     "data": {
      "text/plain": [
       "array([0.98066282, 0.72589843, 0.25094055, 0.19363285, 0.89610926,\n",
       "       0.91420574, 0.00774017, 0.4904659 , 0.82688029, 0.11962035,\n",
       "       0.68427603, 0.81402888, 0.44685841, 0.26295423, 0.89339733,\n",
       "       0.31006565, 0.57064492, 0.22092517, 0.53416166, 0.95815989])"
      ]
     },
     "execution_count": 10,
     "metadata": {},
     "output_type": "execute_result"
    }
   ],
   "source": [
    "mas = np.random.uniform(size=20) # поиск максимального значения\n",
    "mas\n"
   ]
  },
  {
   "cell_type": "code",
   "execution_count": 11,
   "metadata": {},
   "outputs": [
    {
     "data": {
      "text/plain": [
       "array([0.        , 0.72589843, 0.25094055, 0.19363285, 0.89610926,\n",
       "       0.91420574, 0.00774017, 0.4904659 , 0.82688029, 0.11962035,\n",
       "       0.68427603, 0.81402888, 0.44685841, 0.26295423, 0.89339733,\n",
       "       0.31006565, 0.57064492, 0.22092517, 0.53416166, 0.95815989])"
      ]
     },
     "execution_count": 11,
     "metadata": {},
     "output_type": "execute_result"
    }
   ],
   "source": [
    "mas[mas==np.amax(mas)] = 0.0 # замена макс. значения на 0\n",
    "mas"
   ]
  },
  {
   "cell_type": "markdown",
   "metadata": {},
   "source": [
    "3) Найти след произведения двух матриц (сумму диагональных элементов)"
   ]
  },
  {
   "cell_type": "code",
   "execution_count": 13,
   "metadata": {},
   "outputs": [],
   "source": [
    "A = np.random.normal(size=(10, 5))\n",
    "B = np.random.normal(size=(5, 10))"
   ]
  },
  {
   "cell_type": "code",
   "execution_count": 14,
   "metadata": {},
   "outputs": [
    {
     "data": {
      "text/plain": [
       "5.664741411723018"
      ]
     },
     "execution_count": 14,
     "metadata": {},
     "output_type": "execute_result"
    }
   ],
   "source": [
    "Z = A.dot(B) # перемножение матриц\n",
    "sum_Z = np.trace(Z) # сумма диагональных элементов\n",
    "sum_Z"
   ]
  },
  {
   "cell_type": "markdown",
   "metadata": {},
   "source": [
    "Далее можно использовать циклы, но по возможности лучше без них"
   ]
  },
  {
   "cell_type": "markdown",
   "metadata": {},
   "source": [
    "4) Построить графики \n",
    "\n",
    "    a) Нормального распределения ( с параметрами 0, 1)\n",
    "    б) Распределение Стьюдента ( n = 2, например )"
   ]
  },
  {
   "cell_type": "code",
   "execution_count": 15,
   "metadata": {},
   "outputs": [],
   "source": [
    "import seaborn as sns"
   ]
  },
  {
   "cell_type": "code",
   "execution_count": 16,
   "metadata": {},
   "outputs": [
    {
     "name": "stderr",
     "output_type": "stream",
     "text": [
      "C:\\Users\\user\\anaconda3\\lib\\site-packages\\seaborn\\distributions.py:2619: FutureWarning: `distplot` is a deprecated function and will be removed in a future version. Please adapt your code to use either `displot` (a figure-level function with similar flexibility) or `histplot` (an axes-level function for histograms).\n",
      "  warnings.warn(msg, FutureWarning)\n"
     ]
    },
    {
     "data": {
      "text/plain": [
       "<AxesSubplot:ylabel='Density'>"
      ]
     },
     "execution_count": 16,
     "metadata": {},
     "output_type": "execute_result"
    },
    {
     "data": {
      "image/png": "[encoded data removed]",
      "text/plain": [
       "<Figure size 432x288 with 1 Axes>"
      ]
     },
     "metadata": {
      "needs_background": "light"
     },
     "output_type": "display_data"
    }
   ],
   "source": [
    "N = 2000\n",
    "uniform_data = np.random.normal(loc = 0, scale = 1, size = N) #нормальное распределение\n",
    "sns.distplot(uniform_data)"
   ]
  },
  {
   "cell_type": "code",
   "execution_count": 19,
   "metadata": {},
   "outputs": [
    {
     "name": "stderr",
     "output_type": "stream",
     "text": [
      "C:\\Users\\user\\anaconda3\\lib\\site-packages\\seaborn\\distributions.py:2619: FutureWarning: `distplot` is a deprecated function and will be removed in a future version. Please adapt your code to use either `displot` (a figure-level function with similar flexibility) or `histplot` (an axes-level function for histograms).\n",
      "  warnings.warn(msg, FutureWarning)\n"
     ]
    },
    {
     "data": {
      "text/plain": [
       "<AxesSubplot:ylabel='Density'>"
      ]
     },
     "execution_count": 19,
     "metadata": {},
     "output_type": "execute_result"
    },
    {
     "data": {
      "image/png": "[encoded data removed]",
      "text/plain": [
       "<Figure size 432x288 with 1 Axes>"
      ]
     },
     "metadata": {},
     "output_type": "display_data"
    }
   ],
   "source": [
    "n= 100\n",
    "df = n-1\n",
    "uniform_data = np.random.standard_t (df,size=n)  #распределение Стьюдента\n",
    "sns.distplot(uniform_data)"
   ]
  },
  {
   "cell_type": "code",
   "execution_count": 23,
   "metadata": {},
   "outputs": [
    {
     "data": {
      "text/plain": [
       "<AxesSubplot:>"
      ]
     },
     "execution_count": 23,
     "metadata": {},
     "output_type": "execute_result"
    },
    {
     "data": {
      "image/png": "[encoded data removed]",
      "text/plain": [
       "<Figure size 432x288 with 2 Axes>"
      ]
     },
     "metadata": {},
     "output_type": "display_data"
    }
   ],
   "source": [
    "sns.heatmap(data_corr, cmap=\"YlGnBu\") # диаграмму матрицу корреляции"
   ]
  },
  {
   "cell_type": "markdown",
   "metadata": {},
   "source": [
    "5) Возьмите датасет из самой первой домашки (heart.csv), посчитайте попарные корреляции признаков (нужные функции есть в numpy, но удобнее использовать pandas для этих целей, там есть метод .corr у датафрейма)\n",
    "\n",
    "    Затем постройте heatmap полученной таблицы, heatmap есть в seaborn: https://seaborn.pydata.org/generated/seaborn.heatmap.html"
   ]
  },
  {
   "cell_type": "code",
   "execution_count": null,
   "metadata": {},
   "outputs": [],
   "source": []
  },
  {
   "cell_type": "code",
   "execution_count": null,
   "metadata": {},
   "outputs": [],
   "source": []
  },
  {
   "cell_type": "code",
   "execution_count": null,
   "metadata": {},
   "outputs": [],
   "source": []
  },
  {
   "cell_type": "markdown",
   "metadata": {},
   "source": [
    "6) Есть много критериев проверки стат гипотезы о равенстве распределения данному. Давайте возьмем два из них\n",
    "    1) хи-квадрат: https://ru.wikipedia.org/wiki/Критерий_согласия_Пирсона\n",
    "    2) Колмогоров-Смирнов: https://ru.wikipedia.org/wiki/Критерий_согласия_Колмогорова\n",
    "    \n",
    "   Интересно, как зависит p-value от размера выборки. Постройте две кривые: по оси x - размер выборки, по y - p-value, которое выдает соответствующий критерий. В качестве тестовых данных давайте генерить выборки из равномерного распределения на [0, 1]"
   ]
  },
  {
   "cell_type": "code",
   "execution_count": 27,
   "metadata": {},
   "outputs": [],
   "source": [
    "import scipy"
   ]
  },
  {
   "cell_type": "code",
   "execution_count": 28,
   "metadata": {},
   "outputs": [],
   "source": [
    "N_1 = 100\n",
    "df_1 = pd.DataFrame()\n",
    "df_1['dist1'] = np.random.normal(size=N_1)\n",
    "df_1['dist2'] = np.random.normal(size=N_1)"
   ]
  },
  {
   "cell_type": "code",
   "execution_count": null,
   "metadata": {},
   "outputs": [],
   "source": []
  }
 ],
 "metadata": {
  "kernelspec": {
   "display_name": "Python 3 (ipykernel)",
   "language": "python",
   "name": "python3"
  },
  "language_info": {
   "codemirror_mode": {
    "name": "ipython",
    "version": 3
   },
   "file_extension": ".py",
   "mimetype": "text/x-python",
   "name": "python",
   "nbconvert_exporter": "python",
   "pygments_lexer": "ipython3",
   "version": "3.9.7"
  }
 },
 "nbformat": 4,
 "nbformat_minor": 4
}
