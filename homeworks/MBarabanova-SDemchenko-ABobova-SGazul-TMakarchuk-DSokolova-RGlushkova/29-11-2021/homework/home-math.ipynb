{
 "cells": [
  {
   "cell_type": "markdown",
   "metadata": {},
   "source": [
    "Эти задачки надо решать без помощи циклов, только средствами numpy"
   ]
  },
  {
   "cell_type": "code",
   "execution_count": 62,
   "metadata": {},
   "outputs": [],
   "source": [
    "import numpy as np\n",
    "from matplotlib import pyplot as plt\n",
    "import seaborn as sns\n",
    "from tqdm import tqdm\n",
    "import pandas as pd\n",
    "import scipy.stats as stats\n",
    "import math\n",
    "\n",
    "%matplotlib inline\n",
    "sns.set()\n",
    "\n",
    "import warnings\n",
    "warnings.filterwarnings('ignore')"
   ]
  },
  {
   "cell_type": "markdown",
   "metadata": {},
   "source": [
    "1) Создать массив 10x10 со случайными значениями, найти минимум и максимум"
   ]
  },
  {
   "cell_type": "code",
   "execution_count": 28,
   "metadata": {},
   "outputs": [
    {
     "data": {
      "text/plain": [
       "(0.9997903145180145, 0.01239917624846909)"
      ]
     },
     "execution_count": 28,
     "metadata": {},
     "output_type": "execute_result"
    }
   ],
   "source": [
    "A = np.random.rand(10, 10)\n",
    "A\n",
    "MinValue = np.min(A)\n",
    "MaxValue = np.max(A)\n",
    "MaxValue, MinValue #максимальное и минимальное значения"
   ]
  },
  {
   "cell_type": "markdown",
   "metadata": {},
   "source": [
    "2) Заменить максимальный элемент на ноль в массиве"
   ]
  },
  {
   "cell_type": "code",
   "execution_count": 47,
   "metadata": {},
   "outputs": [
    {
     "name": "stdout",
     "output_type": "stream",
     "text": [
      "То, что было:[0.18472836 0.90162981 0.11002464 0.05608297 0.44770376 0.36849638\n",
      " 0.48071359 0.96750023 0.91422799 0.01122992 0.23907462 0.96007431\n",
      " 0.45764875 0.89548748 0.41215682 0.91767514 0.86372738 0.05522883\n",
      " 0.65694266 0.41832315]\n",
      "То, что получилось:[0.18472836 0.90162981 0.11002464 0.05608297 0.44770376 0.36849638\n",
      " 0.48071359 0.         0.91422799 0.01122992 0.23907462 0.96007431\n",
      " 0.45764875 0.89548748 0.41215682 0.91767514 0.86372738 0.05522883\n",
      " 0.65694266 0.41832315]\n"
     ]
    }
   ],
   "source": [
    "Mas = np.random.uniform(size=20)\n",
    "print('То, что было:' + str(Mas))\n",
    "Maximum = np.max(Mas)\n",
    "i = np.where(Mas == Maximum)\n",
    "Mas[i] = 0\n",
    "print('То, что получилось:' + str(Mas))"
   ]
  },
  {
   "cell_type": "markdown",
   "metadata": {},
   "source": [
    "3) Найти след произведения двух матриц (сумму диагональных элементов)"
   ]
  },
  {
   "cell_type": "code",
   "execution_count": 58,
   "metadata": {},
   "outputs": [
    {
     "name": "stdout",
     "output_type": "stream",
     "text": [
      "A:[[-0.14447935 -1.6523358   1.94063027 -0.4534257   0.55315001]\n",
      " [-0.02008721 -0.73441887 -0.01898437  0.88468471  0.03313363]\n",
      " [-0.03665406  0.05606542 -0.17049331  0.23650169 -2.24277621]\n",
      " [ 0.91572805 -0.9181341   1.19257516  0.45184435 -1.29179057]\n",
      " [ 1.62685539  1.58400224 -0.37614383  1.38625913 -0.82260934]\n",
      " [-0.16839347 -0.42304704  0.59144765  0.12869798 -0.32389679]\n",
      " [ 1.18437843 -1.44373162  0.48039339  0.11022635 -1.62901674]\n",
      " [ 1.09522145  0.44683792 -0.1884207  -0.09958201 -0.23269538]\n",
      " [ 0.64399921 -0.82522022  2.2280103  -0.69603747 -1.48775402]\n",
      " [ 1.34390169  0.79939324 -0.73231749 -0.85748569 -1.21079991]]\n",
      "B:[[ 0.57308215  0.35790155 -1.17604427 -0.28116811 -0.01999613 -1.69676191\n",
      "   0.58388761  0.61915394  0.33516369 -0.37572849]\n",
      " [ 0.90769075  1.04354186  0.29429022  0.43066856  0.04428809 -0.43243133\n",
      "   0.17900797 -1.04016642  0.44388378  1.33331546]\n",
      " [-0.73251233  0.96972283 -0.3423945   0.81171789 -0.65604099  1.56300884\n",
      "  -0.59767908 -0.74331935 -1.93194904 -0.03098973]\n",
      " [-0.250489    2.16733174 -1.1369301  -0.13569956 -0.46875387  0.86800015\n",
      "  -2.25419248 -0.67500407 -0.0058481  -0.57879953]\n",
      " [-0.88458876  0.56335661  0.67179567  0.980608   -1.9158048  -0.65331779\n",
      "  -1.49031047 -0.15532703 -1.48623627 -1.48786085]]\n",
      "Произведение:[[-3.37987619 -0.56522068 -0.09369619  1.5082112  -2.19060517  3.23793478\n",
      "  -1.34227157  0.40688627 -5.35052802 -2.76950715]\n",
      " [-0.91514397  1.14407565 -1.16957434 -0.41361342 -0.49784675  1.06825587\n",
      "  -2.17547795  0.16327989 -0.35047041 -1.53242969]\n",
      " [ 2.07946628 -0.87084838 -1.65759096 -2.33531837  4.30092692  1.44199532\n",
      "   2.89984712  0.23444329  3.67389807  3.29386025]\n",
      " [-0.15264905  0.77765432 -3.13700054 -1.01290568  1.42166319  1.94341372\n",
      "   0.56417659  0.53117792 -0.48735691  0.05529222]\n",
      " [ 3.02606428  4.41153246 -3.44701313 -1.07533463  1.21053199 -2.29257614\n",
      "  -0.44068855 -1.16871412  3.18955132  1.93393746]\n",
      " [-0.65946384  0.16826652 -0.49288192  0.01016241  0.15681272  1.71641771\n",
      "  -0.33495078 -0.14041836 -0.9062353  -0.11169072]\n",
      " [ 0.42978964 -1.29567534 -3.20192767 -2.17721987  2.66642823  0.52550781\n",
      "   2.32525262  2.05657512  1.24847521 -0.02489039]\n",
      " [ 1.40204691  0.32864193 -1.13512063 -0.48311647  0.6139795  -2.28047314\n",
      "   1.40335429  0.45674377  1.27586444  0.59396548]\n",
      " [-0.52162511 -0.81679124 -1.97120506 -0.09240414  1.66542555  3.1143531\n",
      "   2.68288481  0.30189439 -2.2396346   1.20514393]\n",
      " [ 3.31805023 -1.93552825 -0.93300164 -1.6989836   3.21056706 -3.72384317\n",
      "   5.10288173  1.31180207  4.02461421  2.88140963]]\n"
     ]
    }
   ],
   "source": [
    "#не уверен, что сделал правильно, но в порядке эксперимента :-)\n",
    "A = np.array(np.random.normal(size=(10, 5)))\n",
    "B = np.array(np.random.normal(size=(5, 10)))\n",
    "print('A:' + str(A))\n",
    "print('B:' + str(B))\n",
    "MatrixMultiply = np.dot(A, B)\n",
    "print('Произведение:' + str(MatrixMultiply))\n",
    "MatrixFootprint = np.trace(MatrixMultiply)\n",
    "print('След:' + str(MatrixMultiply))"
   ]
  },
  {
   "cell_type": "markdown",
   "metadata": {},
   "source": [
    "Далее можно использовать циклы, но по возможности лучше без них"
   ]
  },
  {
   "cell_type": "markdown",
   "metadata": {},
   "source": [
    "4) Построить графики \n",
    "\n",
    "    a) Нормального распределения ( с параметрами 0, 1)\n",
    "    \n",
    "    \n",
    "    \n",
    "    б) Распределение Стьюдента ( n = 2, например )\n",
    "    "
   ]
  },
  {
   "cell_type": "code",
   "execution_count": 66,
   "metadata": {},
   "outputs": [
    {
     "data": {
      "image/png": "[encoded data removed]",
      "text/plain": [
       "<Figure size 432x288 with 1 Axes>"
      ]
     },
     "metadata": {},
     "output_type": "display_data"
    }
   ],
   "source": [
    "# Это уже по примеру из манов в Интернет. ТО, что ниже сделать не успел, но вы сказали, \n",
    "# что можно просто с этим заданием по фану поиграться.\n",
    "# задание интересное, но декабрь, завал по проектам и работе :-(\n",
    "# позднее буду разбираться детальнее, очень полезный материал.\n",
    "\n",
    "mu = 0\n",
    "variance = 1\n",
    "sigma = math.sqrt(variance)\n",
    "x = np.linspace(mu - 3*sigma, mu + 3*sigma, 100)\n",
    "plt.plot(x, stats.norm.pdf(x, mu, sigma))\n",
    "plt.show()"
   ]
  },
  {
   "cell_type": "markdown",
   "metadata": {},
   "source": [
    "5) Возьмите датасет из самой первой домашки (heart.csv), посчитайте попарные корреляции признаков (нужные функции есть в numpy, но удобнее использовать pandas для этих целей, там есть метод .corr у датафрейма)\n",
    "\n",
    "    Затем постройте heatmap полученной таблицы, heatmap есть в seaborn: https://seaborn.pydata.org/generated/seaborn.heatmap.html"
   ]
  },
  {
   "cell_type": "markdown",
   "metadata": {},
   "source": [
    "6) Есть много критериев проверки стат гипотезы о равенстве распределения данному. Давайте возьмем два из них\n",
    "    1) хи-квадрат: https://ru.wikipedia.org/wiki/Критерий_согласия_Пирсона\n",
    "    2) Колмогоров-Смирнов: https://ru.wikipedia.org/wiki/Критерий_согласия_Колмогорова\n",
    "    \n",
    "   Интересно, как зависит p-value от размера выборки. Постройте две кривые: по оси x - размер выборки, по y - p-value, которое выдает соответствующий критерий. В качестве тестовых данных давайте генерить выборки из равномерного распределения на [0, 1]"
   ]
  },
  {
   "cell_type": "code",
   "execution_count": null,
   "metadata": {},
   "outputs": [],
   "source": []
  }
 ],
 "metadata": {
  "kernelspec": {
   "display_name": "Python 3 (ipykernel)",
   "language": "python",
   "name": "python3"
  },
  "language_info": {
   "codemirror_mode": {
    "name": "ipython",
    "version": 3
   },
   "file_extension": ".py",
   "mimetype": "text/x-python",
   "name": "python",
   "nbconvert_exporter": "python",
   "pygments_lexer": "ipython3",
   "version": "3.9.7"
  }
 },
 "nbformat": 4,
 "nbformat_minor": 4
}
