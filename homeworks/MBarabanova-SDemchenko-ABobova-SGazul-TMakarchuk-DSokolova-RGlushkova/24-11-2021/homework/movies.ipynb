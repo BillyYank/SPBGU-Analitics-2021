{
 "cells": [
  {
   "cell_type": "code",
   "execution_count": 170,
   "id": "e914e151",
   "metadata": {},
   "outputs": [],
   "source": [
    "#Скачайте данные отсюда: https://www.kaggle.com/rounakbanik/the-movies-dataset Это информация по фильмам, довольно тяжелая, около гигабайта весит.\n",
    "\n",
    "#Ответьте на следующие вопросы:\n",
    "\n",
    "#1) Какой самый дорогой и самый дешевый фильмы (в плане бюджета)?\n",
    "#2) Найдите топ 100 самых лучших и самых худших фильмов (согласно среднему рейтингу, который прийдется посчитать)\n",
    "#3) Интересно найти фильмы, который просто ужасны (очень низкий рейтинг), но тем не менее популярны (там есть колонка popularity). Скажем так, фильм очень плохой, но он популярнее чем очень хорошие. Я строго не формализую этот пункт, придумайте сами как это сделать, есть разные варианты. Я знаю пример такого фильма, мне интересно, удастся ли его найти в этом датасете)"
   ]
  },
  {
   "cell_type": "code",
   "execution_count": 99,
   "id": "1d9456c2",
   "metadata": {},
   "outputs": [],
   "source": [
    "import pandas as pd\n",
    "import os\n",
    "from datetime import datetime\n",
    "from matplotlib import pyplot as plt\n",
    "import json\n",
    "\n",
    "%matplotlib inline"
   ]
  },
  {
   "cell_type": "code",
   "execution_count": 100,
   "id": "bdfd462a",
   "metadata": {},
   "outputs": [],
   "source": [
    "#1) Какой самый дорогой и самый дешевый фильмы (в плане бюджета)?"
   ]
  },
  {
   "cell_type": "code",
   "execution_count": 101,
   "id": "fd19e5f2",
   "metadata": {},
   "outputs": [],
   "source": [
    "movies = pd.read_csv('movies_metadata.csv')"
   ]
  },
  {
   "cell_type": "code",
   "execution_count": 102,
   "id": "449ffbf0",
   "metadata": {},
   "outputs": [
    {
     "data": {
      "text/html": [
       "<div>\n",
       "<style scoped>\n",
       "    .dataframe tbody tr th:only-of-type {\n",
       "        vertical-align: middle;\n",
       "    }\n",
       "\n",
       "    .dataframe tbody tr th {\n",
       "        vertical-align: top;\n",
       "    }\n",
       "\n",
       "    .dataframe thead th {\n",
       "        text-align: right;\n",
       "    }\n",
       "</style>\n",
       "<table border=\"1\" class=\"dataframe\">\n",
       "  <thead>\n",
       "    <tr style=\"text-align: right;\">\n",
       "      <th></th>\n",
       "      <th>adult</th>\n",
       "      <th>belongs_to_collection</th>\n",
       "      <th>budget</th>\n",
       "      <th>genres</th>\n",
       "      <th>homepage</th>\n",
       "      <th>id</th>\n",
       "      <th>imdb_id</th>\n",
       "      <th>original_language</th>\n",
       "      <th>original_title</th>\n",
       "      <th>overview</th>\n",
       "      <th>...</th>\n",
       "      <th>release_date</th>\n",
       "      <th>revenue</th>\n",
       "      <th>runtime</th>\n",
       "      <th>spoken_languages</th>\n",
       "      <th>status</th>\n",
       "      <th>tagline</th>\n",
       "      <th>title</th>\n",
       "      <th>video</th>\n",
       "      <th>vote_average</th>\n",
       "      <th>vote_count</th>\n",
       "    </tr>\n",
       "  </thead>\n",
       "  <tbody>\n",
       "    <tr>\n",
       "      <th>0</th>\n",
       "      <td>False</td>\n",
       "      <td>{'id': 10194, 'name': 'Toy Story Collection', ...</td>\n",
       "      <td>30000000</td>\n",
       "      <td>[{'id': 16, 'name': 'Animation'}, {'id': 35, '...</td>\n",
       "      <td>http://toystory.disney.com/toy-story</td>\n",
       "      <td>862</td>\n",
       "      <td>tt0114709</td>\n",
       "      <td>en</td>\n",
       "      <td>Toy Story</td>\n",
       "      <td>Led by Woody, Andy's toys live happily in his ...</td>\n",
       "      <td>...</td>\n",
       "      <td>1995-10-30</td>\n",
       "      <td>373554033.0</td>\n",
       "      <td>81.0</td>\n",
       "      <td>[{'iso_639_1': 'en', 'name': 'English'}]</td>\n",
       "      <td>Released</td>\n",
       "      <td>NaN</td>\n",
       "      <td>Toy Story</td>\n",
       "      <td>False</td>\n",
       "      <td>7.7</td>\n",
       "      <td>5415.0</td>\n",
       "    </tr>\n",
       "    <tr>\n",
       "      <th>1</th>\n",
       "      <td>False</td>\n",
       "      <td>NaN</td>\n",
       "      <td>65000000</td>\n",
       "      <td>[{'id': 12, 'name': 'Adventure'}, {'id': 14, '...</td>\n",
       "      <td>NaN</td>\n",
       "      <td>8844</td>\n",
       "      <td>tt0113497</td>\n",
       "      <td>en</td>\n",
       "      <td>Jumanji</td>\n",
       "      <td>When siblings Judy and Peter discover an encha...</td>\n",
       "      <td>...</td>\n",
       "      <td>1995-12-15</td>\n",
       "      <td>262797249.0</td>\n",
       "      <td>104.0</td>\n",
       "      <td>[{'iso_639_1': 'en', 'name': 'English'}, {'iso...</td>\n",
       "      <td>Released</td>\n",
       "      <td>Roll the dice and unleash the excitement!</td>\n",
       "      <td>Jumanji</td>\n",
       "      <td>False</td>\n",
       "      <td>6.9</td>\n",
       "      <td>2413.0</td>\n",
       "    </tr>\n",
       "    <tr>\n",
       "      <th>2</th>\n",
       "      <td>False</td>\n",
       "      <td>{'id': 119050, 'name': 'Grumpy Old Men Collect...</td>\n",
       "      <td>0</td>\n",
       "      <td>[{'id': 10749, 'name': 'Romance'}, {'id': 35, ...</td>\n",
       "      <td>NaN</td>\n",
       "      <td>15602</td>\n",
       "      <td>tt0113228</td>\n",
       "      <td>en</td>\n",
       "      <td>Grumpier Old Men</td>\n",
       "      <td>A family wedding reignites the ancient feud be...</td>\n",
       "      <td>...</td>\n",
       "      <td>1995-12-22</td>\n",
       "      <td>0.0</td>\n",
       "      <td>101.0</td>\n",
       "      <td>[{'iso_639_1': 'en', 'name': 'English'}]</td>\n",
       "      <td>Released</td>\n",
       "      <td>Still Yelling. Still Fighting. Still Ready for...</td>\n",
       "      <td>Grumpier Old Men</td>\n",
       "      <td>False</td>\n",
       "      <td>6.5</td>\n",
       "      <td>92.0</td>\n",
       "    </tr>\n",
       "    <tr>\n",
       "      <th>3</th>\n",
       "      <td>False</td>\n",
       "      <td>NaN</td>\n",
       "      <td>16000000</td>\n",
       "      <td>[{'id': 35, 'name': 'Comedy'}, {'id': 18, 'nam...</td>\n",
       "      <td>NaN</td>\n",
       "      <td>31357</td>\n",
       "      <td>tt0114885</td>\n",
       "      <td>en</td>\n",
       "      <td>Waiting to Exhale</td>\n",
       "      <td>Cheated on, mistreated and stepped on, the wom...</td>\n",
       "      <td>...</td>\n",
       "      <td>1995-12-22</td>\n",
       "      <td>81452156.0</td>\n",
       "      <td>127.0</td>\n",
       "      <td>[{'iso_639_1': 'en', 'name': 'English'}]</td>\n",
       "      <td>Released</td>\n",
       "      <td>Friends are the people who let you be yourself...</td>\n",
       "      <td>Waiting to Exhale</td>\n",
       "      <td>False</td>\n",
       "      <td>6.1</td>\n",
       "      <td>34.0</td>\n",
       "    </tr>\n",
       "    <tr>\n",
       "      <th>4</th>\n",
       "      <td>False</td>\n",
       "      <td>{'id': 96871, 'name': 'Father of the Bride Col...</td>\n",
       "      <td>0</td>\n",
       "      <td>[{'id': 35, 'name': 'Comedy'}]</td>\n",
       "      <td>NaN</td>\n",
       "      <td>11862</td>\n",
       "      <td>tt0113041</td>\n",
       "      <td>en</td>\n",
       "      <td>Father of the Bride Part II</td>\n",
       "      <td>Just when George Banks has recovered from his ...</td>\n",
       "      <td>...</td>\n",
       "      <td>1995-02-10</td>\n",
       "      <td>76578911.0</td>\n",
       "      <td>106.0</td>\n",
       "      <td>[{'iso_639_1': 'en', 'name': 'English'}]</td>\n",
       "      <td>Released</td>\n",
       "      <td>Just When His World Is Back To Normal... He's ...</td>\n",
       "      <td>Father of the Bride Part II</td>\n",
       "      <td>False</td>\n",
       "      <td>5.7</td>\n",
       "      <td>173.0</td>\n",
       "    </tr>\n",
       "  </tbody>\n",
       "</table>\n",
       "<p>5 rows × 24 columns</p>\n",
       "</div>"
      ],
      "text/plain": [
       "   adult                              belongs_to_collection    budget  \\\n",
       "0  False  {'id': 10194, 'name': 'Toy Story Collection', ...  30000000   \n",
       "1  False                                                NaN  65000000   \n",
       "2  False  {'id': 119050, 'name': 'Grumpy Old Men Collect...         0   \n",
       "3  False                                                NaN  16000000   \n",
       "4  False  {'id': 96871, 'name': 'Father of the Bride Col...         0   \n",
       "\n",
       "                                              genres  \\\n",
       "0  [{'id': 16, 'name': 'Animation'}, {'id': 35, '...   \n",
       "1  [{'id': 12, 'name': 'Adventure'}, {'id': 14, '...   \n",
       "2  [{'id': 10749, 'name': 'Romance'}, {'id': 35, ...   \n",
       "3  [{'id': 35, 'name': 'Comedy'}, {'id': 18, 'nam...   \n",
       "4                     [{'id': 35, 'name': 'Comedy'}]   \n",
       "\n",
       "                               homepage     id    imdb_id original_language  \\\n",
       "0  http://toystory.disney.com/toy-story    862  tt0114709                en   \n",
       "1                                   NaN   8844  tt0113497                en   \n",
       "2                                   NaN  15602  tt0113228                en   \n",
       "3                                   NaN  31357  tt0114885                en   \n",
       "4                                   NaN  11862  tt0113041                en   \n",
       "\n",
       "                original_title  \\\n",
       "0                    Toy Story   \n",
       "1                      Jumanji   \n",
       "2             Grumpier Old Men   \n",
       "3            Waiting to Exhale   \n",
       "4  Father of the Bride Part II   \n",
       "\n",
       "                                            overview  ... release_date  \\\n",
       "0  Led by Woody, Andy's toys live happily in his ...  ...   1995-10-30   \n",
       "1  When siblings Judy and Peter discover an encha...  ...   1995-12-15   \n",
       "2  A family wedding reignites the ancient feud be...  ...   1995-12-22   \n",
       "3  Cheated on, mistreated and stepped on, the wom...  ...   1995-12-22   \n",
       "4  Just when George Banks has recovered from his ...  ...   1995-02-10   \n",
       "\n",
       "       revenue runtime                                   spoken_languages  \\\n",
       "0  373554033.0    81.0           [{'iso_639_1': 'en', 'name': 'English'}]   \n",
       "1  262797249.0   104.0  [{'iso_639_1': 'en', 'name': 'English'}, {'iso...   \n",
       "2          0.0   101.0           [{'iso_639_1': 'en', 'name': 'English'}]   \n",
       "3   81452156.0   127.0           [{'iso_639_1': 'en', 'name': 'English'}]   \n",
       "4   76578911.0   106.0           [{'iso_639_1': 'en', 'name': 'English'}]   \n",
       "\n",
       "     status                                            tagline  \\\n",
       "0  Released                                                NaN   \n",
       "1  Released          Roll the dice and unleash the excitement!   \n",
       "2  Released  Still Yelling. Still Fighting. Still Ready for...   \n",
       "3  Released  Friends are the people who let you be yourself...   \n",
       "4  Released  Just When His World Is Back To Normal... He's ...   \n",
       "\n",
       "                         title  video vote_average vote_count  \n",
       "0                    Toy Story  False          7.7     5415.0  \n",
       "1                      Jumanji  False          6.9     2413.0  \n",
       "2             Grumpier Old Men  False          6.5       92.0  \n",
       "3            Waiting to Exhale  False          6.1       34.0  \n",
       "4  Father of the Bride Part II  False          5.7      173.0  \n",
       "\n",
       "[5 rows x 24 columns]"
      ]
     },
     "execution_count": 102,
     "metadata": {},
     "output_type": "execute_result"
    }
   ],
   "source": [
    "movies.head()"
   ]
  },
  {
   "cell_type": "code",
   "execution_count": 103,
   "id": "6812b43a",
   "metadata": {},
   "outputs": [],
   "source": [
    "#1) Какой самый дорогой и самый дешевый фильмы (в плане бюджета)?"
   ]
  },
  {
   "cell_type": "code",
   "execution_count": 104,
   "id": "5e12feaa",
   "metadata": {},
   "outputs": [
    {
     "data": {
      "text/plain": [
       "Index(['adult', 'belongs_to_collection', 'budget', 'genres', 'homepage', 'id',\n",
       "       'imdb_id', 'original_language', 'original_title', 'overview',\n",
       "       'popularity', 'poster_path', 'production_companies',\n",
       "       'production_countries', 'release_date', 'revenue', 'runtime',\n",
       "       'spoken_languages', 'status', 'tagline', 'title', 'video',\n",
       "       'vote_average', 'vote_count'],\n",
       "      dtype='object')"
      ]
     },
     "execution_count": 104,
     "metadata": {},
     "output_type": "execute_result"
    }
   ],
   "source": [
    "movies = movies[movies['budget'].apply(lambda x: x.isdigit())]\n",
    "#movies['budget'] = movies['budget'].apply(float) -- это так, тестили :-)\n",
    "movies.columns"
   ]
  },
  {
   "cell_type": "code",
   "execution_count": 105,
   "id": "355634e3",
   "metadata": {},
   "outputs": [
    {
     "data": {
      "text/plain": [
       "(45463, 24)"
      ]
     },
     "execution_count": 105,
     "metadata": {},
     "output_type": "execute_result"
    }
   ],
   "source": [
    "movies.shape"
   ]
  },
  {
   "cell_type": "code",
   "execution_count": 106,
   "id": "d87404c3",
   "metadata": {},
   "outputs": [],
   "source": [
    "movies['budget'] = movies['budget'].astype(\"float\")"
   ]
  },
  {
   "cell_type": "code",
   "execution_count": 107,
   "id": "c11f6504",
   "metadata": {},
   "outputs": [
    {
     "data": {
      "text/plain": [
       "adult                     object\n",
       "belongs_to_collection     object\n",
       "budget                   float64\n",
       "genres                    object\n",
       "homepage                  object\n",
       "id                        object\n",
       "imdb_id                   object\n",
       "original_language         object\n",
       "original_title            object\n",
       "overview                  object\n",
       "popularity                object\n",
       "poster_path               object\n",
       "production_companies      object\n",
       "production_countries      object\n",
       "release_date              object\n",
       "revenue                  float64\n",
       "runtime                  float64\n",
       "spoken_languages          object\n",
       "status                    object\n",
       "tagline                   object\n",
       "title                     object\n",
       "video                     object\n",
       "vote_average             float64\n",
       "vote_count               float64\n",
       "dtype: object"
      ]
     },
     "execution_count": 107,
     "metadata": {},
     "output_type": "execute_result"
    }
   ],
   "source": [
    "movies.dtypes"
   ]
  },
  {
   "cell_type": "code",
   "execution_count": 108,
   "id": "62c3ad02",
   "metadata": {},
   "outputs": [],
   "source": [
    "MoviesStats = movies['budget'].describe()"
   ]
  },
  {
   "cell_type": "code",
   "execution_count": 109,
   "id": "c54b72fd",
   "metadata": {},
   "outputs": [
    {
     "data": {
      "text/plain": [
       "count    4.546300e+04\n",
       "mean     4.224579e+06\n",
       "std      1.742413e+07\n",
       "min      0.000000e+00\n",
       "25%      0.000000e+00\n",
       "50%      0.000000e+00\n",
       "75%      0.000000e+00\n",
       "max      3.800000e+08\n",
       "Name: budget, dtype: float64"
      ]
     },
     "execution_count": 109,
     "metadata": {},
     "output_type": "execute_result"
    }
   ],
   "source": [
    "MoviesStats"
   ]
  },
  {
   "cell_type": "code",
   "execution_count": 110,
   "id": "3392c158",
   "metadata": {},
   "outputs": [
    {
     "data": {
      "text/plain": [
       "380000000.0"
      ]
     },
     "execution_count": 110,
     "metadata": {},
     "output_type": "execute_result"
    }
   ],
   "source": [
    "MaxMovieBudget = movies['budget'].max() \n",
    "MaxMovieBudget"
   ]
  },
  {
   "cell_type": "code",
   "execution_count": 111,
   "id": "8b3fcd86",
   "metadata": {},
   "outputs": [],
   "source": [
    "#выше нашли самый большой бюджет фильма\n",
    "#Название самого дорогого фильма"
   ]
  },
  {
   "cell_type": "code",
   "execution_count": 112,
   "id": "cb4fd335",
   "metadata": {},
   "outputs": [],
   "source": [
    "MaxBudgetMovies = movies[movies['budget']>=MaxMovieBudget]\n",
    "MaxBudgetMovies = MaxBudgetMovies[['budget','original_title']]"
   ]
  },
  {
   "cell_type": "code",
   "execution_count": 113,
   "id": "105eb130",
   "metadata": {},
   "outputs": [
    {
     "data": {
      "text/html": [
       "<div>\n",
       "<style scoped>\n",
       "    .dataframe tbody tr th:only-of-type {\n",
       "        vertical-align: middle;\n",
       "    }\n",
       "\n",
       "    .dataframe tbody tr th {\n",
       "        vertical-align: top;\n",
       "    }\n",
       "\n",
       "    .dataframe thead th {\n",
       "        text-align: right;\n",
       "    }\n",
       "</style>\n",
       "<table border=\"1\" class=\"dataframe\">\n",
       "  <thead>\n",
       "    <tr style=\"text-align: right;\">\n",
       "      <th></th>\n",
       "      <th>budget</th>\n",
       "      <th>original_title</th>\n",
       "    </tr>\n",
       "  </thead>\n",
       "  <tbody>\n",
       "    <tr>\n",
       "      <th>17124</th>\n",
       "      <td>380000000.0</td>\n",
       "      <td>Pirates of the Caribbean: On Stranger Tides</td>\n",
       "    </tr>\n",
       "  </tbody>\n",
       "</table>\n",
       "</div>"
      ],
      "text/plain": [
       "            budget                               original_title\n",
       "17124  380000000.0  Pirates of the Caribbean: On Stranger Tides"
      ]
     },
     "execution_count": 113,
     "metadata": {},
     "output_type": "execute_result"
    }
   ],
   "source": [
    "MaxBudgetMovies"
   ]
  },
  {
   "cell_type": "code",
   "execution_count": 114,
   "id": "205efa47",
   "metadata": {},
   "outputs": [],
   "source": [
    "MinBudgetMovies = movies[movies['budget'] >= 1]\n",
    "MinMovieBudget = MinBudgetMovies['budget'].min() "
   ]
  },
  {
   "cell_type": "code",
   "execution_count": 115,
   "id": "ac097c75",
   "metadata": {},
   "outputs": [
    {
     "data": {
      "text/plain": [
       "1.0"
      ]
     },
     "execution_count": 115,
     "metadata": {},
     "output_type": "execute_result"
    }
   ],
   "source": [
    "MinMovieBudget"
   ]
  },
  {
   "cell_type": "code",
   "execution_count": 116,
   "id": "78a2db6f",
   "metadata": {},
   "outputs": [],
   "source": [
    "MinBudgetMovies = movies[movies['budget'] >= MinMovieBudget] # строим срез по ненулевым бюджетам\n",
    "MinBudgetMovies = MinBudgetMovies[['budget','original_title']]"
   ]
  },
  {
   "cell_type": "code",
   "execution_count": 117,
   "id": "d73d3d4b",
   "metadata": {},
   "outputs": [],
   "source": [
    "MinBudgetMovies = MinBudgetMovies.sort_values(by = 'budget', ascending=True)"
   ]
  },
  {
   "cell_type": "code",
   "execution_count": 118,
   "id": "791659a0",
   "metadata": {},
   "outputs": [
    {
     "data": {
      "text/html": [
       "<div>\n",
       "<style scoped>\n",
       "    .dataframe tbody tr th:only-of-type {\n",
       "        vertical-align: middle;\n",
       "    }\n",
       "\n",
       "    .dataframe tbody tr th {\n",
       "        vertical-align: top;\n",
       "    }\n",
       "\n",
       "    .dataframe thead th {\n",
       "        text-align: right;\n",
       "    }\n",
       "</style>\n",
       "<table border=\"1\" class=\"dataframe\">\n",
       "  <thead>\n",
       "    <tr style=\"text-align: right;\">\n",
       "      <th></th>\n",
       "      <th>budget</th>\n",
       "      <th>original_title</th>\n",
       "    </tr>\n",
       "  </thead>\n",
       "  <tbody>\n",
       "    <tr>\n",
       "      <th>31435</th>\n",
       "      <td>1.0</td>\n",
       "      <td>Victoria Day</td>\n",
       "    </tr>\n",
       "    <tr>\n",
       "      <th>21319</th>\n",
       "      <td>1.0</td>\n",
       "      <td>Fetching Cody</td>\n",
       "    </tr>\n",
       "    <tr>\n",
       "      <th>27958</th>\n",
       "      <td>1.0</td>\n",
       "      <td>Fear Clinic</td>\n",
       "    </tr>\n",
       "    <tr>\n",
       "      <th>2483</th>\n",
       "      <td>1.0</td>\n",
       "      <td>Lost &amp; Found</td>\n",
       "    </tr>\n",
       "    <tr>\n",
       "      <th>25093</th>\n",
       "      <td>1.0</td>\n",
       "      <td>Apflickorna</td>\n",
       "    </tr>\n",
       "    <tr>\n",
       "      <th>...</th>\n",
       "      <td>...</td>\n",
       "      <td>...</td>\n",
       "    </tr>\n",
       "    <tr>\n",
       "      <th>23956</th>\n",
       "      <td>15.0</td>\n",
       "      <td>Make Your Move</td>\n",
       "    </tr>\n",
       "    <tr>\n",
       "      <th>26010</th>\n",
       "      <td>15.0</td>\n",
       "      <td>Peeples</td>\n",
       "    </tr>\n",
       "    <tr>\n",
       "      <th>28176</th>\n",
       "      <td>17.0</td>\n",
       "      <td>Absence of the Good</td>\n",
       "    </tr>\n",
       "    <tr>\n",
       "      <th>28007</th>\n",
       "      <td>17.0</td>\n",
       "      <td>Ce que le jour doit à la nuit</td>\n",
       "    </tr>\n",
       "    <tr>\n",
       "      <th>38001</th>\n",
       "      <td>18.0</td>\n",
       "      <td>Enchanted Kingdom</td>\n",
       "    </tr>\n",
       "  </tbody>\n",
       "</table>\n",
       "<p>100 rows × 2 columns</p>\n",
       "</div>"
      ],
      "text/plain": [
       "       budget                 original_title\n",
       "31435     1.0                   Victoria Day\n",
       "21319     1.0                  Fetching Cody\n",
       "27958     1.0                    Fear Clinic\n",
       "2483      1.0                   Lost & Found\n",
       "25093     1.0                    Apflickorna\n",
       "...       ...                            ...\n",
       "23956    15.0                 Make Your Move\n",
       "26010    15.0                        Peeples\n",
       "28176    17.0            Absence of the Good\n",
       "28007    17.0  Ce que le jour doit à la nuit\n",
       "38001    18.0              Enchanted Kingdom\n",
       "\n",
       "[100 rows x 2 columns]"
      ]
     },
     "execution_count": 118,
     "metadata": {},
     "output_type": "execute_result"
    }
   ],
   "source": [
    "MinBudgetMovies.head(100) # выводим первые 100 строк и видим, что в датасете имеются странные данные по бюджету для некоторых фильмов."
   ]
  },
  {
   "cell_type": "code",
   "execution_count": 119,
   "id": "7ae722a6",
   "metadata": {},
   "outputs": [],
   "source": [
    "#2) Найдите топ 100 самых лучших и самых худших фильмов (согласно среднему рейтингу, который прийдется посчитать)"
   ]
  },
  {
   "cell_type": "code",
   "execution_count": 120,
   "id": "61eeed24",
   "metadata": {},
   "outputs": [
    {
     "name": "stderr",
     "output_type": "stream",
     "text": [
      "C:\\ProgramData\\Anaconda3\\lib\\site-packages\\IPython\\core\\interactiveshell.py:3444: DtypeWarning: Columns (10) have mixed types.Specify dtype option on import or set low_memory=False.\n",
      "  exec(code_obj, self.user_global_ns, self.user_ns)\n"
     ]
    }
   ],
   "source": [
    "movies = pd.read_csv('movies_metadata.csv') # переопределяю для лёгкости отладки и минимизации вероятности ошибок"
   ]
  },
  {
   "cell_type": "code",
   "execution_count": 139,
   "id": "ad64b8c5",
   "metadata": {},
   "outputs": [],
   "source": [
    "movies = movies[['original_title','vote_average']]"
   ]
  },
  {
   "cell_type": "code",
   "execution_count": 140,
   "id": "33c52392",
   "metadata": {},
   "outputs": [],
   "source": [
    "BestScoreMovies = movies.sort_values(by = 'vote_average', ascending=False)"
   ]
  },
  {
   "cell_type": "code",
   "execution_count": 141,
   "id": "570ad53b",
   "metadata": {},
   "outputs": [
    {
     "data": {
      "text/html": [
       "<div>\n",
       "<style scoped>\n",
       "    .dataframe tbody tr th:only-of-type {\n",
       "        vertical-align: middle;\n",
       "    }\n",
       "\n",
       "    .dataframe tbody tr th {\n",
       "        vertical-align: top;\n",
       "    }\n",
       "\n",
       "    .dataframe thead th {\n",
       "        text-align: right;\n",
       "    }\n",
       "</style>\n",
       "<table border=\"1\" class=\"dataframe\">\n",
       "  <thead>\n",
       "    <tr style=\"text-align: right;\">\n",
       "      <th></th>\n",
       "      <th>original_title</th>\n",
       "      <th>vote_average</th>\n",
       "    </tr>\n",
       "  </thead>\n",
       "  <tbody>\n",
       "    <tr>\n",
       "      <th>21642</th>\n",
       "      <td>Ice Age Columbus: Who Were the First Americans?</td>\n",
       "      <td>10.0</td>\n",
       "    </tr>\n",
       "    <tr>\n",
       "      <th>15710</th>\n",
       "      <td>If God Is Willing and da Creek Don't Rise</td>\n",
       "      <td>10.0</td>\n",
       "    </tr>\n",
       "    <tr>\n",
       "      <th>22396</th>\n",
       "      <td>Meat the Truth</td>\n",
       "      <td>10.0</td>\n",
       "    </tr>\n",
       "    <tr>\n",
       "      <th>22395</th>\n",
       "      <td>Marvin Hamlisch: What He Did For Love</td>\n",
       "      <td>10.0</td>\n",
       "    </tr>\n",
       "    <tr>\n",
       "      <th>35343</th>\n",
       "      <td>Elaine Stritch: At Liberty</td>\n",
       "      <td>10.0</td>\n",
       "    </tr>\n",
       "    <tr>\n",
       "      <th>...</th>\n",
       "      <td>...</td>\n",
       "      <td>...</td>\n",
       "    </tr>\n",
       "    <tr>\n",
       "      <th>4046</th>\n",
       "      <td>Simon Magus</td>\n",
       "      <td>10.0</td>\n",
       "    </tr>\n",
       "    <tr>\n",
       "      <th>27817</th>\n",
       "      <td>Heavy Weather</td>\n",
       "      <td>10.0</td>\n",
       "    </tr>\n",
       "    <tr>\n",
       "      <th>41597</th>\n",
       "      <td>Flykten till framtiden</td>\n",
       "      <td>10.0</td>\n",
       "    </tr>\n",
       "    <tr>\n",
       "      <th>44866</th>\n",
       "      <td>Lad: A Yorkshire Story</td>\n",
       "      <td>10.0</td>\n",
       "    </tr>\n",
       "    <tr>\n",
       "      <th>8926</th>\n",
       "      <td>Common Threads: Stories from the Quilt</td>\n",
       "      <td>10.0</td>\n",
       "    </tr>\n",
       "  </tbody>\n",
       "</table>\n",
       "<p>100 rows × 2 columns</p>\n",
       "</div>"
      ],
      "text/plain": [
       "                                        original_title  vote_average\n",
       "21642  Ice Age Columbus: Who Were the First Americans?          10.0\n",
       "15710        If God Is Willing and da Creek Don't Rise          10.0\n",
       "22396                                   Meat the Truth          10.0\n",
       "22395            Marvin Hamlisch: What He Did For Love          10.0\n",
       "35343                       Elaine Stritch: At Liberty          10.0\n",
       "...                                                ...           ...\n",
       "4046                                       Simon Magus          10.0\n",
       "27817                                    Heavy Weather          10.0\n",
       "41597                           Flykten till framtiden          10.0\n",
       "44866                           Lad: A Yorkshire Story          10.0\n",
       "8926            Common Threads: Stories from the Quilt          10.0\n",
       "\n",
       "[100 rows x 2 columns]"
      ]
     },
     "execution_count": 141,
     "metadata": {},
     "output_type": "execute_result"
    }
   ],
   "source": [
    "BestScoreMovies.head(100) # в датасете множество фильмов со средней оценкой = 10, что настораживает."
   ]
  },
  {
   "cell_type": "code",
   "execution_count": 142,
   "id": "a61ea567",
   "metadata": {},
   "outputs": [],
   "source": [
    "WorstScoreMovies = movies.sort_values(by = 'vote_average', ascending=True)"
   ]
  },
  {
   "cell_type": "code",
   "execution_count": 143,
   "id": "35a7fa60",
   "metadata": {},
   "outputs": [],
   "source": [
    "WorstScoreMovies = WorstScoreMovies[WorstScoreMovies['vote_average'] > 0]"
   ]
  },
  {
   "cell_type": "code",
   "execution_count": 144,
   "id": "1354b95a",
   "metadata": {},
   "outputs": [
    {
     "data": {
      "text/html": [
       "<div>\n",
       "<style scoped>\n",
       "    .dataframe tbody tr th:only-of-type {\n",
       "        vertical-align: middle;\n",
       "    }\n",
       "\n",
       "    .dataframe tbody tr th {\n",
       "        vertical-align: top;\n",
       "    }\n",
       "\n",
       "    .dataframe thead th {\n",
       "        text-align: right;\n",
       "    }\n",
       "</style>\n",
       "<table border=\"1\" class=\"dataframe\">\n",
       "  <thead>\n",
       "    <tr style=\"text-align: right;\">\n",
       "      <th></th>\n",
       "      <th>original_title</th>\n",
       "      <th>vote_average</th>\n",
       "    </tr>\n",
       "  </thead>\n",
       "  <tbody>\n",
       "    <tr>\n",
       "      <th>23733</th>\n",
       "      <td>Unrated II: Scary as Hell</td>\n",
       "      <td>0.5</td>\n",
       "    </tr>\n",
       "    <tr>\n",
       "      <th>25647</th>\n",
       "      <td>Anche gli angeli tirano di destro</td>\n",
       "      <td>0.5</td>\n",
       "    </tr>\n",
       "    <tr>\n",
       "      <th>29285</th>\n",
       "      <td>Under the Boardwalk</td>\n",
       "      <td>0.5</td>\n",
       "    </tr>\n",
       "    <tr>\n",
       "      <th>35121</th>\n",
       "      <td>Mrs. Lambert Remembers Love</td>\n",
       "      <td>0.5</td>\n",
       "    </tr>\n",
       "    <tr>\n",
       "      <th>25777</th>\n",
       "      <td>Chasing Shakespeare</td>\n",
       "      <td>0.5</td>\n",
       "    </tr>\n",
       "    <tr>\n",
       "      <th>...</th>\n",
       "      <td>...</td>\n",
       "      <td>...</td>\n",
       "    </tr>\n",
       "    <tr>\n",
       "      <th>41721</th>\n",
       "      <td>Breaking a Monster</td>\n",
       "      <td>1.0</td>\n",
       "    </tr>\n",
       "    <tr>\n",
       "      <th>17135</th>\n",
       "      <td>Diary of a Cannibal</td>\n",
       "      <td>1.0</td>\n",
       "    </tr>\n",
       "    <tr>\n",
       "      <th>36647</th>\n",
       "      <td>Пейза́ж</td>\n",
       "      <td>1.0</td>\n",
       "    </tr>\n",
       "    <tr>\n",
       "      <th>15727</th>\n",
       "      <td>No One Dies in Lily Dale</td>\n",
       "      <td>1.0</td>\n",
       "    </tr>\n",
       "    <tr>\n",
       "      <th>24915</th>\n",
       "      <td>The Male Animal</td>\n",
       "      <td>1.0</td>\n",
       "    </tr>\n",
       "  </tbody>\n",
       "</table>\n",
       "<p>100 rows × 2 columns</p>\n",
       "</div>"
      ],
      "text/plain": [
       "                          original_title  vote_average\n",
       "23733          Unrated II: Scary as Hell           0.5\n",
       "25647  Anche gli angeli tirano di destro           0.5\n",
       "29285                Under the Boardwalk           0.5\n",
       "35121        Mrs. Lambert Remembers Love           0.5\n",
       "25777                Chasing Shakespeare           0.5\n",
       "...                                  ...           ...\n",
       "41721                 Breaking a Monster           1.0\n",
       "17135                Diary of a Cannibal           1.0\n",
       "36647                            Пейза́ж           1.0\n",
       "15727           No One Dies in Lily Dale           1.0\n",
       "24915                    The Male Animal           1.0\n",
       "\n",
       "[100 rows x 2 columns]"
      ]
     },
     "execution_count": 144,
     "metadata": {},
     "output_type": "execute_result"
    }
   ],
   "source": [
    "WorstScoreMovies.head (100) # Судя по тайтлам, с задачей вывода 100 худших фильмов мы справились. Странно, что нет фильмов с рейтингом 0,1, сразу с 0,5"
   ]
  },
  {
   "cell_type": "code",
   "execution_count": 166,
   "id": "ad0fce0f",
   "metadata": {},
   "outputs": [
    {
     "name": "stderr",
     "output_type": "stream",
     "text": [
      "C:\\ProgramData\\Anaconda3\\lib\\site-packages\\IPython\\core\\interactiveshell.py:3444: DtypeWarning: Columns (10) have mixed types.Specify dtype option on import or set low_memory=False.\n",
      "  exec(code_obj, self.user_global_ns, self.user_ns)\n"
     ]
    }
   ],
   "source": [
    "#3) Интересно найти фильмы, который просто ужасны (очень низкий рейтинг), но тем не менее популярны (там есть колонка popularity). Скажем так, фильм очень плохой, но он популярнее чем очень хорошие. Я строго не формализую этот пункт, придумайте сами как это сделать, есть разные варианты. Я знаю пример такого фильма, мне интересно, удастся ли его найти в этом датасете)\n",
    "movies = pd.read_csv('movies_metadata.csv') # переопределяю для лёгкости отладки и минимизации вероятности ошибок"
   ]
  },
  {
   "cell_type": "code",
   "execution_count": 167,
   "id": "8afce4a1",
   "metadata": {},
   "outputs": [
    {
     "data": {
      "text/plain": [
       "0        21.946943\n",
       "1        17.015539\n",
       "2        11.712900\n",
       "3         3.859495\n",
       "4         8.387519\n",
       "           ...    \n",
       "45461     0.072051\n",
       "45462     0.178241\n",
       "45463     0.903007\n",
       "45464     0.003503\n",
       "45465     0.163015\n",
       "Name: popularity, Length: 45466, dtype: float64"
      ]
     },
     "execution_count": 167,
     "metadata": {},
     "output_type": "execute_result"
    }
   ],
   "source": [
    "movies['popularity'] = pd.to_numeric(movies['popularity'],errors = 'coerce') # приведём object к float\n",
    "movies['popularity'] # проверим"
   ]
  },
  {
   "cell_type": "code",
   "execution_count": 168,
   "id": "9d76bfec",
   "metadata": {},
   "outputs": [],
   "source": [
    "TrashMoviesTop = movies[['original_title','vote_average','popularity']]\n",
    "TrashMoviesTop = TrashMoviesTop.sort_values(['vote_average', 'popularity'], ascending=[True, False])"
   ]
  },
  {
   "cell_type": "code",
   "execution_count": 169,
   "id": "39f3cec5",
   "metadata": {},
   "outputs": [
    {
     "data": {
      "text/html": [
       "<div>\n",
       "<style scoped>\n",
       "    .dataframe tbody tr th:only-of-type {\n",
       "        vertical-align: middle;\n",
       "    }\n",
       "\n",
       "    .dataframe tbody tr th {\n",
       "        vertical-align: top;\n",
       "    }\n",
       "\n",
       "    .dataframe thead th {\n",
       "        text-align: right;\n",
       "    }\n",
       "</style>\n",
       "<table border=\"1\" class=\"dataframe\">\n",
       "  <thead>\n",
       "    <tr style=\"text-align: right;\">\n",
       "      <th></th>\n",
       "      <th>original_title</th>\n",
       "      <th>vote_average</th>\n",
       "      <th>popularity</th>\n",
       "    </tr>\n",
       "  </thead>\n",
       "  <tbody>\n",
       "    <tr>\n",
       "      <th>26565</th>\n",
       "      <td>Thor: Ragnarok</td>\n",
       "      <td>0.0</td>\n",
       "      <td>57.283628</td>\n",
       "    </tr>\n",
       "    <tr>\n",
       "      <th>26561</th>\n",
       "      <td>Justice League</td>\n",
       "      <td>0.0</td>\n",
       "      <td>25.944629</td>\n",
       "    </tr>\n",
       "    <tr>\n",
       "      <th>43393</th>\n",
       "      <td>Beyond Skyline</td>\n",
       "      <td>0.0</td>\n",
       "      <td>6.416249</td>\n",
       "    </tr>\n",
       "    <tr>\n",
       "      <th>26559</th>\n",
       "      <td>Avatar 2</td>\n",
       "      <td>0.0</td>\n",
       "      <td>6.020055</td>\n",
       "    </tr>\n",
       "    <tr>\n",
       "      <th>42269</th>\n",
       "      <td>Call Me by Your Name</td>\n",
       "      <td>0.0</td>\n",
       "      <td>4.300874</td>\n",
       "    </tr>\n",
       "    <tr>\n",
       "      <th>...</th>\n",
       "      <td>...</td>\n",
       "      <td>...</td>\n",
       "      <td>...</td>\n",
       "    </tr>\n",
       "    <tr>\n",
       "      <th>39310</th>\n",
       "      <td>The Plainsman</td>\n",
       "      <td>0.0</td>\n",
       "      <td>0.881416</td>\n",
       "    </tr>\n",
       "    <tr>\n",
       "      <th>32461</th>\n",
       "      <td>Tracks</td>\n",
       "      <td>0.0</td>\n",
       "      <td>0.877393</td>\n",
       "    </tr>\n",
       "    <tr>\n",
       "      <th>28315</th>\n",
       "      <td>Le deportate della sezione speciale SS</td>\n",
       "      <td>0.0</td>\n",
       "      <td>0.876006</td>\n",
       "    </tr>\n",
       "    <tr>\n",
       "      <th>29719</th>\n",
       "      <td>Billy the Kid</td>\n",
       "      <td>0.0</td>\n",
       "      <td>0.875418</td>\n",
       "    </tr>\n",
       "    <tr>\n",
       "      <th>1564</th>\n",
       "      <td>Indian Summer</td>\n",
       "      <td>0.0</td>\n",
       "      <td>0.873828</td>\n",
       "    </tr>\n",
       "  </tbody>\n",
       "</table>\n",
       "<p>100 rows × 3 columns</p>\n",
       "</div>"
      ],
      "text/plain": [
       "                               original_title  vote_average  popularity\n",
       "26565                          Thor: Ragnarok           0.0   57.283628\n",
       "26561                          Justice League           0.0   25.944629\n",
       "43393                          Beyond Skyline           0.0    6.416249\n",
       "26559                                Avatar 2           0.0    6.020055\n",
       "42269                    Call Me by Your Name           0.0    4.300874\n",
       "...                                       ...           ...         ...\n",
       "39310                           The Plainsman           0.0    0.881416\n",
       "32461                                  Tracks           0.0    0.877393\n",
       "28315  Le deportate della sezione speciale SS           0.0    0.876006\n",
       "29719                           Billy the Kid           0.0    0.875418\n",
       "1564                            Indian Summer           0.0    0.873828\n",
       "\n",
       "[100 rows x 3 columns]"
      ]
     },
     "execution_count": 169,
     "metadata": {},
     "output_type": "execute_result"
    }
   ],
   "source": [
    "TrashMoviesTop.head(100) # Результаты, конечно, странные. Вероятно, связано с тем, что в датасете, всё-таки \"кривые\" данны по средним оценкам."
   ]
  },
  {
   "cell_type": "code",
   "execution_count": null,
   "id": "1d74b86f",
   "metadata": {},
   "outputs": [],
   "source": []
  },
  {
   "cell_type": "code",
   "execution_count": null,
   "id": "1cd3678c",
   "metadata": {},
   "outputs": [],
   "source": []
  },
  {
   "cell_type": "code",
   "execution_count": null,
   "id": "3c0f0141",
   "metadata": {},
   "outputs": [],
   "source": []
  }
 ],
 "metadata": {
  "kernelspec": {
   "display_name": "Python 3 (ipykernel)",
   "language": "python",
   "name": "python3"
  },
  "language_info": {
   "codemirror_mode": {
    "name": "ipython",
    "version": 3
   },
   "file_extension": ".py",
   "mimetype": "text/x-python",
   "name": "python",
   "nbconvert_exporter": "python",
   "pygments_lexer": "ipython3",
   "version": "3.9.7"
  }
 },
 "nbformat": 4,
 "nbformat_minor": 5
}
